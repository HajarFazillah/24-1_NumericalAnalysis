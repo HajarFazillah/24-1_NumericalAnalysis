{
  "cells": [
    {
      "cell_type": "markdown",
      "metadata": {
        "id": "view-in-github",
        "colab_type": "text"
      },
      "source": [
        "<a href=\"https://colab.research.google.com/github/HajarFazillah/24-1_NumericalAnalysis/blob/main/1_6list.ipynb\" target=\"_parent\"><img src=\"https://colab.research.google.com/assets/colab-badge.svg\" alt=\"Open In Colab\"/></a>"
      ]
    },
    {
      "cell_type": "code",
      "execution_count": null,
      "id": "37ef56e9",
      "metadata": {
        "id": "37ef56e9",
        "colab": {
          "base_uri": "https://localhost:8080/"
        },
        "outputId": "7b6ebabe-3a5d-47c7-e10b-65232a20b82d"
      },
      "outputs": [
        {
          "output_type": "execute_result",
          "data": {
            "text/plain": [
              "[1, 2, 3, 4, 5]"
            ]
          },
          "metadata": {},
          "execution_count": 1
        }
      ],
      "source": [
        "# 연산자를 통한 list 간의 결합도 가능하다!\n",
        "# 주의: list와 list가 더하기가 되어야지, list에 요소를 더할 수 없다\n",
        "# i.e., [1,2,3,4] + 5 는 불가\n",
        "\n",
        "[1,2,3,4] + [5]"
      ]
    },
    {
      "cell_type": "code",
      "source": [
        "a = [1,2,3,4]+[5]\n",
        "# save in variable\n",
        "\n",
        "print(a)"
      ],
      "metadata": {
        "id": "vgeFnPKhu3g6",
        "colab": {
          "base_uri": "https://localhost:8080/"
        },
        "outputId": "2750d5ae-8114-402c-c2a8-e71b0fea94e7"
      },
      "id": "vgeFnPKhu3g6",
      "execution_count": null,
      "outputs": [
        {
          "output_type": "stream",
          "name": "stdout",
          "text": [
            "[1, 2, 3, 4, 5]\n"
          ]
        }
      ]
    },
    {
      "cell_type": "code",
      "source": [
        "a.append(6)\n",
        "print(a)"
      ],
      "metadata": {
        "id": "751pAwL0v2xn",
        "colab": {
          "base_uri": "https://localhost:8080/"
        },
        "outputId": "6af08569-7f00-4647-8a52-aaa16e005774"
      },
      "id": "751pAwL0v2xn",
      "execution_count": null,
      "outputs": [
        {
          "output_type": "stream",
          "name": "stdout",
          "text": [
            "[1, 2, 3, 4, 5, 6]\n"
          ]
        }
      ]
    },
    {
      "cell_type": "code",
      "source": [
        "a[3]"
      ],
      "metadata": {
        "colab": {
          "base_uri": "https://localhost:8080/"
        },
        "id": "TNdajRjqkxCG",
        "outputId": "cb4da5a5-d283-4443-9888-0cfd2fed2303"
      },
      "id": "TNdajRjqkxCG",
      "execution_count": null,
      "outputs": [
        {
          "output_type": "execute_result",
          "data": {
            "text/plain": [
              "4"
            ]
          },
          "metadata": {},
          "execution_count": 4
        }
      ]
    },
    {
      "cell_type": "code",
      "source": [
        "a[2]=10\n",
        "print(a)"
      ],
      "metadata": {
        "id": "MB428qTCvm0t",
        "colab": {
          "base_uri": "https://localhost:8080/"
        },
        "outputId": "423a5661-11ea-4fe6-b2de-e6eb8c07fc5e"
      },
      "id": "MB428qTCvm0t",
      "execution_count": null,
      "outputs": [
        {
          "output_type": "stream",
          "name": "stdout",
          "text": [
            "[1, 2, 10, 4, 5, 6]\n"
          ]
        }
      ]
    },
    {
      "cell_type": "code",
      "source": [
        "# cf. list과 달리 list는 data가 변경가능한 mutable type이다.\n",
        "s = 'hello'\n",
        "s[0] ='H'\n",
        "print(s)"
      ],
      "metadata": {
        "id": "gqsPGdUwwYl3",
        "colab": {
          "base_uri": "https://localhost:8080/",
          "height": 193
        },
        "outputId": "e308dd31-71e3-4f60-d911-1ac3b8fc3a08"
      },
      "id": "gqsPGdUwwYl3",
      "execution_count": null,
      "outputs": [
        {
          "output_type": "error",
          "ename": "TypeError",
          "evalue": "'str' object does not support item assignment",
          "traceback": [
            "\u001b[0;31m---------------------------------------------------------------------------\u001b[0m",
            "\u001b[0;31mTypeError\u001b[0m                                 Traceback (most recent call last)",
            "\u001b[0;32m<ipython-input-6-92bc622d1da9>\u001b[0m in \u001b[0;36m<cell line: 3>\u001b[0;34m()\u001b[0m\n\u001b[1;32m      1\u001b[0m \u001b[0;31m# cf. list과 달리 list는 data가 변경가능한 mutable type이다.\u001b[0m\u001b[0;34m\u001b[0m\u001b[0;34m\u001b[0m\u001b[0m\n\u001b[1;32m      2\u001b[0m \u001b[0ms\u001b[0m \u001b[0;34m=\u001b[0m \u001b[0;34m'hello'\u001b[0m\u001b[0;34m\u001b[0m\u001b[0;34m\u001b[0m\u001b[0m\n\u001b[0;32m----> 3\u001b[0;31m \u001b[0ms\u001b[0m\u001b[0;34m[\u001b[0m\u001b[0;36m0\u001b[0m\u001b[0;34m]\u001b[0m \u001b[0;34m=\u001b[0m\u001b[0;34m'H'\u001b[0m\u001b[0;34m\u001b[0m\u001b[0;34m\u001b[0m\u001b[0m\n\u001b[0m\u001b[1;32m      4\u001b[0m \u001b[0mprint\u001b[0m\u001b[0;34m(\u001b[0m\u001b[0ms\u001b[0m\u001b[0;34m)\u001b[0m\u001b[0;34m\u001b[0m\u001b[0;34m\u001b[0m\u001b[0m\n",
            "\u001b[0;31mTypeError\u001b[0m: 'str' object does not support item assignment"
          ]
        }
      ]
    },
    {
      "cell_type": "code",
      "execution_count": null,
      "id": "4b419b5a",
      "metadata": {
        "id": "4b419b5a"
      },
      "outputs": [],
      "source": [
        "b = [1,3,6,9,7]\n",
        "c = b.sort()\n",
        "# 자동 정렬"
      ]
    },
    {
      "cell_type": "code",
      "source": [
        "print(c)\n",
        "# because c is an action, therefore none shown\n",
        "# must print(b) to show the result"
      ],
      "metadata": {
        "id": "v9uNvXBjvCw1",
        "colab": {
          "base_uri": "https://localhost:8080/"
        },
        "outputId": "00de0e53-d6d3-43df-e8a1-7c9d7991f105"
      },
      "id": "v9uNvXBjvCw1",
      "execution_count": null,
      "outputs": [
        {
          "output_type": "stream",
          "name": "stdout",
          "text": [
            "None\n"
          ]
        }
      ]
    },
    {
      "cell_type": "code",
      "source": [
        "print(b)"
      ],
      "metadata": {
        "id": "y9kgdHnTvIfP",
        "colab": {
          "base_uri": "https://localhost:8080/"
        },
        "outputId": "ee906ae0-42ce-41f8-dc2b-44bac1113c79"
      },
      "id": "y9kgdHnTvIfP",
      "execution_count": null,
      "outputs": [
        {
          "output_type": "stream",
          "name": "stdout",
          "text": [
            "[1, 3, 6, 7, 9]\n"
          ]
        }
      ]
    },
    {
      "cell_type": "code",
      "source": [
        "list1 = [1,2,3,'hello', [True, False]]"
      ],
      "metadata": {
        "id": "Bz7PSzBDvAGb"
      },
      "id": "Bz7PSzBDvAGb",
      "execution_count": null,
      "outputs": []
    },
    {
      "cell_type": "code",
      "source": [
        "print(list1)"
      ],
      "metadata": {
        "id": "mJBQA1StV_sL",
        "colab": {
          "base_uri": "https://localhost:8080/"
        },
        "outputId": "fba22fe3-7ccd-48f2-bbc7-b016d1aaa9f5"
      },
      "id": "mJBQA1StV_sL",
      "execution_count": null,
      "outputs": [
        {
          "output_type": "stream",
          "name": "stdout",
          "text": [
            "[1, 2, 3, 'hello', [True, False]]\n"
          ]
        }
      ]
    },
    {
      "cell_type": "code",
      "source": [
        "len(list1)"
      ],
      "metadata": {
        "id": "roeo-QBuWoCQ",
        "colab": {
          "base_uri": "https://localhost:8080/"
        },
        "outputId": "71061614-56b2-4cac-dd39-494208eb82ad"
      },
      "id": "roeo-QBuWoCQ",
      "execution_count": null,
      "outputs": [
        {
          "output_type": "execute_result",
          "data": {
            "text/plain": [
              "5"
            ]
          },
          "metadata": {},
          "execution_count": 12
        }
      ]
    },
    {
      "cell_type": "code",
      "source": [
        "list1[:4]"
      ],
      "metadata": {
        "id": "ySr9Dysbwt4l",
        "colab": {
          "base_uri": "https://localhost:8080/"
        },
        "outputId": "7a9678d0-b620-4752-e6ce-1eead77164b3"
      },
      "id": "ySr9Dysbwt4l",
      "execution_count": null,
      "outputs": [
        {
          "output_type": "execute_result",
          "data": {
            "text/plain": [
              "[1, 2, 3, 'hello']"
            ]
          },
          "metadata": {},
          "execution_count": 13
        }
      ]
    },
    {
      "cell_type": "code",
      "source": [
        "list1[-1]  # 마지막 인덱스를 의미함"
      ],
      "metadata": {
        "id": "jshqAAduwyFa",
        "colab": {
          "base_uri": "https://localhost:8080/"
        },
        "outputId": "b301ca79-cade-45fd-bf4c-c7e97f921032"
      },
      "id": "jshqAAduwyFa",
      "execution_count": null,
      "outputs": [
        {
          "output_type": "execute_result",
          "data": {
            "text/plain": [
              "[True, False]"
            ]
          },
          "metadata": {},
          "execution_count": 14
        }
      ]
    },
    {
      "cell_type": "code",
      "source": [
        "list1[-4:-2]"
      ],
      "metadata": {
        "id": "jJOzCJVTw8Im",
        "colab": {
          "base_uri": "https://localhost:8080/"
        },
        "outputId": "3ed48eff-cebf-4b92-9c91-47a71e4dd1b3"
      },
      "id": "jJOzCJVTw8Im",
      "execution_count": null,
      "outputs": [
        {
          "output_type": "execute_result",
          "data": {
            "text/plain": [
              "[2, 3]"
            ]
          },
          "metadata": {},
          "execution_count": 15
        }
      ]
    },
    {
      "cell_type": "code",
      "source": [
        "list1[::-1]"
      ],
      "metadata": {
        "id": "Z8Tdml6Yw-Y9",
        "colab": {
          "base_uri": "https://localhost:8080/"
        },
        "outputId": "3ef4f1f3-cec9-41b2-aaf1-bb06bb1f83a1"
      },
      "id": "Z8Tdml6Yw-Y9",
      "execution_count": null,
      "outputs": [
        {
          "output_type": "execute_result",
          "data": {
            "text/plain": [
              "[[True, False], 'hello', 3, 2, 1]"
            ]
          },
          "metadata": {},
          "execution_count": 16
        }
      ]
    },
    {
      "cell_type": "code",
      "source": [
        "list1[4][0]\n",
        "# [0] 표기법"
      ],
      "metadata": {
        "id": "8OVqFNVNw_qj",
        "colab": {
          "base_uri": "https://localhost:8080/"
        },
        "outputId": "4ff9abdb-4da8-42e6-9f1c-1a0a86a2e022"
      },
      "id": "8OVqFNVNw_qj",
      "execution_count": null,
      "outputs": [
        {
          "output_type": "execute_result",
          "data": {
            "text/plain": [
              "True"
            ]
          },
          "metadata": {},
          "execution_count": 22
        }
      ]
    },
    {
      "cell_type": "code",
      "source": [
        "list1[-1][1]"
      ],
      "metadata": {
        "id": "xXAl8B5yw_a_",
        "colab": {
          "base_uri": "https://localhost:8080/"
        },
        "outputId": "fe434112-f809-40c3-ee0e-ddc0ebc82251"
      },
      "id": "xXAl8B5yw_a_",
      "execution_count": null,
      "outputs": [
        {
          "output_type": "execute_result",
          "data": {
            "text/plain": [
              "False"
            ]
          },
          "metadata": {},
          "execution_count": 23
        }
      ]
    },
    {
      "cell_type": "code",
      "execution_count": null,
      "id": "05f35569",
      "metadata": {
        "id": "05f35569"
      },
      "outputs": [],
      "source": [
        "list1 = [1,2,3,'hello', [True, False]]\n",
        "# list1의 끝에서 두번째 요소를 3번 반복하여 출력하시오.\n",
        "\n"
      ]
    },
    {
      "cell_type": "code",
      "execution_count": null,
      "id": "d0e5e47b",
      "metadata": {
        "id": "d0e5e47b",
        "colab": {
          "base_uri": "https://localhost:8080/"
        },
        "outputId": "9b4b04a3-5074-496c-81fe-56c8892e4df4"
      },
      "outputs": [
        {
          "output_type": "stream",
          "name": "stdout",
          "text": [
            "[7, 5, 2, 10, 8]\n",
            "******************************\n",
            "[8, 10, 2, 5, 7]\n"
          ]
        }
      ],
      "source": [
        "list2 = [8,10,2,5,7]\n",
        "\n",
        "# list2자료를 거꾸로 만들어 list3변수에 대입하시오. 단, 원본 list2 는 변화시키지 않는다.\n",
        "list3 = [7,5,2,10,8]\n",
        "\n",
        "\n",
        "print(list3)\n",
        "print('*'*30)\n",
        "print(list2)  # slicing으로 거꾸로 만들었기 떄문에 원본인 list2는 사라지지 않는다."
      ]
    },
    {
      "cell_type": "code",
      "execution_count": null,
      "id": "4dbab902",
      "metadata": {
        "id": "4dbab902",
        "colab": {
          "base_uri": "https://localhost:8080/"
        },
        "outputId": "1bb84f42-817f-4911-b5a5-200a94695978"
      },
      "outputs": [
        {
          "output_type": "stream",
          "name": "stdout",
          "text": [
            "[7, 5, 2, 10, 8]\n"
          ]
        }
      ],
      "source": [
        "list2.reverse()\n",
        "print(list2)"
      ]
    },
    {
      "cell_type": "code",
      "execution_count": null,
      "id": "447b17d9",
      "metadata": {
        "id": "447b17d9",
        "colab": {
          "base_uri": "https://localhost:8080/"
        },
        "outputId": "15d68971-52ae-4ecd-aa75-978da439587a"
      },
      "outputs": [
        {
          "output_type": "stream",
          "name": "stdout",
          "text": [
            "[2, 5, 7, 8, 10]\n",
            "[7, 5, 2, 10, 8]\n"
          ]
        }
      ],
      "source": [
        "list4 = sorted(list2)\n",
        "\n",
        "print(list4)\n",
        "print(list2)"
      ]
    },
    {
      "cell_type": "code",
      "execution_count": null,
      "id": "84e3b890",
      "metadata": {
        "id": "84e3b890",
        "colab": {
          "base_uri": "https://localhost:8080/"
        },
        "outputId": "8c44599e-248d-42f6-8943-257ec482bc4a"
      },
      "outputs": [
        {
          "output_type": "stream",
          "name": "stdout",
          "text": [
            "[10, 8, 7, 5, 2]\n",
            "[7, 5, 2, 10, 8]\n"
          ]
        }
      ],
      "source": [
        "list5 = sorted(list2, reverse=True)  # 내림차순\n",
        "\n",
        "print(list5)\n",
        "print(list2)"
      ]
    },
    {
      "cell_type": "code",
      "execution_count": null,
      "id": "10464711",
      "metadata": {
        "id": "10464711",
        "colab": {
          "base_uri": "https://localhost:8080/"
        },
        "outputId": "d64b19db-29ee-4417-baf9-c43ef68d5d76"
      },
      "outputs": [
        {
          "output_type": "stream",
          "name": "stdout",
          "text": [
            "[2, 5, 7, 8, 10]\n"
          ]
        }
      ],
      "source": [
        "# 한편, .sort()는 원본을 바뀐다.\n",
        "list2.sort()\n",
        "\n",
        "print(list2)"
      ]
    },
    {
      "cell_type": "code",
      "execution_count": null,
      "id": "f03c02a2",
      "metadata": {
        "id": "f03c02a2",
        "colab": {
          "base_uri": "https://localhost:8080/"
        },
        "outputId": "eb1dd4a0-5cd7-4857-dbe3-e25948cb19cb"
      },
      "outputs": [
        {
          "output_type": "stream",
          "name": "stdout",
          "text": [
            "['10', '2', '5', '7', '8']\n"
          ]
        }
      ],
      "source": [
        "list6 = ['8','10','2','5','7']\n",
        "# not the number, but the string\n",
        "list6.sort()\n",
        "\n",
        "print(list6)"
      ]
    },
    {
      "cell_type": "code",
      "source": [
        "a = 'Apple, Orange, Kiwi'\n",
        "print(a)"
      ],
      "metadata": {
        "id": "kPu7sVOya7ZG",
        "colab": {
          "base_uri": "https://localhost:8080/"
        },
        "outputId": "f1b76f0c-e041-45e9-bbcb-4aa1e9d13f02"
      },
      "id": "kPu7sVOya7ZG",
      "execution_count": null,
      "outputs": [
        {
          "output_type": "stream",
          "name": "stdout",
          "text": [
            "Apple, Orange, Kiwi\n"
          ]
        }
      ]
    },
    {
      "cell_type": "code",
      "source": [
        "a[0]\n",
        "# only take the letter A from Apple\n",
        "# as the index counts each one of it"
      ],
      "metadata": {
        "colab": {
          "base_uri": "https://localhost:8080/",
          "height": 35
        },
        "id": "wryXvzywb3Co",
        "outputId": "ed06f60f-6dee-44f9-cc5e-8fa84cd7c3d5"
      },
      "id": "wryXvzywb3Co",
      "execution_count": null,
      "outputs": [
        {
          "output_type": "execute_result",
          "data": {
            "text/plain": [
              "'A'"
            ],
            "application/vnd.google.colaboratory.intrinsic+json": {
              "type": "string"
            }
          },
          "metadata": {},
          "execution_count": 38
        }
      ]
    },
    {
      "cell_type": "code",
      "source": [
        "b = a.split(',')  #.split 은 string을 쪼개서 list에 넣는 것\n",
        "print(b)"
      ],
      "metadata": {
        "id": "YzXItx_dxosK",
        "colab": {
          "base_uri": "https://localhost:8080/"
        },
        "outputId": "2f95c778-402c-46b9-b471-236413cb7a3d"
      },
      "id": "YzXItx_dxosK",
      "execution_count": null,
      "outputs": [
        {
          "output_type": "stream",
          "name": "stdout",
          "text": [
            "['Apple', ' Orange', ' Kiwi']\n"
          ]
        }
      ]
    },
    {
      "cell_type": "code",
      "source": [
        "b[0]"
      ],
      "metadata": {
        "id": "iypmNX2HZd67",
        "colab": {
          "base_uri": "https://localhost:8080/",
          "height": 35
        },
        "outputId": "a323676f-e615-4b94-b207-eef819d7bda3"
      },
      "id": "iypmNX2HZd67",
      "execution_count": null,
      "outputs": [
        {
          "output_type": "execute_result",
          "data": {
            "text/plain": [
              "'Apple'"
            ],
            "application/vnd.google.colaboratory.intrinsic+json": {
              "type": "string"
            }
          },
          "metadata": {},
          "execution_count": 32
        }
      ]
    },
    {
      "cell_type": "code",
      "source": [
        "a[:5]"
      ],
      "metadata": {
        "id": "mOvRNq8SZgB8",
        "colab": {
          "base_uri": "https://localhost:8080/",
          "height": 35
        },
        "outputId": "02b198c0-1c55-4433-c814-fac85aac907b"
      },
      "id": "mOvRNq8SZgB8",
      "execution_count": null,
      "outputs": [
        {
          "output_type": "execute_result",
          "data": {
            "text/plain": [
              "'Apple'"
            ],
            "application/vnd.google.colaboratory.intrinsic+json": {
              "type": "string"
            }
          },
          "metadata": {},
          "execution_count": 33
        }
      ]
    },
    {
      "cell_type": "code",
      "source": [
        "c = a.split()\n",
        "print(c)"
      ],
      "metadata": {
        "id": "gHWSVVHcxpZg",
        "colab": {
          "base_uri": "https://localhost:8080/"
        },
        "outputId": "d474848c-e918-4f89-f3cb-22763998e9f1"
      },
      "id": "gHWSVVHcxpZg",
      "execution_count": null,
      "outputs": [
        {
          "output_type": "stream",
          "name": "stdout",
          "text": [
            "['Apple,', 'Orange,', 'Kiwi']\n"
          ]
        }
      ]
    },
    {
      "cell_type": "code",
      "source": [
        "c[0]"
      ],
      "metadata": {
        "id": "hK9IXOg3xyLH",
        "colab": {
          "base_uri": "https://localhost:8080/",
          "height": 35
        },
        "outputId": "132fcd3e-f9ca-44ea-e2bc-8f3497f2df15"
      },
      "id": "hK9IXOg3xyLH",
      "execution_count": null,
      "outputs": [
        {
          "output_type": "execute_result",
          "data": {
            "text/plain": [
              "'Apple,'"
            ],
            "application/vnd.google.colaboratory.intrinsic+json": {
              "type": "string"
            }
          },
          "metadata": {},
          "execution_count": 35
        }
      ]
    },
    {
      "cell_type": "code",
      "source": [],
      "metadata": {
        "id": "jDcDn1gqZuNn"
      },
      "id": "jDcDn1gqZuNn",
      "execution_count": null,
      "outputs": []
    }
  ],
  "metadata": {
    "kernelspec": {
      "display_name": "Python 3 (ipykernel)",
      "language": "python",
      "name": "python3"
    },
    "language_info": {
      "codemirror_mode": {
        "name": "ipython",
        "version": 3
      },
      "file_extension": ".py",
      "mimetype": "text/x-python",
      "name": "python",
      "nbconvert_exporter": "python",
      "pygments_lexer": "ipython3",
      "version": "3.11.2"
    },
    "colab": {
      "provenance": [],
      "include_colab_link": true
    }
  },
  "nbformat": 4,
  "nbformat_minor": 5
}