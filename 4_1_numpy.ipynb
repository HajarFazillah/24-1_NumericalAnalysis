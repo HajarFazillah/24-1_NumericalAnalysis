{
  "cells": [
    {
      "cell_type": "markdown",
      "metadata": {
        "id": "view-in-github",
        "colab_type": "text"
      },
      "source": [
        "<a href=\"https://colab.research.google.com/github/HajarFazillah/24-1_NumericalAnalysis/blob/main/4_1_numpy.ipynb\" target=\"_parent\"><img src=\"https://colab.research.google.com/assets/colab-badge.svg\" alt=\"Open In Colab\"/></a>"
      ]
    },
    {
      "cell_type": "code",
      "execution_count": null,
      "metadata": {
        "id": "3J7ZQwwAfEnH"
      },
      "outputs": [],
      "source": [
        "import numpy  as np  # 기본 모듈이 아니므로 설치 필요!!\n",
        "# numpy : number python\n",
        "# shortform using it 'as np'"
      ]
    },
    {
      "cell_type": "markdown",
      "metadata": {
        "id": "yDv48Sh80PL5"
      },
      "source": [
        "```sum()```  # 기본 내장 함수\n",
        "\n",
        "```np.sum()```  # numpy 라이브러리에서 가져온 함수"
      ]
    },
    {
      "cell_type": "code",
      "execution_count": null,
      "metadata": {
        "id": "XLV4R4-3hSDF"
      },
      "outputs": [],
      "source": [
        "list123 = [1,2,3]"
      ]
    },
    {
      "cell_type": "code",
      "execution_count": null,
      "metadata": {
        "id": "zUmLV4dxg_uC",
        "colab": {
          "base_uri": "https://localhost:8080/"
        },
        "outputId": "eb28eada-bb2f-48f2-b21a-2ca9719a3f9f"
      },
      "outputs": [
        {
          "output_type": "execute_result",
          "data": {
            "text/plain": [
              "array([1, 2, 3])"
            ]
          },
          "metadata": {},
          "execution_count": 4
        }
      ],
      "source": [
        "np.array(list123)"
      ]
    },
    {
      "cell_type": "code",
      "execution_count": null,
      "metadata": {
        "id": "qpPw0KqNtYQy",
        "colab": {
          "base_uri": "https://localhost:8080/"
        },
        "outputId": "166c05f0-ce53-4a84-93cc-dba246bec4bd"
      },
      "outputs": [
        {
          "output_type": "execute_result",
          "data": {
            "text/plain": [
              "range(1, 4)"
            ]
          },
          "metadata": {},
          "execution_count": 5
        }
      ],
      "source": [
        "range(1,4)"
      ]
    },
    {
      "cell_type": "code",
      "execution_count": null,
      "metadata": {
        "id": "B_pSGfmBg_ro",
        "colab": {
          "base_uri": "https://localhost:8080/"
        },
        "outputId": "f7be12c2-6106-4638-e23a-99622e8d6a42"
      },
      "outputs": [
        {
          "output_type": "execute_result",
          "data": {
            "text/plain": [
              "array([1, 2, 3])"
            ]
          },
          "metadata": {},
          "execution_count": 8
        }
      ],
      "source": [
        "np.array(range(1,4))  # cf. list(range(1,4))\n",
        "# show the type"
      ]
    },
    {
      "cell_type": "code",
      "execution_count": null,
      "metadata": {
        "id": "ncVGxmIW-G7f",
        "colab": {
          "base_uri": "https://localhost:8080/"
        },
        "outputId": "4fdb4305-903e-4c3d-c23a-f96a5d413956"
      },
      "outputs": [
        {
          "output_type": "stream",
          "name": "stdout",
          "text": [
            "[1 2 3]\n"
          ]
        }
      ],
      "source": [
        "print(np.array(range(1,4)))"
      ]
    },
    {
      "cell_type": "code",
      "execution_count": null,
      "metadata": {
        "id": "CeOEFGcdlabs",
        "colab": {
          "base_uri": "https://localhost:8080/"
        },
        "outputId": "3571466a-a410-4dd1-ded4-c05ec75ea44a"
      },
      "outputs": [
        {
          "output_type": "execute_result",
          "data": {
            "text/plain": [
              "array([0, 1, 2, 3])"
            ]
          },
          "metadata": {},
          "execution_count": 11
        }
      ],
      "source": [
        "np.arange(4) # numpy array range"
      ]
    },
    {
      "cell_type": "code",
      "execution_count": null,
      "metadata": {
        "id": "fr1Z9pjTlpcM",
        "colab": {
          "base_uri": "https://localhost:8080/"
        },
        "outputId": "51631ef5-3615-4bc6-87e7-995859b532d8"
      },
      "outputs": [
        {
          "output_type": "execute_result",
          "data": {
            "text/plain": [
              "array([1, 3, 5, 7, 9])"
            ]
          },
          "metadata": {},
          "execution_count": 12
        }
      ],
      "source": [
        "np.arange(1,10,2)"
      ]
    },
    {
      "cell_type": "code",
      "execution_count": null,
      "metadata": {
        "id": "gL_WMiXF-GWF",
        "colab": {
          "base_uri": "https://localhost:8080/"
        },
        "outputId": "55b2ef6d-3a02-4e2f-f426-53ccf48b909f"
      },
      "outputs": [
        {
          "output_type": "stream",
          "name": "stdout",
          "text": [
            "[1 3 5 7 9]\n"
          ]
        }
      ],
      "source": [
        "print(np.arange(1,10,2))"
      ]
    },
    {
      "cell_type": "code",
      "execution_count": null,
      "metadata": {
        "id": "6_3MG5nig_kA",
        "colab": {
          "base_uri": "https://localhost:8080/"
        },
        "outputId": "b20a668d-51e6-49fb-c2eb-69a94f124291"
      },
      "outputs": [
        {
          "output_type": "stream",
          "name": "stdout",
          "text": [
            "[0, 0, 0, 0]\n",
            "[1. 1. 1. 1.]\n"
          ]
        }
      ],
      "source": [
        "#list와 array 차이 : 요소 구분 표시 - ',' 와 ' '\n",
        "# hwo to compare list vs array (check how the output looks like)\n",
        "# list (shows comma, in between range components)\n",
        "# array (shows ' ', blank space in between the range components)\n",
        "\n",
        "list_1=[0,0,0,0]\n",
        "print(list_1)\n",
        "\n",
        "arr_1=np.ones([4])  # [4] - 1차원 배열 4개, float타입 원소값 1\n",
        "#  why does it show . point in between? bcs of float type 1.0 - without the 0\n",
        "print(arr_1)"
      ]
    },
    {
      "cell_type": "code",
      "execution_count": null,
      "metadata": {
        "id": "eSLMlwZZinrD",
        "colab": {
          "base_uri": "https://localhost:8080/"
        },
        "outputId": "8641f415-e58d-4bf7-8190-b4ab7279ac1f"
      },
      "outputs": [
        {
          "output_type": "stream",
          "name": "stdout",
          "text": [
            "[0, 0, 0, 0, 0, 0, 0, 0, 0, 0, 0, 0]\n",
            "[3. 3. 3. 3.]\n"
          ]
        }
      ],
      "source": [
        "print(list_1*3)\n",
        "print(arr_1*3)"
      ]
    },
    {
      "cell_type": "code",
      "execution_count": null,
      "metadata": {
        "id": "Wm0IyyUJi2ja",
        "colab": {
          "base_uri": "https://localhost:8080/"
        },
        "outputId": "e9d2e65e-0489-4c96-f054-905f2ab18378"
      },
      "outputs": [
        {
          "output_type": "stream",
          "name": "stdout",
          "text": [
            "[0, 0, 0, 0, 1, 1]\n",
            "[2. 3. 4. 5.]\n"
          ]
        }
      ],
      "source": [
        "list_2 = [1,1]\n",
        "arr_2 = [1,2,3,4]\n",
        "\n",
        "print(list_1+list_2)\n",
        "print(arr_1 + arr_2)"
      ]
    },
    {
      "cell_type": "code",
      "execution_count": null,
      "metadata": {
        "id": "QbCC6VOTjKDb",
        "colab": {
          "base_uri": "https://localhost:8080/"
        },
        "outputId": "17ce12ef-dba8-437b-e36f-d6b8d7eeff2d"
      },
      "outputs": [
        {
          "output_type": "stream",
          "name": "stdout",
          "text": [
            "[0, 0, 0, 0, 7]\n",
            "[8. 8. 8. 8.]\n"
          ]
        }
      ],
      "source": [
        "c = [7]\n",
        "\n",
        "print(list_1+ c)\n",
        "print(arr_1 + c)"
      ]
    },
    {
      "cell_type": "code",
      "execution_count": null,
      "metadata": {
        "id": "1Rlu5c1GjWEr",
        "colab": {
          "base_uri": "https://localhost:8080/"
        },
        "outputId": "fc63b71a-7abb-4c33-b248-bb3144e985c1"
      },
      "outputs": [
        {
          "output_type": "stream",
          "name": "stdout",
          "text": [
            "[11. 11. 11. 11.]\n"
          ]
        }
      ],
      "source": [
        "d = 10\n",
        "\n",
        "\n",
        "# print(list_1+ d)  # type이 달라서 + 연산 오류\n",
        "print(arr_1 + d)"
      ]
    },
    {
      "cell_type": "code",
      "execution_count": null,
      "metadata": {
        "id": "1KdpyyXB-oiX",
        "colab": {
          "base_uri": "https://localhost:8080/",
          "height": 158
        },
        "outputId": "de1b56b3-e3d4-4136-dd0e-93b666a733c2"
      },
      "outputs": [
        {
          "output_type": "error",
          "ename": "ValueError",
          "evalue": "operands could not be broadcast together with shapes (4,) (2,) ",
          "traceback": [
            "\u001b[0;31m---------------------------------------------------------------------------\u001b[0m",
            "\u001b[0;31mValueError\u001b[0m                                Traceback (most recent call last)",
            "\u001b[0;32m<ipython-input-25-13e639404dd9>\u001b[0m in \u001b[0;36m<cell line: 1>\u001b[0;34m()\u001b[0m\n\u001b[0;32m----> 1\u001b[0;31m \u001b[0mprint\u001b[0m\u001b[0;34m(\u001b[0m\u001b[0marr_1\u001b[0m\u001b[0;34m+\u001b[0m\u001b[0mlist_2\u001b[0m\u001b[0;34m)\u001b[0m\u001b[0;34m\u001b[0m\u001b[0;34m\u001b[0m\u001b[0m\n\u001b[0m\u001b[1;32m      2\u001b[0m \u001b[0;31m# 생각보다 array 융통성이 없음\u001b[0m\u001b[0;34m\u001b[0m\u001b[0;34m\u001b[0m\u001b[0m\n",
            "\u001b[0;31mValueError\u001b[0m: operands could not be broadcast together with shapes (4,) (2,) "
          ]
        }
      ],
      "source": [
        "print(arr_1+list_2)\n",
        "# 생각보다 array 융통성이 없음"
      ]
    },
    {
      "cell_type": "code",
      "execution_count": null,
      "metadata": {
        "id": "YiWO6Ypzh-t-",
        "colab": {
          "base_uri": "https://localhost:8080/"
        },
        "outputId": "e2fd0e44-0284-4e61-9369-ae2b7320be5f"
      },
      "outputs": [
        {
          "output_type": "stream",
          "name": "stdout",
          "text": [
            "[[0. 0. 0.]\n",
            " [0. 0. 0.]]\n"
          ]
        }
      ],
      "source": [
        "print(np.zeros([2,3]))\n",
        "#  row, col (r,c))"
      ]
    },
    {
      "cell_type": "code",
      "execution_count": null,
      "metadata": {
        "id": "i3SosSUCiVel",
        "colab": {
          "base_uri": "https://localhost:8080/"
        },
        "outputId": "c9cbf3df-3df1-42e3-df5f-5415197bb855"
      },
      "outputs": [
        {
          "output_type": "stream",
          "name": "stdout",
          "text": [
            "[[[0. 0. 0.]\n",
            "  [0. 0. 0.]\n",
            "  [0. 0. 0.]\n",
            "  [0. 0. 0.]]\n",
            "\n",
            " [[0. 0. 0.]\n",
            "  [0. 0. 0.]\n",
            "  [0. 0. 0.]\n",
            "  [0. 0. 0.]]]\n"
          ]
        }
      ],
      "source": [
        "zeros=np.zeros([2,4,3], dtype=np.float64)\n",
        "# group, row, col (g,r,c)\n",
        "print(zeros)"
      ]
    },
    {
      "cell_type": "code",
      "execution_count": null,
      "metadata": {
        "id": "TuZbF7V5iMh3",
        "colab": {
          "base_uri": "https://localhost:8080/"
        },
        "outputId": "384f2432-b53f-4fe1-e36c-db85234de0f5"
      },
      "outputs": [
        {
          "output_type": "stream",
          "name": "stdout",
          "text": [
            "['1' '2' 'A' 'True']\n"
          ]
        }
      ],
      "source": [
        "print(np.array([1,2,'A',True]))\n",
        "# list 와 다르게, array는 각 요소의 타입이 통일되어야한다.\n",
        "# list 장점 - can put everything in any form\n",
        "# array 특징 - must be on its own"
      ]
    },
    {
      "cell_type": "code",
      "source": [
        "# arr_2[0]\n",
        "arr_2[0][1]"
      ],
      "metadata": {
        "colab": {
          "base_uri": "https://localhost:8080/"
        },
        "id": "xcm9uktajN_0",
        "outputId": "c6d1832a-749b-45f0-f0f6-6316636966ea"
      },
      "execution_count": null,
      "outputs": [
        {
          "output_type": "execute_result",
          "data": {
            "text/plain": [
              "2"
            ]
          },
          "metadata": {},
          "execution_count": 36
        }
      ]
    },
    {
      "cell_type": "code",
      "execution_count": null,
      "metadata": {
        "id": "6THmXSvXiRh3",
        "colab": {
          "base_uri": "https://localhost:8080/"
        },
        "outputId": "ec4c466e-d136-47c5-d8f9-9f778431ff35"
      },
      "outputs": [
        {
          "output_type": "stream",
          "name": "stdout",
          "text": [
            "3\n",
            "2\n"
          ]
        }
      ],
      "source": [
        "arr_2 = np.array([[1,2],[3,4],[5,6]])\n",
        "\n",
        "print(len(arr_2)) # length of arr_2 = 3\n",
        "print(arr_2.ndim) # dimension of arr_2 = 2 [1,2]"
      ]
    },
    {
      "cell_type": "code",
      "execution_count": null,
      "metadata": {
        "id": "VlZ3vqhvkAf9",
        "colab": {
          "base_uri": "https://localhost:8080/"
        },
        "outputId": "00743b0d-ddf2-4942-f200-db8fcac0227c"
      },
      "outputs": [
        {
          "output_type": "stream",
          "name": "stdout",
          "text": [
            "[[0.67416853 0.40171699 0.38253671 0.54128379 0.96982904]\n",
            " [0.6575075  0.74894867 0.51882796 0.88011321 0.75334887]\n",
            " [0.62714944 0.11431303 0.55590794 0.65728203 0.90028365]]\n"
          ]
        }
      ],
      "source": [
        "print(np.random.rand(3,5))\n",
        "# no need to import random separately, numpy has its own random function"
      ]
    },
    {
      "cell_type": "code",
      "execution_count": null,
      "metadata": {
        "id": "-FZgHnYh_IOc"
      },
      "outputs": [],
      "source": [
        "a1 = np.array([1,2,2,3,4,5])"
      ]
    },
    {
      "cell_type": "code",
      "execution_count": null,
      "metadata": {
        "id": "NxND3VaZkcig",
        "colab": {
          "base_uri": "https://localhost:8080/"
        },
        "outputId": "33ae4768-9d1c-40db-9e79-4fc6d9e084b8"
      },
      "outputs": [
        {
          "output_type": "stream",
          "name": "stdout",
          "text": [
            "[[1 2 2]\n",
            " [3 4 5]]\n"
          ]
        }
      ],
      "source": [
        "b1 = a1.reshape(2,3)\n",
        "# case: i want to organise neatly into 2 rows, 3 columns\n",
        "# use the reshape function to organise\n",
        "\n",
        "print(b1)"
      ]
    },
    {
      "cell_type": "code",
      "execution_count": null,
      "metadata": {
        "id": "AKFggPA3wcIL",
        "colab": {
          "base_uri": "https://localhost:8080/"
        },
        "outputId": "b81c71a1-a661-4be4-916f-7e5ae662feb7"
      },
      "outputs": [
        {
          "output_type": "execute_result",
          "data": {
            "text/plain": [
              "array([1, 2, 2])"
            ]
          },
          "metadata": {},
          "execution_count": 43
        }
      ],
      "source": [
        "b1[0]"
      ]
    },
    {
      "cell_type": "code",
      "execution_count": null,
      "metadata": {
        "id": "Dup81uvdkkmv",
        "colab": {
          "base_uri": "https://localhost:8080/"
        },
        "outputId": "7a22fc63-1729-433b-91a9-f6bd575cb0df"
      },
      "outputs": [
        {
          "output_type": "stream",
          "name": "stdout",
          "text": [
            "[[1 2]\n",
            " [2 3]\n",
            " [4 5]]\n"
          ]
        }
      ],
      "source": [
        "c1 = a1.reshape(3,2)\n",
        "\n",
        "print(c1)"
      ]
    },
    {
      "cell_type": "code",
      "execution_count": null,
      "metadata": {
        "id": "xv5K6gvBy3FT"
      },
      "outputs": [],
      "source": []
    },
    {
      "cell_type": "code",
      "execution_count": null,
      "metadata": {
        "id": "8uFVKN7Lk3tO",
        "colab": {
          "base_uri": "https://localhost:8080/"
        },
        "outputId": "5e64cf40-fcc8-42e6-a608-148b3f459d46"
      },
      "outputs": [
        {
          "output_type": "stream",
          "name": "stdout",
          "text": [
            "[[0. 1. 2.]\n",
            " [3. 4. 5.]\n",
            " [6. 7. 8.]]\n"
          ]
        }
      ],
      "source": [
        "x = np.arange(9.).reshape(3, 3)\n",
        "# because 9. is written, it will be in float type\n",
        "\n",
        "print(x)"
      ]
    },
    {
      "cell_type": "code",
      "execution_count": null,
      "metadata": {
        "id": "MZTENS2Vm0CA",
        "colab": {
          "base_uri": "https://localhost:8080/"
        },
        "outputId": "9d3b1372-0627-4b12-d277-d90f62f9bb82"
      },
      "outputs": [
        {
          "output_type": "execute_result",
          "data": {
            "text/plain": [
              "array([[0., 3., 6.],\n",
              "       [1., 4., 7.],\n",
              "       [2., 5., 8.]])"
            ]
          },
          "metadata": {},
          "execution_count": 49
        }
      ],
      "source": [
        "x.T # .T - transpose the matrix 선형대수학\n",
        "# x.transpose()"
      ]
    },
    {
      "cell_type": "code",
      "execution_count": null,
      "metadata": {
        "id": "Vvm9d5x_y2ac"
      },
      "outputs": [],
      "source": []
    },
    {
      "cell_type": "code",
      "execution_count": null,
      "metadata": {
        "id": "M33pTA95nFUY",
        "colab": {
          "base_uri": "https://localhost:8080/"
        },
        "outputId": "605aab22-f863-41de-b111-7fb56d9b7c45"
      },
      "outputs": [
        {
          "output_type": "stream",
          "name": "stdout",
          "text": [
            "[140.49   0.97  40.68  41.53  55.7   57.21  98.2   99.19 109.96 111.47\n",
            "  35.71  36.27  87.85  89.11  30.22]\n"
          ]
        }
      ],
      "source": [
        "# 주식가격 자료\n",
        "stocks = np.array( [140.49, 0.97, 40.68, 41.53, 55.7, 57.21, 98.2, 99.19, 109.96, 111.47, 35.71, 36.27, 87.85, 89.11, 30.22])\n",
        "\n",
        "print(stocks)"
      ]
    },
    {
      "cell_type": "code",
      "execution_count": null,
      "metadata": {
        "id": "oNn23lZ3xHxp",
        "colab": {
          "base_uri": "https://localhost:8080/"
        },
        "outputId": "452e4391-b032-4285-e0e7-14999e3ba2f4"
      },
      "outputs": [
        {
          "output_type": "execute_result",
          "data": {
            "text/plain": [
              "15"
            ]
          },
          "metadata": {},
          "execution_count": 51
        }
      ],
      "source": [
        "len(stocks)"
      ]
    },
    {
      "cell_type": "code",
      "execution_count": null,
      "metadata": {
        "id": "1kSfj1-Oyf3T",
        "colab": {
          "base_uri": "https://localhost:8080/"
        },
        "outputId": "8d3694b5-182b-4170-fd5b-26afa1a2b799"
      },
      "outputs": [
        {
          "output_type": "stream",
          "name": "stdout",
          "text": [
            "[[140.49   0.97  40.68  41.53  55.7 ]\n",
            " [ 57.21  98.2   99.19 109.96 111.47]\n",
            " [ 35.71  36.27  87.85  89.11  30.22]]\n"
          ]
        }
      ],
      "source": [
        "# 영업일 5일 기준으로 보기\n",
        "# stocks = stocks.reshape(3,5)\n",
        "# stocks = stocks.reshape(3, -1)\n",
        "stocks = stocks.reshape(-1,5)\n",
        "\n",
        "print(stocks)"
      ]
    },
    {
      "cell_type": "code",
      "execution_count": null,
      "metadata": {
        "id": "IKSTqSjpnKsp",
        "colab": {
          "base_uri": "https://localhost:8080/"
        },
        "outputId": "f4d9fe6a-3dd8-4c6c-fa2e-079a2bc80ca6"
      },
      "outputs": [
        {
          "output_type": "stream",
          "name": "stdout",
          "text": [
            "changes1:  [-83.28  97.23  58.51  68.43  55.77]\n",
            "changes2:  [  0.   -61.93   0.     0.   -81.25]\n"
          ]
        }
      ],
      "source": [
        "# 주식가격의 변동이 1보다 크면 변동값을 담고, 변동이 30이하이면 0을 갖는 array\n",
        "changes1=np.where(np.abs(stocks[1]-stocks[0])>30.00, stocks[1]-stocks[0], 0)\n",
        "changes2=np.where(np.abs(stocks[2]-stocks[1])>30.00, stocks[2]-stocks[1], 0)\n",
        "# .where - stocks[1] the 2nd week, if it is above 30.00,\n",
        "\n",
        "print('changes1: ',changes1)\n",
        "print('changes2: ',changes2)"
      ]
    },
    {
      "cell_type": "code",
      "execution_count": null,
      "metadata": {
        "id": "lYYbjRE5nrrF",
        "colab": {
          "base_uri": "https://localhost:8080/"
        },
        "outputId": "3e0ad0a2-8316-4cc4-f6fb-f6e1e5e73150"
      },
      "outputs": [
        {
          "output_type": "stream",
          "name": "stdout",
          "text": [
            "np.mean(np.arange(1,11) 5.5\n",
            "np.median(np.array(1,2,3,4, 9,9,10)) 6.5\n",
            "np.std(np.array(1,2,3,4, 9,9,10)) 3.4798527267687636\n"
          ]
        }
      ],
      "source": [
        "# ------배열집계\n",
        "# mean(), median(), sum(), std(), min(), max()\n",
        "\n",
        "print('np.mean(np.arange(1,11)', np.mean(np.arange(1, 11)))\n",
        "print('np.median(np.array(1,2,3,4, 9,9,10))', np.median(np.array([1, 2, 3, 4, 9, 9, 9, 10])))\n",
        "print('np.std(np.array(1,2,3,4, 9,9,10))', np.std(np.array([1, 2, 3, 4, 9, 9, 9, 10])))"
      ]
    },
    {
      "cell_type": "code",
      "source": [],
      "metadata": {
        "id": "JAUvzysuAlqz"
      },
      "execution_count": null,
      "outputs": []
    }
  ],
  "metadata": {
    "colab": {
      "provenance": [],
      "include_colab_link": true
    },
    "kernelspec": {
      "display_name": "Python 3",
      "name": "python3"
    },
    "language_info": {
      "name": "python"
    }
  },
  "nbformat": 4,
  "nbformat_minor": 0
}