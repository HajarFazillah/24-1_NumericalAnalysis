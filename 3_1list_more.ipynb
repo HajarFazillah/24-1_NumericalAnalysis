{
  "cells": [
    {
      "cell_type": "markdown",
      "metadata": {
        "id": "view-in-github",
        "colab_type": "text"
      },
      "source": [
        "<a href=\"https://colab.research.google.com/github/HajarFazillah/24-1_NumericalAnalysis/blob/main/3_1list_more.ipynb\" target=\"_parent\"><img src=\"https://colab.research.google.com/assets/colab-badge.svg\" alt=\"Open In Colab\"/></a>"
      ]
    },
    {
      "cell_type": "code",
      "source": [
        "a=[1,2,3,4]"
      ],
      "metadata": {
        "id": "2Jb3UeVtM1TU"
      },
      "id": "2Jb3UeVtM1TU",
      "execution_count": null,
      "outputs": []
    },
    {
      "cell_type": "code",
      "source": [
        "for i in a:\n",
        "  print(i)"
      ],
      "metadata": {
        "id": "cRWR6UMPiigo",
        "colab": {
          "base_uri": "https://localhost:8080/"
        },
        "outputId": "512f8b9d-fe01-433d-8a03-f396d263a2bd"
      },
      "id": "cRWR6UMPiigo",
      "execution_count": null,
      "outputs": [
        {
          "output_type": "stream",
          "name": "stdout",
          "text": [
            "1\n",
            "2\n",
            "3\n",
            "4\n"
          ]
        }
      ]
    },
    {
      "cell_type": "code",
      "execution_count": null,
      "id": "99f70824",
      "metadata": {
        "id": "99f70824",
        "colab": {
          "base_uri": "https://localhost:8080/"
        },
        "outputId": "df70c9d8-ad61-423f-fc63-afe1bd83a0a6"
      },
      "outputs": [
        {
          "output_type": "stream",
          "name": "stdout",
          "text": [
            "[3, 6, 9, 12]\n"
          ]
        }
      ],
      "source": [
        "result1=[]  # result shown in list form\n",
        "# append : 리스트에서 추가함\n",
        "\n",
        "for num in a:\n",
        "    result1.append(num*3)\n",
        "\n",
        "print(result1)"
      ]
    },
    {
      "cell_type": "code",
      "execution_count": null,
      "id": "0b6083a3",
      "metadata": {
        "id": "0b6083a3",
        "colab": {
          "base_uri": "https://localhost:8080/"
        },
        "outputId": "4c95023f-1e1f-4b02-f706-518227da0729"
      },
      "outputs": [
        {
          "output_type": "stream",
          "name": "stdout",
          "text": [
            "[3, 6, 9, 12]\n"
          ]
        }
      ],
      "source": [
        "result2=[]\n",
        "\n",
        "result2=[num*3 for num in a]  # for구문 부터 해석 시작!!\n",
        "\n",
        "print(result2)"
      ]
    },
    {
      "cell_type": "code",
      "execution_count": null,
      "id": "70e4f251",
      "metadata": {
        "id": "70e4f251",
        "colab": {
          "base_uri": "https://localhost:8080/"
        },
        "outputId": "2a5a1e0d-1a78-4cbf-f3cd-70d32d074f2b"
      },
      "outputs": [
        {
          "output_type": "stream",
          "name": "stdout",
          "text": [
            "[6, 12]\n"
          ]
        }
      ],
      "source": [
        "result3=[]\n",
        "\n",
        "result3=[num*3 for num in a if num%2==0]  # else구문 없음\n",
        "# num%2==0 : even number\n",
        "\n",
        "print(result3)\n",
        "\n",
        "\n",
        "# result3=[]\n",
        "#\n",
        "# for num in a:\n",
        "#     if num%2==0:\n",
        "#        result3.append(num*3)\n",
        "#\n",
        "# print(result3)"
      ]
    },
    {
      "cell_type": "code",
      "source": [],
      "metadata": {
        "id": "oaV57D3PNG8d"
      },
      "id": "oaV57D3PNG8d",
      "execution_count": null,
      "outputs": []
    },
    {
      "cell_type": "code",
      "execution_count": null,
      "id": "40762673",
      "metadata": {
        "id": "40762673",
        "colab": {
          "base_uri": "https://localhost:8080/"
        },
        "outputId": "74788f10-6260-44fe-e070-d8cde5c44bc3"
      },
      "outputs": [
        {
          "output_type": "stream",
          "name": "stdout",
          "text": [
            "[2, 4, 6, 8, 10, 12, 14, 16, 18, 3, 6, 9, 12, 15, 18, 21, 24, 27, 4, 8, 12, 16, 20, 24, 28, 32, 36, 5, 10, 15, 20, 25, 30, 35, 40, 45, 6, 12, 18, 24, 30, 36, 42, 48, 54, 7, 14, 21, 28, 35, 42, 49, 56, 63, 8, 16, 24, 32, 40, 48, 56, 64, 72, 9, 18, 27, 36, 45, 54, 63, 72, 81]\n"
          ]
        }
      ],
      "source": [
        "# result=[]\n",
        "\n",
        "# case: want to round for loop 2 times\n",
        "\n",
        "result=[x*y for x in range(2,10)\n",
        "                for y in range(1,10)]\n",
        "\n",
        "print(result)"
      ]
    },
    {
      "cell_type": "code",
      "execution_count": null,
      "id": "4358f44c",
      "metadata": {
        "id": "4358f44c",
        "colab": {
          "base_uri": "https://localhost:8080/"
        },
        "outputId": "d2ed1fc4-a189-4645-8560-e5096d084808"
      },
      "outputs": [
        {
          "output_type": "stream",
          "name": "stdout",
          "text": [
            "[2, 4, 6, 8, 10, 12, 14, 16, 18, 3, 6, 9, 12, 15, 18, 21, 24, 27, 4, 8, 12, 16, 20, 24, 28, 32, 36, 5, 10, 15, 20, 25, 30, 35, 40, 45, 6, 12, 18, 24, 30, 36, 42, 48, 54, 7, 14, 21, 28, 35, 42, 49, 56, 63, 8, 16, 24, 32, 40, 48, 56, 64, 72, 9, 18, 27, 36, 45, 54, 63, 72, 81]\n"
          ]
        }
      ],
      "source": [
        "result0=[]\n",
        "\n",
        "result0=[x*y for x in range(2,10) for y in range(1,10)]\n",
        "\n",
        "print(result0)"
      ]
    },
    {
      "cell_type": "code",
      "source": [],
      "metadata": {
        "id": "6rr_08ucJ7te"
      },
      "id": "6rr_08ucJ7te",
      "execution_count": null,
      "outputs": []
    },
    {
      "cell_type": "code",
      "source": [
        "word_1 = 'Hello'\n",
        "word_2 = 'World'"
      ],
      "metadata": {
        "id": "AlRfxGbCLU-o"
      },
      "id": "AlRfxGbCLU-o",
      "execution_count": null,
      "outputs": []
    },
    {
      "cell_type": "code",
      "source": [
        "# 4 different cases to check the letters in the saved string as above\n",
        "\n",
        "# print([word_1[i] + word_2[i] for i in range(len(word_1))])\n",
        "\n",
        "# print([v1 + v2 for v1 in word_1 for v2 in word_2])\n",
        "\n",
        "# 3. 글자 같을 때만 출력함\n",
        "# print([v1 + v2 for v1 in word_1 for v2 in word_2 if v1 == v2])\n",
        "\n",
        "# print([v1 + v2 for v1 in word_1 for v2 in word_2 if v1 != v2])"
      ],
      "metadata": {
        "id": "97R1vmfLLW9I"
      },
      "id": "97R1vmfLLW9I",
      "execution_count": null,
      "outputs": []
    },
    {
      "cell_type": "code",
      "source": [
        "result_words = [v1 + v2\n",
        "                    for v1 in word_1\n",
        "                        for v2 in word_2\n",
        "                            if v1 != v2]\n",
        "\n",
        "result_words"
      ],
      "metadata": {
        "id": "tU_gZXqeLeD1",
        "colab": {
          "base_uri": "https://localhost:8080/"
        },
        "outputId": "7d0259b3-b3af-4247-eb5f-356f9d397f43"
      },
      "id": "tU_gZXqeLeD1",
      "execution_count": null,
      "outputs": [
        {
          "output_type": "execute_result",
          "data": {
            "text/plain": [
              "['HW',\n",
              " 'Ho',\n",
              " 'Hr',\n",
              " 'Hl',\n",
              " 'Hd',\n",
              " 'eW',\n",
              " 'eo',\n",
              " 'er',\n",
              " 'el',\n",
              " 'ed',\n",
              " 'lW',\n",
              " 'lo',\n",
              " 'lr',\n",
              " 'ld',\n",
              " 'lW',\n",
              " 'lo',\n",
              " 'lr',\n",
              " 'ld',\n",
              " 'oW',\n",
              " 'or',\n",
              " 'ol',\n",
              " 'od']"
            ]
          },
          "metadata": {},
          "execution_count": 22
        }
      ]
    },
    {
      "cell_type": "code",
      "source": [
        "# print(result_words)\n",
        "# print('oo' in result_words)  # 'oo'가 result에 있는지 없는지 확인\n",
        "print('ll' in result_words)  # 'll'가 result에 있는지 없는지 확인"
      ],
      "metadata": {
        "id": "G1f1qGyMjMnP",
        "colab": {
          "base_uri": "https://localhost:8080/"
        },
        "outputId": "325e5c26-d630-4108-d579-f5e9cd964fa5"
      },
      "id": "G1f1qGyMjMnP",
      "execution_count": null,
      "outputs": [
        {
          "output_type": "stream",
          "name": "stdout",
          "text": [
            "False\n"
          ]
        }
      ]
    },
    {
      "cell_type": "code",
      "source": [
        "# zip function: get each letter from two parts and stack them up together, looks like a zipper\n",
        "print([i for i in zip(word_1, word_2)])"
      ],
      "metadata": {
        "id": "9geN8Ds_L8As",
        "colab": {
          "base_uri": "https://localhost:8080/"
        },
        "outputId": "6194ab04-ac45-4d9c-a3d4-99e6194fae93"
      },
      "id": "9geN8Ds_L8As",
      "execution_count": null,
      "outputs": [
        {
          "output_type": "stream",
          "name": "stdout",
          "text": [
            "[('H', 'W'), ('e', 'o'), ('l', 'r'), ('l', 'l'), ('o', 'd')]\n"
          ]
        }
      ]
    },
    {
      "cell_type": "code",
      "source": [
        "print([''.join(i) for i in zip(word_1, word_2)])\n",
        "# '' means to skip blank space, prompt result nicely\n",
        "# eg. if write as '+', result will show 'H+W'\n",
        "\n",
        "# print(['+'.join(i) for i in zip(word_1, word_2)])"
      ],
      "metadata": {
        "id": "rkQRqCDXN1R3",
        "colab": {
          "base_uri": "https://localhost:8080/"
        },
        "outputId": "6a746a0c-ed9a-408d-82b9-ae94b71b8c73"
      },
      "id": "rkQRqCDXN1R3",
      "execution_count": null,
      "outputs": [
        {
          "output_type": "stream",
          "name": "stdout",
          "text": [
            "['HW', 'eo', 'lr', 'll', 'od']\n"
          ]
        }
      ]
    },
    {
      "cell_type": "code",
      "source": [
        "# print([(i.split()).join(i) for i in zip(word_1,word_2)])  : 명령어 틀림!!"
      ],
      "metadata": {
        "id": "VnVLfj-uMVsp"
      },
      "id": "VnVLfj-uMVsp",
      "execution_count": null,
      "outputs": []
    },
    {
      "cell_type": "code",
      "source": [],
      "metadata": {
        "id": "6M_hcpcHROvF"
      },
      "id": "6M_hcpcHROvF",
      "execution_count": null,
      "outputs": []
    },
    {
      "cell_type": "code",
      "source": [
        "# To check if there is a string or not\n",
        "# 문자열 있는지 없는지 확인하기\n",
        "\n",
        "print(bool(' '.strip()))\n",
        "print(bool('A'.strip()))\n",
        "print(bool('\\n'.strip()))"
      ],
      "metadata": {
        "id": "7YyyMYVHJUmh",
        "colab": {
          "base_uri": "https://localhost:8080/"
        },
        "outputId": "f8628ba4-17c0-46b5-8e2d-2d996962c9b6"
      },
      "id": "7YyyMYVHJUmh",
      "execution_count": null,
      "outputs": [
        {
          "output_type": "stream",
          "name": "stdout",
          "text": [
            "False\n",
            "True\n",
            "False\n"
          ]
        }
      ]
    },
    {
      "cell_type": "code",
      "source": [
        "multi = ''' a b\n",
        " 가 나 '''"
      ],
      "metadata": {
        "id": "KGLRYW9oJZ01"
      },
      "id": "KGLRYW9oJZ01",
      "execution_count": null,
      "outputs": []
    },
    {
      "cell_type": "code",
      "source": [
        "print([s for s in multi])\n",
        "# above code will show every component -"
      ],
      "metadata": {
        "id": "hs3j2skpJf7S",
        "colab": {
          "base_uri": "https://localhost:8080/"
        },
        "outputId": "452f483f-ee62-422c-f37a-fff83abc95bc"
      },
      "id": "hs3j2skpJf7S",
      "execution_count": null,
      "outputs": [
        {
          "output_type": "stream",
          "name": "stdout",
          "text": [
            "[' ', 'a', ' ', 'b', '\\n', ' ', '가', ' ', '나', ' ']\n"
          ]
        }
      ]
    },
    {
      "cell_type": "code",
      "source": [
        "print([s for s in multi if s.strip()])  # if s.strip 표기는 if s.strip==True 말이다."
      ],
      "metadata": {
        "id": "01nS2IylJ1Kf",
        "colab": {
          "base_uri": "https://localhost:8080/"
        },
        "outputId": "7857eb2c-f096-4132-ada2-c784e16a30a5"
      },
      "id": "01nS2IylJ1Kf",
      "execution_count": null,
      "outputs": [
        {
          "output_type": "stream",
          "name": "stdout",
          "text": [
            "['a', 'b', '가', '나']\n"
          ]
        }
      ]
    },
    {
      "cell_type": "code",
      "source": [],
      "metadata": {
        "id": "0pyN1fZJjZyK"
      },
      "id": "0pyN1fZJjZyK",
      "execution_count": null,
      "outputs": []
    },
    {
      "cell_type": "code",
      "source": [
        "text = [' ',\n",
        "        ' ab cd df gh ',\n",
        "        ' 가나다 라마바',\n",
        "        '''\n",
        "\n",
        "      A B\n",
        "      ''',\n",
        "        '''\n",
        "      ''']"
      ],
      "metadata": {
        "id": "SovE0308J1_M"
      },
      "id": "SovE0308J1_M",
      "execution_count": null,
      "outputs": []
    },
    {
      "cell_type": "code",
      "source": [
        "len(text)"
      ],
      "metadata": {
        "colab": {
          "base_uri": "https://localhost:8080/"
        },
        "id": "mqMQYlMBcck_",
        "outputId": "1cfbdde0-fd3a-4a11-e7d1-2a93dd6f4a71"
      },
      "id": "mqMQYlMBcck_",
      "execution_count": null,
      "outputs": [
        {
          "output_type": "execute_result",
          "data": {
            "text/plain": [
              "5"
            ]
          },
          "metadata": {},
          "execution_count": 38
        }
      ]
    },
    {
      "cell_type": "code",
      "source": [
        "print([t for t in text if t.strip()])\n",
        "\n",
        "# rstrip : right strip, lstrip: left strip\n",
        "# for a more detailed result\n",
        "\n",
        "# print([t for t in text if (t.rstrip()).lstrip()])\n",
        "\n",
        "# print([(t.rstrip()).lstrip() for t in text if t.strip()])\n",
        "\n",
        "print([t.strip() for t in text if t.strip()])"
      ],
      "metadata": {
        "id": "4QFrOh66J4bN",
        "colab": {
          "base_uri": "https://localhost:8080/"
        },
        "outputId": "e5ee30c5-c98d-4874-c333-a622367b821a"
      },
      "id": "4QFrOh66J4bN",
      "execution_count": null,
      "outputs": [
        {
          "output_type": "stream",
          "name": "stdout",
          "text": [
            "[' ab cd df gh ', ' 가나다 라마바', '\\n\\n      A B\\n      ']\n",
            "['ab cd df gh', '가나다 라마바', 'A B']\n"
          ]
        }
      ]
    },
    {
      "cell_type": "code",
      "source": [],
      "metadata": {
        "id": "sgJdbQo6ODTA"
      },
      "id": "sgJdbQo6ODTA",
      "execution_count": null,
      "outputs": []
    },
    {
      "cell_type": "code",
      "source": [
        "list_32 = [[1, 2], [3, 4], [5, 6]]  # 3행 2열\n",
        "\n",
        "print(len(list_32))     # big list length\n",
        "print(len(list_32[0]))  # index's list length"
      ],
      "metadata": {
        "id": "7Vu2u_FPOg2c",
        "colab": {
          "base_uri": "https://localhost:8080/"
        },
        "outputId": "af4c9243-de87-4c8a-b729-95846254423a"
      },
      "id": "7Vu2u_FPOg2c",
      "execution_count": null,
      "outputs": [
        {
          "output_type": "stream",
          "name": "stdout",
          "text": [
            "3\n",
            "2\n"
          ]
        }
      ]
    },
    {
      "cell_type": "code",
      "source": [
        "list_32[1][1] # index number 1, value number 1 (note: index always starts with 0)"
      ],
      "metadata": {
        "colab": {
          "base_uri": "https://localhost:8080/"
        },
        "id": "BXcvxCgjdAfs",
        "outputId": "5be6b617-80ff-438f-8369-881bd43951ff"
      },
      "id": "BXcvxCgjdAfs",
      "execution_count": null,
      "outputs": [
        {
          "output_type": "execute_result",
          "data": {
            "text/plain": [
              "4"
            ]
          },
          "metadata": {},
          "execution_count": 45
        }
      ]
    },
    {
      "cell_type": "code",
      "source": [
        "# enumerate : gives index to the list to be shown in the result aka. numbering\n",
        "\n",
        "for i, x in enumerate(list_32):  # for i, x에서 i는 index, x는 값(값의 크기 대로!!\n",
        "    print(i, x)"
      ],
      "metadata": {
        "id": "RFjOwrNCOhpq",
        "colab": {
          "base_uri": "https://localhost:8080/"
        },
        "outputId": "f9bd2dea-9518-4ac8-d893-48fdac361fcb"
      },
      "id": "RFjOwrNCOhpq",
      "execution_count": null,
      "outputs": [
        {
          "output_type": "stream",
          "name": "stdout",
          "text": [
            "0 [1, 2]\n",
            "1 [3, 4]\n",
            "2 [5, 6]\n"
          ]
        }
      ]
    },
    {
      "cell_type": "code",
      "source": [
        "for i, x in enumerate(list_32):\n",
        "    print(i, x[0], x[1])"
      ],
      "metadata": {
        "id": "5gKdqqXTOhnn",
        "colab": {
          "base_uri": "https://localhost:8080/"
        },
        "outputId": "bf2023a1-e30b-4961-b31d-5dad3da9d4be"
      },
      "id": "5gKdqqXTOhnn",
      "execution_count": null,
      "outputs": [
        {
          "output_type": "stream",
          "name": "stdout",
          "text": [
            "0 1 2\n",
            "1 3 4\n",
            "2 5 6\n"
          ]
        }
      ]
    },
    {
      "cell_type": "code",
      "source": [
        "for i, x in enumerate(list_32):\n",
        "    a, b = x  # unpacking // \"value 풀어줘라\"\n",
        "    print(i, a, b)"
      ],
      "metadata": {
        "id": "gR8TbBfQOhlC",
        "colab": {
          "base_uri": "https://localhost:8080/"
        },
        "outputId": "55ec1cb0-e43c-44b9-e2a3-3bd8bf82c242"
      },
      "id": "gR8TbBfQOhlC",
      "execution_count": null,
      "outputs": [
        {
          "output_type": "stream",
          "name": "stdout",
          "text": [
            "0 1 2\n",
            "1 3 4\n",
            "2 5 6\n"
          ]
        }
      ]
    },
    {
      "cell_type": "code",
      "source": [
        "for i, (a, b) in enumerate(list_32):  # unpacking (괄호)사용\n",
        "    print(i, a, b)"
      ],
      "metadata": {
        "id": "9nw4fjqUOhin",
        "colab": {
          "base_uri": "https://localhost:8080/"
        },
        "outputId": "f0754f95-9ea3-4418-daac-324d873d3a7f"
      },
      "id": "9nw4fjqUOhin",
      "execution_count": null,
      "outputs": [
        {
          "output_type": "stream",
          "name": "stdout",
          "text": [
            "0 1 2\n",
            "1 3 4\n",
            "2 5 6\n"
          ]
        }
      ]
    },
    {
      "cell_type": "code",
      "source": [],
      "metadata": {
        "id": "DTYnq_ejOhgR"
      },
      "id": "DTYnq_ejOhgR",
      "execution_count": null,
      "outputs": []
    },
    {
      "cell_type": "code",
      "source": [
        "t1 = (1, 2, 3)\n",
        "t2 = (10, 20, 30)\n",
        "t3 = (100, 200, 300)"
      ],
      "metadata": {
        "id": "XNIJuwXTPvmU"
      },
      "id": "XNIJuwXTPvmU",
      "execution_count": null,
      "outputs": []
    },
    {
      "cell_type": "code",
      "source": [
        "print(zip(t1,t2,t3))"
      ],
      "metadata": {
        "id": "4DyHtjlNRlNT"
      },
      "id": "4DyHtjlNRlNT",
      "execution_count": null,
      "outputs": []
    },
    {
      "cell_type": "code",
      "source": [
        "for i in zip(t1, t2, t3):\n",
        "  print(i)"
      ],
      "metadata": {
        "id": "V2HVb-rcZiYa"
      },
      "id": "V2HVb-rcZiYa",
      "execution_count": null,
      "outputs": []
    },
    {
      "cell_type": "code",
      "source": [
        "print([sum(i) for i in zip(t1, t2, t3)])"
      ],
      "metadata": {
        "id": "Mc97IwjrR7TC"
      },
      "id": "Mc97IwjrR7TC",
      "execution_count": null,
      "outputs": []
    },
    {
      "cell_type": "code",
      "source": [
        "z = list(zip(t1, t2, t3))  # list에 넣기\n",
        "\n",
        "print(z)\n",
        "print([sum(i) for i in z])"
      ],
      "metadata": {
        "id": "igBJbn-7P3wd"
      },
      "id": "igBJbn-7P3wd",
      "execution_count": null,
      "outputs": []
    },
    {
      "cell_type": "code",
      "source": [
        "a, b, c = zip(t1, t2, t3)\n",
        "print(a, b, c)"
      ],
      "metadata": {
        "id": "mWBXV08LRrTq"
      },
      "id": "mWBXV08LRrTq",
      "execution_count": null,
      "outputs": []
    },
    {
      "cell_type": "code",
      "source": [
        "(c, d, e) = zip(t1, t2, t3)  # 위 와 같은 unpacking 이다 ㅎㅎㅎㅎ\n",
        "print(c, d, e)"
      ],
      "metadata": {
        "id": "WjELm1eCPzG6"
      },
      "id": "WjELm1eCPzG6",
      "execution_count": null,
      "outputs": []
    },
    {
      "cell_type": "code",
      "source": [],
      "metadata": {
        "id": "q7MZLL4BRL8Z"
      },
      "id": "q7MZLL4BRL8Z",
      "execution_count": null,
      "outputs": []
    },
    {
      "cell_type": "code",
      "source": [
        "words = ' The quick brown fox jumps over the lazy dog'\n",
        "\n",
        "results = [[w.upper(), w.lower(), len(w)] for w in words.split()]\n",
        "\n",
        "print(results)"
      ],
      "metadata": {
        "id": "gu1jYgiFODuM"
      },
      "id": "gu1jYgiFODuM",
      "execution_count": null,
      "outputs": []
    },
    {
      "cell_type": "code",
      "source": [],
      "metadata": {
        "id": "B2JkIa9pZx6i"
      },
      "id": "B2JkIa9pZx6i",
      "execution_count": null,
      "outputs": []
    }
  ],
  "metadata": {
    "kernelspec": {
      "display_name": "Python 3 (ipykernel)",
      "language": "python",
      "name": "python3"
    },
    "language_info": {
      "codemirror_mode": {
        "name": "ipython",
        "version": 3
      },
      "file_extension": ".py",
      "mimetype": "text/x-python",
      "name": "python",
      "nbconvert_exporter": "python",
      "pygments_lexer": "ipython3",
      "version": "3.11.2"
    },
    "colab": {
      "provenance": [],
      "include_colab_link": true
    }
  },
  "nbformat": 4,
  "nbformat_minor": 5
}