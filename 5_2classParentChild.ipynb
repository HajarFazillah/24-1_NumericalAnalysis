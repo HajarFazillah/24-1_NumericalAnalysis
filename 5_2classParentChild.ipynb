{
  "cells": [
    {
      "cell_type": "markdown",
      "metadata": {
        "id": "view-in-github",
        "colab_type": "text"
      },
      "source": [
        "<a href=\"https://colab.research.google.com/github/HajarFazillah/24-1_NumericalAnalysis/blob/main/5_2classParentChild.ipynb\" target=\"_parent\"><img src=\"https://colab.research.google.com/assets/colab-badge.svg\" alt=\"Open In Colab\"/></a>"
      ]
    },
    {
      "cell_type": "code",
      "execution_count": null,
      "id": "ed7a726b",
      "metadata": {
        "id": "ed7a726b"
      },
      "outputs": [],
      "source": [
        "#채널만 있는 리모컨 만들기\n",
        "\n",
        "class TV:\n",
        "    def __init__(self):\n",
        "        self.channel = 0\n",
        "    def setChannel(self,c):\n",
        "        self.channel = c\n",
        "    def getChannel(self):\n",
        "        return self.channel\n",
        "    def channelUp(self):  # when the channel is changed to the next one (eg. channel 3 -> channel 4)\n",
        "        self.channel += 1\n",
        "    def channelDown(self):\n",
        "        self.channel -= 1"
      ]
    },
    {
      "cell_type": "code",
      "source": [
        "my_tv = TV()\n",
        "my_tv.setChannel(9)\n",
        "curr_ch = my_tv.getChannel()\n",
        "# curr_ch : current channel"
      ],
      "metadata": {
        "id": "bBIqExQEgSX4"
      },
      "id": "bBIqExQEgSX4",
      "execution_count": null,
      "outputs": []
    },
    {
      "cell_type": "code",
      "source": [
        "print(curr_ch)"
      ],
      "metadata": {
        "id": "bxJg3zHVZOk7",
        "colab": {
          "base_uri": "https://localhost:8080/"
        },
        "outputId": "cbd67c8a-c55d-4c6f-8868-cdbe53beb642"
      },
      "id": "bxJg3zHVZOk7",
      "execution_count": null,
      "outputs": [
        {
          "output_type": "stream",
          "name": "stdout",
          "text": [
            "9\n"
          ]
        }
      ]
    },
    {
      "cell_type": "code",
      "source": [
        "my_tv.channelUp\n",
        "# my_tv.channelDown()\n",
        "curr_ch = my_tv.getChannel()\n",
        "print(curr_ch)"
      ],
      "metadata": {
        "id": "3i3OX58ygcQv",
        "colab": {
          "base_uri": "https://localhost:8080/"
        },
        "outputId": "ac2f584f-a90b-496c-9d13-f265373c378a"
      },
      "id": "3i3OX58ygcQv",
      "execution_count": null,
      "outputs": [
        {
          "output_type": "stream",
          "name": "stdout",
          "text": [
            "11\n"
          ]
        }
      ]
    },
    {
      "cell_type": "code",
      "execution_count": null,
      "id": "4dbec2f5",
      "metadata": {
        "id": "4dbec2f5"
      },
      "outputs": [],
      "source": [
        "class newTV(TV):\n",
        "     pass"
      ]
    },
    {
      "cell_type": "code",
      "source": [
        "child_TV = newTV()\n",
        "# newTV 상속 inherits the functions from the parent TV class\n",
        "child_TV.setChannel(9)\n",
        "child_ch = child_TV.getChannel()"
      ],
      "metadata": {
        "id": "xrfwFA6Cg0DE"
      },
      "id": "xrfwFA6Cg0DE",
      "execution_count": null,
      "outputs": []
    },
    {
      "cell_type": "code",
      "source": [
        "print(child_ch)"
      ],
      "metadata": {
        "id": "qFRUbiWHZjBL",
        "colab": {
          "base_uri": "https://localhost:8080/"
        },
        "outputId": "2f510dee-44e5-4094-cbff-dad1178e68f5"
      },
      "id": "qFRUbiWHZjBL",
      "execution_count": null,
      "outputs": [
        {
          "output_type": "stream",
          "name": "stdout",
          "text": [
            "9\n"
          ]
        }
      ]
    },
    {
      "cell_type": "code",
      "source": [],
      "metadata": {
        "id": "XiQCLzYLhAzj"
      },
      "id": "XiQCLzYLhAzj",
      "execution_count": null,
      "outputs": []
    }
  ],
  "metadata": {
    "kernelspec": {
      "display_name": "Python 3 (ipykernel)",
      "language": "python",
      "name": "python3"
    },
    "language_info": {
      "codemirror_mode": {
        "name": "ipython",
        "version": 3
      },
      "file_extension": ".py",
      "mimetype": "text/x-python",
      "name": "python",
      "nbconvert_exporter": "python",
      "pygments_lexer": "ipython3",
      "version": "3.11.2"
    },
    "colab": {
      "provenance": [],
      "include_colab_link": true
    }
  },
  "nbformat": 4,
  "nbformat_minor": 5
}