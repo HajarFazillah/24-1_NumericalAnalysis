{
  "cells": [
    {
      "cell_type": "markdown",
      "metadata": {
        "id": "view-in-github",
        "colab_type": "text"
      },
      "source": [
        "<a href=\"https://colab.research.google.com/github/HajarFazillah/24-1_NumericalAnalysis/blob/main/5_1class.ipynb\" target=\"_parent\"><img src=\"https://colab.research.google.com/assets/colab-badge.svg\" alt=\"Open In Colab\"/></a>"
      ]
    },
    {
      "cell_type": "code",
      "execution_count": null,
      "id": "341cd1e6",
      "metadata": {
        "id": "341cd1e6"
      },
      "outputs": [],
      "source": [
        "# 객체지향 프로그램(Object Oriented Programming)\n",
        "# 목적 : 클래스의 재사용성을 높이자"
      ]
    },
    {
      "cell_type": "code",
      "source": [
        "class ABC:\n",
        "    def m(self):  # [1] 객체의 method가 됨 (객체들 사이에 움직임), [2] 반드시 변수 self를 갖음\n",
        "        print('ABC입니다')"
      ],
      "metadata": {
        "id": "n7TU4kGkVtfb"
      },
      "id": "n7TU4kGkVtfb",
      "execution_count": null,
      "outputs": []
    },
    {
      "cell_type": "code",
      "source": [
        "class_1 = ABC()\n",
        "# 객체화(객체생성)"
      ],
      "metadata": {
        "id": "1q9LqYMEV4cA"
      },
      "id": "1q9LqYMEV4cA",
      "execution_count": null,
      "outputs": []
    },
    {
      "cell_type": "code",
      "source": [
        "class_1.m()\n",
        "# similar to .append"
      ],
      "metadata": {
        "id": "q4WMHhT1V9nh",
        "colab": {
          "base_uri": "https://localhost:8080/"
        },
        "outputId": "518b3ce2-a032-4e02-960a-26826cb742f9"
      },
      "id": "q4WMHhT1V9nh",
      "execution_count": null,
      "outputs": [
        {
          "output_type": "stream",
          "name": "stdout",
          "text": [
            "ABC입니다\n"
          ]
        }
      ]
    },
    {
      "cell_type": "code",
      "source": [
        "a = [] #list"
      ],
      "metadata": {
        "id": "GFVK8qEMgptZ"
      },
      "id": "GFVK8qEMgptZ",
      "execution_count": null,
      "outputs": []
    },
    {
      "cell_type": "code",
      "source": [
        "a.append(3)"
      ],
      "metadata": {
        "id": "qPkIA4YzgsA4"
      },
      "id": "qPkIA4YzgsA4",
      "execution_count": null,
      "outputs": []
    },
    {
      "cell_type": "code",
      "source": [
        "print(a)"
      ],
      "metadata": {
        "colab": {
          "base_uri": "https://localhost:8080/"
        },
        "id": "kK2_eFc4gukB",
        "outputId": "61bf06e2-b62e-4f7f-8921-2b3fc957d70a"
      },
      "id": "kK2_eFc4gukB",
      "execution_count": null,
      "outputs": [
        {
          "output_type": "stream",
          "name": "stdout",
          "text": [
            "[3]\n"
          ]
        }
      ]
    },
    {
      "cell_type": "code",
      "execution_count": null,
      "id": "eb8af14c",
      "metadata": {
        "id": "eb8af14c"
      },
      "outputs": [],
      "source": [
        "class A:  # define a class named A\n",
        "    def m(self, msg): # define a method named m which takes self (instance reference) and msg (a message)\n",
        "        print(msg)"
      ]
    },
    {
      "cell_type": "code",
      "source": [
        "a = A()"
      ],
      "metadata": {
        "id": "pVebrZ_rebLG"
      },
      "id": "pVebrZ_rebLG",
      "execution_count": null,
      "outputs": []
    },
    {
      "cell_type": "code",
      "source": [
        "a.m()\n",
        "\n",
        "# msg의 default value(초기값)이 없으므로 에러발생.\n",
        "# TypeError: A.m() missing 1 required positional argument: 'msg'"
      ],
      "metadata": {
        "id": "BZ6nFbLwWq7s",
        "colab": {
          "base_uri": "https://localhost:8080/",
          "height": 201
        },
        "outputId": "4023b259-d8f7-45bf-e9a3-11268820b1a1"
      },
      "id": "BZ6nFbLwWq7s",
      "execution_count": null,
      "outputs": [
        {
          "output_type": "error",
          "ename": "TypeError",
          "evalue": "A.m() missing 1 required positional argument: 'msg'",
          "traceback": [
            "\u001b[0;31m---------------------------------------------------------------------------\u001b[0m",
            "\u001b[0;31mTypeError\u001b[0m                                 Traceback (most recent call last)",
            "\u001b[0;32m<ipython-input-12-9ed7c3c7d519>\u001b[0m in \u001b[0;36m<cell line: 1>\u001b[0;34m()\u001b[0m\n\u001b[0;32m----> 1\u001b[0;31m \u001b[0ma\u001b[0m\u001b[0;34m.\u001b[0m\u001b[0mm\u001b[0m\u001b[0;34m(\u001b[0m\u001b[0;34m)\u001b[0m\u001b[0;34m\u001b[0m\u001b[0;34m\u001b[0m\u001b[0m\n\u001b[0m\u001b[1;32m      2\u001b[0m \u001b[0;34m\u001b[0m\u001b[0m\n\u001b[1;32m      3\u001b[0m \u001b[0;31m# msg의 defualt value(초기값)이 없으므로 에러발생.\u001b[0m\u001b[0;34m\u001b[0m\u001b[0;34m\u001b[0m\u001b[0m\n\u001b[1;32m      4\u001b[0m \u001b[0;31m# TypeError: A.m() missing 1 required positional argument: 'msg'\u001b[0m\u001b[0;34m\u001b[0m\u001b[0;34m\u001b[0m\u001b[0m\n",
            "\u001b[0;31mTypeError\u001b[0m: A.m() missing 1 required positional argument: 'msg'"
          ]
        }
      ]
    },
    {
      "cell_type": "code",
      "execution_count": null,
      "id": "02de0a5a",
      "metadata": {
        "id": "02de0a5a",
        "colab": {
          "base_uri": "https://localhost:8080/"
        },
        "outputId": "bb5e514c-8df2-42d2-8bf7-0469d4c85d5a"
      },
      "outputs": [
        {
          "output_type": "stream",
          "name": "stdout",
          "text": [
            "I am A\n"
          ]
        }
      ],
      "source": [
        "a.m('I am A')"
      ]
    },
    {
      "cell_type": "code",
      "execution_count": null,
      "id": "f9ce4aae",
      "metadata": {
        "tags": [],
        "id": "f9ce4aae",
        "colab": {
          "base_uri": "https://localhost:8080/"
        },
        "outputId": "4b3d397b-885d-4eeb-d105-ab3899e7fec6"
      },
      "outputs": [
        {
          "output_type": "stream",
          "name": "stdout",
          "text": [
            "139163245385360\n",
            "139163245387760\n"
          ]
        }
      ],
      "source": [
        "# 객체화 작업\n",
        "a1 = A()  # '객체'가 됨\n",
        "a2 = A()  # '객체'가 됨\n",
        "        # a1, a2는 서로 다른 메모리, 형태는 같음\n",
        "\n",
        "print(id(a1))  # id() 메모리 주소 알려주는 함수\n",
        "print(id(a2))"
      ]
    },
    {
      "cell_type": "code",
      "execution_count": null,
      "id": "8223d964",
      "metadata": {
        "tags": [],
        "id": "8223d964",
        "colab": {
          "base_uri": "https://localhost:8080/"
        },
        "outputId": "09690646-4497-4d7a-b659-895393bc9b9e"
      },
      "outputs": [
        {
          "output_type": "stream",
          "name": "stdout",
          "text": [
            "139163245385360\n",
            "139163245385360\n"
          ]
        }
      ],
      "source": [
        "a2 = a1  # 객체 대입 i.e. 같은 객체가 됨  cf. 단순 숫자 대입과 다름\n",
        "print(id(a1))\n",
        "print(id(a2))\n",
        "# 같은 주소를 가짐 (creating a new reference to the same object)"
      ]
    },
    {
      "cell_type": "code",
      "source": [
        "# a1.m()  # msg 기본값 설정 안했으므로 에러 발생\n",
        "# a2.m()  # msg 기본값 설정 안했으므로 에러 발생"
      ],
      "metadata": {
        "id": "mEInsMy9X2Dq"
      },
      "id": "mEInsMy9X2Dq",
      "execution_count": null,
      "outputs": []
    },
    {
      "cell_type": "code",
      "execution_count": null,
      "id": "4e06de13",
      "metadata": {
        "id": "4e06de13",
        "colab": {
          "base_uri": "https://localhost:8080/"
        },
        "outputId": "2179b75a-fc75-4f8e-fc1b-872a27c5a2ef"
      },
      "outputs": [
        {
          "output_type": "stream",
          "name": "stdout",
          "text": [
            "hello\n",
            "hi\n"
          ]
        }
      ],
      "source": [
        "a1.m('hello')\n",
        "a2.m('hi')"
      ]
    },
    {
      "cell_type": "code",
      "execution_count": null,
      "id": "76c096ae",
      "metadata": {
        "id": "76c096ae"
      },
      "outputs": [],
      "source": [
        "class B:\n",
        "    def __init__(self, n):  # 생성자 (init : initialize objects of the class)\n",
        "        self.name = n\n",
        "    def printInfo(self):  # 일반 함수 이름이라면 print_info()이지만, method는 대문자로 연결\n",
        "        print(self.name)"
      ]
    },
    {
      "cell_type": "code",
      "source": [
        "b1 = B('차은우')  # method 호출아님, 생성자 함수 자동 호출됨, initial condition이 된다.\n",
        "# the name being inserted into the 'n' = self.name in the above code"
      ],
      "metadata": {
        "id": "QSfCAjv9YR6K"
      },
      "id": "QSfCAjv9YR6K",
      "execution_count": null,
      "outputs": []
    },
    {
      "cell_type": "code",
      "source": [
        "b1.printInfo()"
      ],
      "metadata": {
        "id": "KLKfOn_IYhN5",
        "colab": {
          "base_uri": "https://localhost:8080/"
        },
        "outputId": "95245a72-b40d-48ef-b18e-faa4c3365890"
      },
      "id": "KLKfOn_IYhN5",
      "execution_count": null,
      "outputs": [
        {
          "output_type": "stream",
          "name": "stdout",
          "text": [
            "차은우\n"
          ]
        }
      ]
    },
    {
      "cell_type": "code",
      "execution_count": null,
      "id": "70002783",
      "metadata": {
        "id": "70002783",
        "colab": {
          "base_uri": "https://localhost:8080/"
        },
        "outputId": "248fb731-c3aa-4654-e888-67f93d6c60a2"
      },
      "outputs": [
        {
          "output_type": "stream",
          "name": "stdout",
          "text": [
            "<__main__.B object at 0x7e9177cebfa0>\n"
          ]
        }
      ],
      "source": [
        "print(b1) # b1's info"
      ]
    },
    {
      "cell_type": "code",
      "source": [],
      "metadata": {
        "id": "-bL2yxm4K9S_"
      },
      "id": "-bL2yxm4K9S_",
      "execution_count": null,
      "outputs": []
    }
  ],
  "metadata": {
    "kernelspec": {
      "display_name": "Python 3 (ipykernel)",
      "language": "python",
      "name": "python3"
    },
    "language_info": {
      "codemirror_mode": {
        "name": "ipython",
        "version": 3
      },
      "file_extension": ".py",
      "mimetype": "text/x-python",
      "name": "python",
      "nbconvert_exporter": "python",
      "pygments_lexer": "ipython3",
      "version": "3.11.2"
    },
    "colab": {
      "provenance": [],
      "include_colab_link": true
    }
  },
  "nbformat": 4,
  "nbformat_minor": 5
}