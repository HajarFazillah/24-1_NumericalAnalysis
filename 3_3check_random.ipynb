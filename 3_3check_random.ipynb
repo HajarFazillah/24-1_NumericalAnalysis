{
  "cells": [
    {
      "cell_type": "markdown",
      "metadata": {
        "id": "view-in-github",
        "colab_type": "text"
      },
      "source": [
        "<a href=\"https://colab.research.google.com/github/HajarFazillah/24-1_NumericalAnalysis/blob/main/3_3check_random.ipynb\" target=\"_parent\"><img src=\"https://colab.research.google.com/assets/colab-badge.svg\" alt=\"Open In Colab\"/></a>"
      ]
    },
    {
      "cell_type": "code",
      "execution_count": null,
      "id": "f3d37817",
      "metadata": {
        "id": "f3d37817"
      },
      "outputs": [],
      "source": [
        "import random"
      ]
    },
    {
      "cell_type": "code",
      "source": [
        "print(random.randint(1,45))"
      ],
      "metadata": {
        "id": "ZvxMiNmxUI4d",
        "colab": {
          "base_uri": "https://localhost:8080/"
        },
        "outputId": "01b6aabe-26e8-4d59-a822-706ea0ae9f81"
      },
      "id": "ZvxMiNmxUI4d",
      "execution_count": null,
      "outputs": [
        {
          "output_type": "stream",
          "name": "stdout",
          "text": [
            "9\n"
          ]
        }
      ]
    },
    {
      "cell_type": "code",
      "execution_count": null,
      "id": "7f805f57",
      "metadata": {
        "id": "7f805f57"
      },
      "outputs": [],
      "source": [
        "#Q. 로또 번호를 생성해보아라. Generate lotto numbers."
      ]
    },
    {
      "cell_type": "code",
      "execution_count": null,
      "id": "d0885365-69ea-4e25-b6b4-1fe477de7774",
      "metadata": {
        "id": "d0885365-69ea-4e25-b6b4-1fe477de7774"
      },
      "outputs": [],
      "source": [
        "#A.\n",
        "\n",
        "# 답안작성\n",
        "\n",
        "\n",
        "\n",
        "\n",
        "\n",
        "\n",
        "\n",
        "\n",
        "\n",
        "\n",
        "\n",
        "\n",
        "\n",
        "\n",
        "\n",
        "\n",
        "\n",
        "\n",
        "\n",
        "\n"
      ]
    },
    {
      "cell_type": "code",
      "source": [],
      "metadata": {
        "id": "l3o1yqF5wozQ"
      },
      "id": "l3o1yqF5wozQ",
      "execution_count": null,
      "outputs": []
    },
    {
      "cell_type": "markdown",
      "source": [
        "# 오류가 있는 시도"
      ],
      "metadata": {
        "id": "B12CC9UCwpVX"
      },
      "id": "B12CC9UCwpVX"
    },
    {
      "cell_type": "code",
      "execution_count": null,
      "id": "77cfab8b",
      "metadata": {
        "id": "77cfab8b",
        "colab": {
          "base_uri": "https://localhost:8080/"
        },
        "outputId": "ca17258b-6906-4275-d4ab-e2f27332ffbf"
      },
      "outputs": [
        {
          "output_type": "stream",
          "name": "stdout",
          "text": [
            "lotto: [2, 8, 21, 9, 19, 35]\n"
          ]
        }
      ],
      "source": [
        "# 시도\n",
        "\n",
        "cnt = 0\n",
        "lotto_value = []\n",
        "while cnt < 6:\n",
        "    lotto_value.append(random.randint(1,45))\n",
        "    cnt+=1\n",
        "\n",
        "print(\"lotto:\", lotto_value)\n",
        "\n",
        "# 오류: 중복가능"
      ]
    },
    {
      "cell_type": "code",
      "source": [],
      "metadata": {
        "id": "stD2RzD5nVnH"
      },
      "id": "stD2RzD5nVnH",
      "execution_count": null,
      "outputs": []
    }
  ],
  "metadata": {
    "kernelspec": {
      "display_name": "Python 3 (ipykernel)",
      "language": "python",
      "name": "python3"
    },
    "language_info": {
      "codemirror_mode": {
        "name": "ipython",
        "version": 3
      },
      "file_extension": ".py",
      "mimetype": "text/x-python",
      "name": "python",
      "nbconvert_exporter": "python",
      "pygments_lexer": "ipython3",
      "version": "3.11.2"
    },
    "colab": {
      "provenance": [],
      "include_colab_link": true
    }
  },
  "nbformat": 4,
  "nbformat_minor": 5
}