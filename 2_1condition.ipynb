{
  "cells": [
    {
      "cell_type": "markdown",
      "metadata": {
        "id": "view-in-github",
        "colab_type": "text"
      },
      "source": [
        "<a href=\"https://colab.research.google.com/github/HajarFazillah/24-1_NumericalAnalysis/blob/main/2_1condition.ipynb\" target=\"_parent\"><img src=\"https://colab.research.google.com/assets/colab-badge.svg\" alt=\"Open In Colab\"/></a>"
      ]
    },
    {
      "cell_type": "code",
      "source": [
        "a = 3\n",
        "if a == 3:\n",
        "  print('Good!')\n",
        "  # print inside indent\n",
        "  # if written same indent with \"if\"\n",
        "  # error will be prompted"
      ],
      "metadata": {
        "id": "-0ageTccsNTq",
        "colab": {
          "base_uri": "https://localhost:8080/"
        },
        "outputId": "7fd3b6ff-155b-4fd2-f38c-0f1c379b8788"
      },
      "id": "-0ageTccsNTq",
      "execution_count": null,
      "outputs": [
        {
          "output_type": "stream",
          "name": "stdout",
          "text": [
            "Good!\n"
          ]
        }
      ]
    },
    {
      "cell_type": "code",
      "source": [
        "b = 5\n",
        "if b == 3:\n",
        "  print('Great!') # bool True\n",
        "else:\n",
        "  print(\"END\")  # bool False"
      ],
      "metadata": {
        "id": "PRqOIGXLsfYi",
        "colab": {
          "base_uri": "https://localhost:8080/"
        },
        "outputId": "96cfa581-49d4-4ef2-f49d-c78aaacaa11a"
      },
      "id": "PRqOIGXLsfYi",
      "execution_count": null,
      "outputs": [
        {
          "output_type": "stream",
          "name": "stdout",
          "text": [
            "END\n"
          ]
        }
      ]
    },
    {
      "cell_type": "code",
      "source": [
        "c ='E'\n",
        "if c == 3 :\n",
        "  print('Good!')\n",
        "else:\n",
        "  if c == 5:\n",
        "    print('Great')\n",
        "  else:\n",
        "    print(\"end\")"
      ],
      "metadata": {
        "id": "Fwluy7HdswM0",
        "colab": {
          "base_uri": "https://localhost:8080/"
        },
        "outputId": "8173599b-22fa-4abc-b9c0-87aef465cef3"
      },
      "id": "Fwluy7HdswM0",
      "execution_count": null,
      "outputs": [
        {
          "output_type": "stream",
          "name": "stdout",
          "text": [
            "end\n"
          ]
        }
      ]
    },
    {
      "cell_type": "code",
      "source": [
        "# else..if // elif\n",
        "\n",
        "c ='E'\n",
        "if c ==3 :\n",
        "  print('Good!')\n",
        "elif c == 5:\n",
        "    print('Great')\n",
        "elif c == 'E':\n",
        "  print(\"FINDING!\") # code runs until here\n",
        "else:\n",
        "  print(\"done\")"
      ],
      "metadata": {
        "id": "WqI2JKi4tHQ9",
        "colab": {
          "base_uri": "https://localhost:8080/"
        },
        "outputId": "43505985-b0a0-4cd8-c0b1-1ce64f551e07"
      },
      "id": "WqI2JKi4tHQ9",
      "execution_count": null,
      "outputs": [
        {
          "output_type": "stream",
          "name": "stdout",
          "text": [
            "FINDING!\n"
          ]
        }
      ]
    },
    {
      "cell_type": "code",
      "execution_count": null,
      "id": "c6e77436",
      "metadata": {
        "id": "c6e77436"
      },
      "outputs": [],
      "source": [
        "import sys"
      ]
    },
    {
      "cell_type": "code",
      "source": [
        "name = input(\"이름을 쓰시오!\")\n",
        "# to save the input, insert variable in front\n",
        "# eg. name = input()"
      ],
      "metadata": {
        "id": "F19aVab4HipW",
        "colab": {
          "base_uri": "https://localhost:8080/"
        },
        "outputId": "cd358c62-5ce9-474d-ad9b-be5b78fd28c9"
      },
      "id": "F19aVab4HipW",
      "execution_count": null,
      "outputs": [
        {
          "name": "stdout",
          "output_type": "stream",
          "text": [
            "이름을 쓰시오!강하자\n"
          ]
        }
      ]
    },
    {
      "cell_type": "code",
      "source": [
        "# 1) 년도를 입력받는다.\n",
        "input_value = input('년도:')"
      ],
      "metadata": {
        "id": "3KuQWqlkHv-x",
        "colab": {
          "base_uri": "https://localhost:8080/"
        },
        "outputId": "3fc4b01c-4ed6-48c9-81c3-c28a3e18a45e"
      },
      "id": "3KuQWqlkHv-x",
      "execution_count": null,
      "outputs": [
        {
          "name": "stdout",
          "output_type": "stream",
          "text": [
            "년도:ㅋㅋㅋ\n"
          ]
        }
      ]
    },
    {
      "cell_type": "code",
      "source": [
        "input_value"
      ],
      "metadata": {
        "colab": {
          "base_uri": "https://localhost:8080/",
          "height": 35
        },
        "id": "Zbo62swOeVJs",
        "outputId": "c8a324fc-a994-42a1-9d05-ac40eff9a210"
      },
      "id": "Zbo62swOeVJs",
      "execution_count": null,
      "outputs": [
        {
          "output_type": "execute_result",
          "data": {
            "text/plain": [
              "'ㅋㅋㅋ'"
            ],
            "application/vnd.google.colaboratory.intrinsic+json": {
              "type": "string"
            }
          },
          "metadata": {},
          "execution_count": 20
        }
      ]
    },
    {
      "cell_type": "code",
      "source": [
        "if not input_value.isnumeric():\n",
        "    print('!!!숫자로만 입력하세요!!!')\n",
        "    sys.exit(0) # 프로그램 강제종료"
      ],
      "metadata": {
        "id": "VcQw1gOPH2DI"
      },
      "id": "VcQw1gOPH2DI",
      "execution_count": null,
      "outputs": []
    },
    {
      "cell_type": "code",
      "execution_count": null,
      "id": "d8173142",
      "metadata": {
        "id": "d8173142",
        "colab": {
          "base_uri": "https://localhost:8080/"
        },
        "outputId": "4d66166e-038f-46ca-8bf2-1b3886fec852"
      },
      "outputs": [
        {
          "name": "stdout",
          "output_type": "stream",
          "text": [
            "년도:2024\n"
          ]
        }
      ],
      "source": [
        "# 1) 년도를 입력받는다.\n",
        "input_value = input('년도:')\n",
        "\n",
        "if not input_value.isnumeric():\n",
        "    print('!!!숫자로만 입력하세요!!!')\n",
        "    sys.exit(0) # 프로그램 강제종료\n"
      ]
    },
    {
      "cell_type": "code",
      "source": [
        "# 1) 년도를 입력받는다.\n",
        "input_value = input('년도:')\n",
        "\n",
        "if not input_value.isnumeric():\n",
        "    print('!!!숫자로만 입력하세요!!!')\n",
        "    sys.exit(0) # 프로그램 강제종료\n",
        "\n",
        "year = int(input_value)\n",
        "#  int = int(string) to change the string to integer data type"
      ],
      "metadata": {
        "id": "AqaO_p-OIIhO",
        "colab": {
          "base_uri": "https://localhost:8080/"
        },
        "outputId": "41d50a95-a9ca-4d03-b1d0-ed344da75dea"
      },
      "id": "AqaO_p-OIIhO",
      "execution_count": null,
      "outputs": [
        {
          "name": "stdout",
          "output_type": "stream",
          "text": [
            "년도:2024\n"
          ]
        }
      ]
    },
    {
      "cell_type": "code",
      "source": [
        "print(year, type(year))"
      ],
      "metadata": {
        "id": "PAdQXEajyrKG",
        "colab": {
          "base_uri": "https://localhost:8080/"
        },
        "outputId": "a280b541-e773-4af8-e301-1b8315b15271"
      },
      "id": "PAdQXEajyrKG",
      "execution_count": null,
      "outputs": [
        {
          "output_type": "stream",
          "name": "stdout",
          "text": [
            "2024 <class 'int'>\n"
          ]
        }
      ]
    },
    {
      "cell_type": "code",
      "execution_count": null,
      "id": "d7c535f3",
      "metadata": {
        "id": "d7c535f3"
      },
      "outputs": [],
      "source": [
        "# 2) 년도가 짝수해인 경우 '짝수'를 출력하고 홀수해인 경우 '홀수'를 출력하시오\n",
        "# hint : 짝수는 2로 나눈 나머지 값이 0인경우\n",
        "\n"
      ]
    },
    {
      "cell_type": "code",
      "execution_count": null,
      "id": "e20dfe88-5ad3-4a3e-aee4-4c583118bca3",
      "metadata": {
        "id": "e20dfe88-5ad3-4a3e-aee4-4c583118bca3",
        "colab": {
          "base_uri": "https://localhost:8080/",
          "height": 193
        },
        "outputId": "62868312-c966-44b5-d35e-0c1ca2854ac5"
      },
      "outputs": [
        {
          "output_type": "error",
          "ename": "TypeError",
          "evalue": "not all arguments converted during string formatting",
          "traceback": [
            "\u001b[0;31m---------------------------------------------------------------------------\u001b[0m",
            "\u001b[0;31mTypeError\u001b[0m                                 Traceback (most recent call last)",
            "\u001b[0;32m<ipython-input-37-cd9181110ad9>\u001b[0m in \u001b[0;36m<cell line: 5>\u001b[0;34m()\u001b[0m\n\u001b[1;32m      3\u001b[0m \u001b[0;31m# 1-닭 2-개 3-돼지 4-쥐 5-소 6-호랑이 7-토끼 8-용 9-뱀 10-말 11-양\u001b[0m\u001b[0;34m\u001b[0m\u001b[0;34m\u001b[0m\u001b[0m\n\u001b[1;32m      4\u001b[0m \u001b[0mzodiac\u001b[0m \u001b[0;34m=\u001b[0m \u001b[0;34m[\u001b[0m\u001b[0;34m'원숭이'\u001b[0m\u001b[0;34m,\u001b[0m\u001b[0;34m'닭'\u001b[0m\u001b[0;34m,\u001b[0m\u001b[0;34m'개'\u001b[0m\u001b[0;34m,\u001b[0m\u001b[0;34m'돼지'\u001b[0m\u001b[0;34m,\u001b[0m\u001b[0;34m'쥐'\u001b[0m\u001b[0;34m,\u001b[0m\u001b[0;34m'소'\u001b[0m\u001b[0;34m,\u001b[0m\u001b[0;34m'호랑이'\u001b[0m\u001b[0;34m,\u001b[0m\u001b[0;34m'토끼'\u001b[0m\u001b[0;34m,\u001b[0m\u001b[0;34m'용'\u001b[0m\u001b[0;34m,\u001b[0m\u001b[0;34m'뱀'\u001b[0m\u001b[0;34m,\u001b[0m\u001b[0;34m'말'\u001b[0m\u001b[0;34m,\u001b[0m\u001b[0;34m'양'\u001b[0m\u001b[0;34m]\u001b[0m\u001b[0;34m\u001b[0m\u001b[0;34m\u001b[0m\u001b[0m\n\u001b[0;32m----> 5\u001b[0;31m \u001b[0mmod\u001b[0m \u001b[0;34m=\u001b[0m \u001b[0myear\u001b[0m\u001b[0;34m%\u001b[0m\u001b[0;36m12\u001b[0m\u001b[0;34m\u001b[0m\u001b[0;34m\u001b[0m\u001b[0m\n\u001b[0m\u001b[1;32m      6\u001b[0m \u001b[0mprint\u001b[0m\u001b[0;34m(\u001b[0m\u001b[0mzodiac\u001b[0m\u001b[0;34m[\u001b[0m\u001b[0mmod\u001b[0m\u001b[0;34m]\u001b[0m\u001b[0;34m)\u001b[0m\u001b[0;34m\u001b[0m\u001b[0;34m\u001b[0m\u001b[0m\n",
            "\u001b[0;31mTypeError\u001b[0m: not all arguments converted during string formatting"
          ]
        }
      ],
      "source": [
        "# 3) 년도에 해당하는 동물을 출력하세요.\n",
        "# 년도를 12로 나눈 나머지가 0이면 원숭이\n",
        "# 1-닭 2-개 3-돼지 4-쥐 5-소 6-호랑이 7-토끼 8-용 9-뱀 10-말 11-양\n",
        "zodiac = ['원숭이','닭','개','돼지','쥐','소','호랑이','토끼','용','뱀','말','양']\n",
        "mod = year % 12\n",
        "print(zodiac[mod])\n"
      ]
    },
    {
      "cell_type": "code",
      "source": [
        "# (3) 그냥(?) 답안\n",
        "'''\n",
        "mod = year % 12\n",
        "if mod == 0:\n",
        "    print('원숭이')\n",
        "else:\n",
        "    if mod == 1:\n",
        "        print('닭')\n",
        "    else:\n",
        "           ... ...    이러지말고 여러 조건 쓸려면 elif를 쓰자\n",
        "'''\n",
        "\n",
        "mod = year % 12\n",
        "if mod == 0:\n",
        "    print('원숭이')\n",
        "elif mod == 1:\n",
        "    print('닭')\n",
        "elif mod == 2:\n",
        "    print('개')\n",
        "elif mod == 3:\n",
        "    print('돼지')\n",
        "elif mod == 4:\n",
        "    print('쥐')\n",
        "elif mod == 5:\n",
        "    print('소')\n",
        "elif mod == 6:\n",
        "    print('호랑이')\n",
        "elif mod == 7:\n",
        "    print('토끼')\n",
        "elif mod == 8:\n",
        "    print('용')\n",
        "elif mod == 9:\n",
        "    print('뱀')\n",
        "elif mod == 10:\n",
        "    print('말')\n",
        "else:\n",
        "    print('양')"
      ],
      "metadata": {
        "id": "othDJMLrzuw8"
      },
      "id": "othDJMLrzuw8",
      "execution_count": null,
      "outputs": []
    },
    {
      "cell_type": "code",
      "execution_count": null,
      "id": "582745a8-9b51-40d4-ae5a-f1efd7684262",
      "metadata": {
        "id": "582745a8-9b51-40d4-ae5a-f1efd7684262"
      },
      "outputs": [],
      "source": [
        "# Q1. 점수를 입력받아 학점을 부여하세요.\n",
        "# A: 90점 이상, B: 80점 이상 90점 미만, ... ... , F: 60점 미만\n",
        "\n",
        "input_value2 = input('점수를 입력하세요:')\n",
        "score = int(input_value2)\n",
        "\n",
        "\n",
        "\n",
        "\n",
        "\n",
        "\n",
        "\n",
        "\n",
        "\n",
        "\n",
        "\n",
        "\n",
        "\n",
        "\n",
        "\n",
        "\n",
        "\n",
        "\n",
        "\n",
        "\n",
        "\n",
        "\n",
        "\n",
        "\n",
        "\n"
      ]
    },
    {
      "cell_type": "code",
      "execution_count": null,
      "id": "81df7958-6720-4437-ba5a-41f90aa1d886",
      "metadata": {
        "id": "81df7958-6720-4437-ba5a-41f90aa1d886"
      },
      "outputs": [],
      "source": [
        "# Q2. 금액을 입력받아 이 금액을 최소한의 동전을 이용하여 바꿀 때, 각 동전의 갯수를 정하시오.\n",
        "# 예) 3890원 - 500원 7개, 100원 3개, 50원 1개, 10원 4개\n",
        "\n",
        "input_value3 = input('금액을 입력하세요:')\n",
        "money = int(input_value3)\n",
        "\n",
        "\n",
        "\n",
        "\n",
        "\n",
        "\n",
        "\n",
        "\n",
        "\n",
        "\n",
        "\n",
        "\n",
        "\n",
        "\n",
        "\n",
        "\n",
        "\n",
        "\n",
        "\n",
        "\n",
        "\n",
        "\n",
        "\n",
        "\n",
        "\n"
      ]
    },
    {
      "cell_type": "code",
      "execution_count": null,
      "id": "a68877cb",
      "metadata": {
        "id": "a68877cb",
        "colab": {
          "base_uri": "https://localhost:8080/"
        },
        "outputId": "3ab3c62e-0982-428a-9ec9-5ec2d4853b94"
      },
      "outputs": [
        {
          "output_type": "stream",
          "name": "stdout",
          "text": [
            "0\n",
            "1\n",
            "2\n",
            "3\n",
            "4\n",
            "**********\n",
            "5\n"
          ]
        }
      ],
      "source": [
        "n=0\n",
        "\n",
        "while n<5:  # selagi n lagi kurang drpd 5, teruskan calculation\n",
        "  print(n)\n",
        "  n = n+1\n",
        "\n",
        "  # can also be written n += 1\n",
        "  # n: nombor lama, n+1: nombor baru\n",
        "\n",
        "print('*'*10)\n",
        "print(n)"
      ]
    },
    {
      "cell_type": "code",
      "source": [
        "n=0\n",
        "\n",
        "while n<5:\n",
        "  print(n)\n",
        "  if n==4:    # nak buat calculation sampai 4, pastu nak stop\n",
        "    print('done')\n",
        "    break  # 제일 가까운 반복문 탈출하기, keluar one repeat loop\n",
        "  n = n+1\n",
        "\n",
        "print('*'*10)\n",
        "print(n)"
      ],
      "metadata": {
        "id": "vTybaVW2zNxn",
        "colab": {
          "base_uri": "https://localhost:8080/"
        },
        "outputId": "04b535be-25dd-41e4-9b34-cb7bc0b2fd75"
      },
      "id": "vTybaVW2zNxn",
      "execution_count": null,
      "outputs": [
        {
          "output_type": "stream",
          "name": "stdout",
          "text": [
            "0\n",
            "1\n",
            "2\n",
            "3\n",
            "4\n",
            "done\n",
            "**********\n",
            "4\n"
          ]
        }
      ]
    },
    {
      "cell_type": "code",
      "source": [
        "#cf. 넣을 곳이 없어서 여기에다 넣는 이야기\n",
        "\n",
        "# a=3, b=5 일 때, a와 b의 값을 바꾸어라\n",
        "\n",
        "a = 3\n",
        "b = 5\n",
        "print(a,b)\n",
        "\n",
        "a, b = b, a   # nak switch tempat, in python can simple write like this\n",
        "print(a,b)"
      ],
      "metadata": {
        "id": "62AmPcSGQK8O",
        "colab": {
          "base_uri": "https://localhost:8080/"
        },
        "outputId": "8c7a142e-6a29-4645-83fa-ddef50aee0ba"
      },
      "id": "62AmPcSGQK8O",
      "execution_count": null,
      "outputs": [
        {
          "output_type": "stream",
          "name": "stdout",
          "text": [
            "3 5\n",
            "5 3\n"
          ]
        }
      ]
    },
    {
      "cell_type": "code",
      "source": [
        "# cf. rather than tulis susah macam ni similar to C언어\n",
        "\n",
        "a = 3\n",
        "b = 5\n",
        "\n",
        "temp = b\n",
        "b = a\n",
        "a = temp\n",
        "\n",
        "print('a,b:',a,b)"
      ],
      "metadata": {
        "id": "QrNCTO_jMG_v",
        "colab": {
          "base_uri": "https://localhost:8080/"
        },
        "outputId": "1f2c09d1-9c2a-4a72-cf5c-a0ea32e3acf1"
      },
      "id": "QrNCTO_jMG_v",
      "execution_count": null,
      "outputs": [
        {
          "output_type": "stream",
          "name": "stdout",
          "text": [
            "a,b: 5 3\n"
          ]
        }
      ]
    },
    {
      "cell_type": "code",
      "source": [],
      "metadata": {
        "id": "l9eUy_sYMabV"
      },
      "id": "l9eUy_sYMabV",
      "execution_count": null,
      "outputs": []
    }
  ],
  "metadata": {
    "kernelspec": {
      "display_name": "Python 3 (ipykernel)",
      "language": "python",
      "name": "python3"
    },
    "language_info": {
      "codemirror_mode": {
        "name": "ipython",
        "version": 3
      },
      "file_extension": ".py",
      "mimetype": "text/x-python",
      "name": "python",
      "nbconvert_exporter": "python",
      "pygments_lexer": "ipython3",
      "version": "3.11.2"
    },
    "colab": {
      "provenance": [],
      "include_colab_link": true
    }
  },
  "nbformat": 4,
  "nbformat_minor": 5
}