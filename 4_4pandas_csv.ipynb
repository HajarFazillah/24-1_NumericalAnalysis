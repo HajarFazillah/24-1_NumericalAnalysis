{
  "cells": [
    {
      "cell_type": "markdown",
      "metadata": {
        "id": "view-in-github",
        "colab_type": "text"
      },
      "source": [
        "<a href=\"https://colab.research.google.com/github/HajarFazillah/24-1_NumericalAnalysis/blob/main/4_4pandas_csv.ipynb\" target=\"_parent\"><img src=\"https://colab.research.google.com/assets/colab-badge.svg\" alt=\"Open In Colab\"/></a>"
      ]
    },
    {
      "cell_type": "code",
      "source": [
        "from google.colab import drive\n",
        "drive.mount('/content/drive')"
      ],
      "metadata": {
        "id": "TieLlMjkUlDI"
      },
      "id": "TieLlMjkUlDI",
      "execution_count": null,
      "outputs": []
    },
    {
      "cell_type": "code",
      "execution_count": null,
      "id": "8bc2898e",
      "metadata": {
        "id": "8bc2898e"
      },
      "outputs": [],
      "source": [
        "import pandas as pd\n",
        "import numpy as np"
      ]
    },
    {
      "cell_type": "code",
      "execution_count": null,
      "id": "cd0ae251",
      "metadata": {
        "colab": {
          "base_uri": "https://localhost:8080/"
        },
        "id": "cd0ae251",
        "outputId": "1cb211d4-bc64-4726-b14a-7235f31bb23b"
      },
      "outputs": [
        {
          "output_type": "stream",
          "name": "stdout",
          "text": [
            "[[0 1]\n",
            " [2 3]\n",
            " [4 5]\n",
            " [6 7]\n",
            " [8 9]]\n"
          ]
        }
      ],
      "source": [
        "arr = np.array(np.arange(10))\n",
        "arr = arr.reshape(5,2)\n",
        "print(arr)"
      ]
    },
    {
      "cell_type": "code",
      "source": [
        "chr(97) #ASCII code small letter 'a'"
      ],
      "metadata": {
        "colab": {
          "base_uri": "https://localhost:8080/",
          "height": 36
        },
        "id": "OIzB3WwOq7uD",
        "outputId": "dc08e97b-572c-4066-ec9f-ea73275436f5"
      },
      "id": "OIzB3WwOq7uD",
      "execution_count": null,
      "outputs": [
        {
          "output_type": "execute_result",
          "data": {
            "text/plain": [
              "'a'"
            ],
            "application/vnd.google.colaboratory.intrinsic+json": {
              "type": "string"
            }
          },
          "metadata": {},
          "execution_count": 6
        }
      ]
    },
    {
      "cell_type": "code",
      "source": [
        "chr(97-32)"
      ],
      "metadata": {
        "colab": {
          "base_uri": "https://localhost:8080/",
          "height": 36
        },
        "id": "yxf1NX6MVe2-",
        "outputId": "088f3e3f-eede-4a8d-e0e8-22a2769a48af"
      },
      "id": "yxf1NX6MVe2-",
      "execution_count": null,
      "outputs": [
        {
          "output_type": "execute_result",
          "data": {
            "text/plain": [
              "'A'"
            ],
            "application/vnd.google.colaboratory.intrinsic+json": {
              "type": "string"
            }
          },
          "metadata": {},
          "execution_count": 4
        }
      ]
    },
    {
      "cell_type": "code",
      "execution_count": null,
      "id": "960d909c",
      "metadata": {
        "colab": {
          "base_uri": "https://localhost:8080/"
        },
        "id": "960d909c",
        "outputId": "43cf3956-674a-4cde-cd6d-9822582caa5b"
      },
      "outputs": [
        {
          "output_type": "stream",
          "name": "stdout",
          "text": [
            "   c1  c2\n",
            "a   0   1\n",
            "b   2   3\n",
            "c   4   5\n",
            "d   6   7\n",
            "e   8   9\n"
          ]
        }
      ],
      "source": [
        "df = pd.DataFrame(arr, columns=['c1', 'c2'], dtype=int, index=[chr(97+i) for i in np.arange(5)])\n",
        "                                                           #ASCII 97=a\n",
        "# use Data.Frame to make the output shows like a table (like in excel cells)\n",
        "print(df)"
      ]
    },
    {
      "cell_type": "code",
      "execution_count": null,
      "id": "02c095a1",
      "metadata": {
        "id": "02c095a1"
      },
      "outputs": [],
      "source": [
        "## columns=None, header=True, index=True, index_label=None,\n",
        "##  파일로 저장해 보자~ : datas 디렉토리가 있어야 저장할 수 있어\n",
        "df.to_csv('/content/drive/MyDrive/Colab Notebooks/a_header_index.csv')  #index 도 자료로 i.e. index 의 라벨 없음 ㅎㅎㅎㅎ\n",
        "df.to_csv('/content/drive/MyDrive/Colab Notebooks/a_header_index_label.csv', index_label='alpha')  #index 이름 지정\n",
        "df.to_csv('/content/drive/MyDrive/Colab Notebooks/a_non_index.csv', index=False)  #index 없이 저장\n",
        "df.to_csv('/content/drive/MyDrive/Colab Notebooks/a_non_header.csv', index_label='alpha', header=False)"
      ]
    },
    {
      "cell_type": "code",
      "execution_count": null,
      "id": "2f1a9262",
      "metadata": {
        "colab": {
          "base_uri": "https://localhost:8080/"
        },
        "id": "2f1a9262",
        "outputId": "1777822a-ff92-4b51-a3a6-6f8baa4d403e"
      },
      "outputs": [
        {
          "output_type": "stream",
          "name": "stdout",
          "text": [
            "  Unnamed: 0  c1  c2\n",
            "0          a   0   1\n",
            "1          b   2   3\n",
            "2          c   4   5\n",
            "3          d   6   7\n",
            "4          e   8   9\n"
          ]
        }
      ],
      "source": [
        "# 파일을 읽어보자\n",
        "df = pd.read_csv('/content/drive/MyDrive/Colab Notebooks/a_header_index.csv')\n",
        "print(df)"
      ]
    },
    {
      "cell_type": "code",
      "execution_count": null,
      "id": "ff685594",
      "metadata": {
        "colab": {
          "base_uri": "https://localhost:8080/"
        },
        "id": "ff685594",
        "outputId": "43550689-4d99-4aba-ec08-37e3435e3d6e"
      },
      "outputs": [
        {
          "output_type": "stream",
          "name": "stdout",
          "text": [
            "   c1  c2\n",
            "a   0   1\n",
            "b   2   3\n",
            "c   4   5\n",
            "d   6   7\n",
            "e   8   9\n"
          ]
        }
      ],
      "source": [
        "df = pd.read_csv('/content/drive/MyDrive/Colab Notebooks/a_header_index.csv', index_col=0)\n",
        "print(df)"
      ]
    },
    {
      "cell_type": "code",
      "execution_count": null,
      "id": "ece6018f",
      "metadata": {
        "colab": {
          "base_uri": "https://localhost:8080/"
        },
        "id": "ece6018f",
        "outputId": "8ddf36e1-dadb-41bb-99b8-b28666dd7aa3"
      },
      "outputs": [
        {
          "output_type": "stream",
          "name": "stdout",
          "text": [
            "       c1  c2\n",
            "alpha        \n",
            "a       0   1\n",
            "b       2   3\n",
            "c       4   5\n",
            "d       6   7\n",
            "e       8   9\n"
          ]
        }
      ],
      "source": [
        "df = pd.read_csv('/content/drive/MyDrive/Colab Notebooks/a_header_index_label.csv', index_col='alpha')\n",
        "print(df)"
      ]
    },
    {
      "cell_type": "code",
      "execution_count": null,
      "id": "e2750ebb",
      "metadata": {
        "colab": {
          "base_uri": "https://localhost:8080/"
        },
        "id": "e2750ebb",
        "outputId": "3ecef433-e405-4429-d772-789f0bee9600"
      },
      "outputs": [
        {
          "output_type": "stream",
          "name": "stdout",
          "text": [
            "   c1  c2\n",
            "0   0   1\n",
            "1   2   3\n",
            "2   4   5\n",
            "3   6   7\n",
            "4   8   9\n"
          ]
        }
      ],
      "source": [
        "df = pd.read_csv('/content/drive/MyDrive/Colab Notebooks/a_non_index.csv')\n",
        "print(df)"
      ]
    },
    {
      "cell_type": "code",
      "execution_count": null,
      "id": "8033d86f",
      "metadata": {
        "colab": {
          "base_uri": "https://localhost:8080/"
        },
        "id": "8033d86f",
        "outputId": "d56db325-2d00-4851-a01f-df0e4ae1d5f8"
      },
      "outputs": [
        {
          "output_type": "stream",
          "name": "stdout",
          "text": [
            "   c1  c2\n",
            "a   0   1\n",
            "b   2   3\n",
            "c   4   5\n",
            "d   6   7\n",
            "e   8   9\n"
          ]
        }
      ],
      "source": [
        "df.index = [chr(97+i)for i in np.arange(5)]  #index 만들기\n",
        "print(df)"
      ]
    },
    {
      "cell_type": "code",
      "execution_count": null,
      "id": "d5da3e4a",
      "metadata": {
        "colab": {
          "base_uri": "https://localhost:8080/"
        },
        "id": "d5da3e4a",
        "outputId": "02af9f54-075c-4486-b62e-78977a85151f"
      },
      "outputs": [
        {
          "output_type": "stream",
          "name": "stdout",
          "text": [
            "   c1  c2\n",
            "a   0   1\n",
            "b   2   3\n",
            "c   4   5\n",
            "d   6   7\n",
            "e   8   9\n"
          ]
        }
      ],
      "source": [
        "df = pd.read_csv('/content/drive/MyDrive/Colab Notebooks/a_non_header.csv', header=None, names=['c1', 'c2'])  # header가 없는 파일 읽어올 때 header=None\n",
        "print(df)"
      ]
    },
    {
      "cell_type": "code",
      "execution_count": null,
      "id": "2e698c36",
      "metadata": {
        "colab": {
          "base_uri": "https://localhost:8080/"
        },
        "id": "2e698c36",
        "outputId": "3d3271de-9d37-4bce-f7b0-3f96c2f75cb3"
      },
      "outputs": [
        {
          "output_type": "stream",
          "name": "stdout",
          "text": [
            "   a  0  1\n",
            "0  b  2  3\n",
            "1  c  4  5\n",
            "2  d  6  7\n",
            "3  e  8  9\n"
          ]
        }
      ],
      "source": [
        "df = pd.read_csv('/content/drive/MyDrive/Colab Notebooks/a_non_header.csv')  # 첫번째 행을 header로 취급한다.\n",
        "print(df)"
      ]
    },
    {
      "cell_type": "code",
      "execution_count": null,
      "id": "303a3508",
      "metadata": {
        "id": "303a3508"
      },
      "outputs": [],
      "source": []
    }
  ],
  "metadata": {
    "kernelspec": {
      "display_name": "Python 3 (ipykernel)",
      "language": "python",
      "name": "python3"
    },
    "language_info": {
      "codemirror_mode": {
        "name": "ipython",
        "version": 3
      },
      "file_extension": ".py",
      "mimetype": "text/x-python",
      "name": "python",
      "nbconvert_exporter": "python",
      "pygments_lexer": "ipython3",
      "version": "3.11.2"
    },
    "colab": {
      "provenance": [],
      "include_colab_link": true
    }
  },
  "nbformat": 4,
  "nbformat_minor": 5
}