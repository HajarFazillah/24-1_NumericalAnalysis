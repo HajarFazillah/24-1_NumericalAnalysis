{
  "cells": [
    {
      "cell_type": "markdown",
      "metadata": {
        "id": "view-in-github",
        "colab_type": "text"
      },
      "source": [
        "<a href=\"https://colab.research.google.com/github/HajarFazillah/24-1_NumericalAnalysis/blob/main/3_2dictionary_more.ipynb\" target=\"_parent\"><img src=\"https://colab.research.google.com/assets/colab-badge.svg\" alt=\"Open In Colab\"/></a>"
      ]
    },
    {
      "cell_type": "markdown",
      "source": [
        "# cf. list"
      ],
      "metadata": {
        "id": "IOMvyBsnjut0"
      },
      "id": "IOMvyBsnjut0"
    },
    {
      "cell_type": "code",
      "source": [
        "list1 = []"
      ],
      "metadata": {
        "id": "z-1DJ3tCbB28"
      },
      "id": "z-1DJ3tCbB28",
      "execution_count": null,
      "outputs": []
    },
    {
      "cell_type": "code",
      "execution_count": null,
      "id": "bb4358bf",
      "metadata": {
        "id": "bb4358bf",
        "colab": {
          "base_uri": "https://localhost:8080/"
        },
        "outputId": "2fcadeb2-821c-4107-8a6f-258003538210"
      },
      "outputs": [
        {
          "output_type": "stream",
          "name": "stdout",
          "text": [
            "[1]\n"
          ]
        }
      ],
      "source": [
        "a = 1\n",
        "list1.append(a)\n",
        "print(list1)"
      ]
    },
    {
      "cell_type": "code",
      "source": [
        "a = 2\n",
        "list1.append(a)\n",
        "print(list1)"
      ],
      "metadata": {
        "id": "yCY6cB2va8Qf",
        "colab": {
          "base_uri": "https://localhost:8080/"
        },
        "outputId": "cda79d8b-eb1f-4448-ab6f-0c096d6b0f76"
      },
      "id": "yCY6cB2va8Qf",
      "execution_count": null,
      "outputs": [
        {
          "output_type": "stream",
          "name": "stdout",
          "text": [
            "[1, 2]\n"
          ]
        }
      ]
    },
    {
      "cell_type": "code",
      "source": [],
      "metadata": {
        "id": "sp9AQ_LIbJCq"
      },
      "id": "sp9AQ_LIbJCq",
      "execution_count": null,
      "outputs": []
    },
    {
      "cell_type": "code",
      "source": [
        "lissst=[]"
      ],
      "metadata": {
        "id": "pMtPULyFbIU2"
      },
      "id": "pMtPULyFbIU2",
      "execution_count": null,
      "outputs": []
    },
    {
      "cell_type": "code",
      "execution_count": null,
      "id": "f3ac314c",
      "metadata": {
        "id": "f3ac314c",
        "colab": {
          "base_uri": "https://localhost:8080/"
        },
        "outputId": "03a25a6b-d11c-4e02-c196-77e80a0ab99b"
      },
      "outputs": [
        {
          "output_type": "stream",
          "name": "stdout",
          "text": [
            "1\n",
            "[1]\n"
          ]
        }
      ],
      "source": [
        "c = 1\n",
        "d = c  # 이거 말이 안되나??\n",
        "print(d)\n",
        "\n",
        "lissst.append(d)\n",
        "print(lissst)"
      ]
    },
    {
      "cell_type": "code",
      "source": [
        "c = 2     # why does it not show? it just copy\n",
        "lissst.append(d)\n",
        "print(lissst)"
      ],
      "metadata": {
        "id": "T-sjPPUhbOYK",
        "colab": {
          "base_uri": "https://localhost:8080/"
        },
        "outputId": "c0de9327-8652-4c88-9852-67dc9a40d2f1"
      },
      "id": "T-sjPPUhbOYK",
      "execution_count": null,
      "outputs": [
        {
          "output_type": "stream",
          "name": "stdout",
          "text": [
            "[1, 1, 1]\n"
          ]
        }
      ]
    },
    {
      "cell_type": "code",
      "source": [],
      "metadata": {
        "id": "Zx1fEkwNbR6g"
      },
      "id": "Zx1fEkwNbR6g",
      "execution_count": null,
      "outputs": []
    },
    {
      "cell_type": "markdown",
      "source": [
        "# dictionary"
      ],
      "metadata": {
        "id": "5JPsd3q0jyqU"
      },
      "id": "5JPsd3q0jyqU"
    },
    {
      "cell_type": "code",
      "source": [
        "list2 = []\n",
        "dic={}"
      ],
      "metadata": {
        "id": "vqpMzprWb-lP"
      },
      "id": "vqpMzprWb-lP",
      "execution_count": null,
      "outputs": []
    },
    {
      "cell_type": "code",
      "execution_count": null,
      "id": "48c1a3ba",
      "metadata": {
        "id": "48c1a3ba",
        "colab": {
          "base_uri": "https://localhost:8080/"
        },
        "outputId": "9f0d5ff9-17cd-40d3-f0f6-5a4e27368416"
      },
      "outputs": [
        {
          "output_type": "stream",
          "name": "stdout",
          "text": [
            "[{'a': 'apple'}]\n"
          ]
        }
      ],
      "source": [
        "dic['a'] = 'apple'\n",
        "list2.append(dic)\n",
        "print(list2)"
      ]
    },
    {
      "cell_type": "code",
      "source": [
        "dic['a'] = 'abc'\n",
        "list2.append(dic)\n",
        "print(list2)"
      ],
      "metadata": {
        "id": "6Py963QVcKHQ",
        "colab": {
          "base_uri": "https://localhost:8080/"
        },
        "outputId": "b397b6b7-ea8e-467d-f13a-ea4394ed8412"
      },
      "id": "6Py963QVcKHQ",
      "execution_count": null,
      "outputs": [
        {
          "output_type": "stream",
          "name": "stdout",
          "text": [
            "[{'a': 'abc'}, {'a': 'abc'}]\n"
          ]
        }
      ]
    },
    {
      "cell_type": "code",
      "source": [
        "# dictionary type 사용에 주의하자!! ( 덧. c언어의 pointer 내용에 해당 )"
      ],
      "metadata": {
        "id": "Jo7PNRTPcMWB"
      },
      "id": "Jo7PNRTPcMWB",
      "execution_count": null,
      "outputs": []
    },
    {
      "cell_type": "code",
      "source": [
        "list3 = []"
      ],
      "metadata": {
        "id": "xv1tU_eNcOH-"
      },
      "id": "xv1tU_eNcOH-",
      "execution_count": null,
      "outputs": []
    },
    {
      "cell_type": "code",
      "execution_count": null,
      "id": "561b955b",
      "metadata": {
        "id": "561b955b",
        "colab": {
          "base_uri": "https://localhost:8080/"
        },
        "outputId": "679872ee-d0dc-44da-a230-fbca18a6ed21"
      },
      "outputs": [
        {
          "output_type": "stream",
          "name": "stdout",
          "text": [
            "[{'a': 'apple'}]\n"
          ]
        }
      ],
      "source": [
        "dic2 = {}  # 1번 주소\n",
        "dic2['a'] = 'apple'\n",
        "list3.append(dic2)\n",
        "print(list3)"
      ]
    },
    {
      "cell_type": "code",
      "source": [
        "dic2 = {}  # 2번 주소, 완전 새로운 것, 위에 dic2와는 다른 것!\n",
        "# walaupun tulis nama dic sama, dia akan tutup nama original and show yg baru\n",
        "dic2['a'] = 'abc'\n",
        "list3.append(dic2)\n",
        "print(list3)"
      ],
      "metadata": {
        "id": "X1G8PdTcdBQs",
        "colab": {
          "base_uri": "https://localhost:8080/"
        },
        "outputId": "6afa60f7-1106-44b1-e1dd-b03c55a020ce"
      },
      "id": "X1G8PdTcdBQs",
      "execution_count": null,
      "outputs": [
        {
          "output_type": "stream",
          "name": "stdout",
          "text": [
            "[{'a': 'apple'}, {'a': 'abc'}, {'a': 'abc'}, {'a': 'abc'}]\n"
          ]
        }
      ]
    },
    {
      "cell_type": "code",
      "source": [],
      "metadata": {
        "id": "PPI7SDr9dYaQ"
      },
      "id": "PPI7SDr9dYaQ",
      "execution_count": null,
      "outputs": []
    },
    {
      "cell_type": "code",
      "execution_count": null,
      "id": "06d872e4",
      "metadata": {
        "id": "06d872e4",
        "colab": {
          "base_uri": "https://localhost:8080/"
        },
        "outputId": "c398df14-5566-4da9-c08a-d56ce00f74d1"
      },
      "outputs": [
        {
          "output_type": "stream",
          "name": "stdout",
          "text": [
            "[{'a': 'apple'}]\n",
            "[{'a': 'abc'}, {'a': 'abc'}]\n"
          ]
        }
      ],
      "source": [
        "# 아래와 같은 시도에 주의하자!\n",
        "\n",
        "list4 = []\n",
        "\n",
        "dic3 = {}\n",
        "dic3['a'] = 'apple'\n",
        "list4.append(dic3)\n",
        "print(list4)\n",
        "\n",
        "# clear() : bukan maknanya buat dic baru, but just clearkan content dalam dic\n",
        "dic3.clear()  # dic3.clear()은 기존 주소를 사용하는 것이다.\n",
        "dic3['a'] = 'abc'\n",
        "list4.append(dic3)\n",
        "print(list4)"
      ]
    },
    {
      "cell_type": "code",
      "execution_count": null,
      "id": "a6cdb92c",
      "metadata": {
        "id": "a6cdb92c"
      },
      "outputs": [],
      "source": []
    },
    {
      "cell_type": "markdown",
      "source": [
        "# 연습문제"
      ],
      "metadata": {
        "id": "9WP_TCk7j-l0"
      },
      "id": "9WP_TCk7j-l0"
    },
    {
      "cell_type": "code",
      "execution_count": null,
      "id": "49d500ce",
      "metadata": {
        "id": "49d500ce"
      },
      "outputs": [],
      "source": [
        "# 국어 수학 영어\n",
        "# 100  30  50\n",
        "#  90  80  50\n",
        "\n",
        "# 1) 각 학생들의 과목별 점수들을 dictionary타입의 subject_score에 추가하고,\n",
        "#    subject_score를 list타입의 total_set에 추가하시오.\n",
        "\n",
        "# 2) 각 학생의 math점수만 출력하시오.\n",
        "\n",
        "# 3) 각 학생들의 개인별 평균을 구하시오 : ave()함수 없음, sum()함수 있음!!\n",
        "\n",
        "# 4) 각 과목별 평균을 구하시오.\n"
      ]
    },
    {
      "cell_type": "code",
      "source": [
        "# todo: 1)~4)\n",
        "total_set = []\n",
        "subject_score = {}\n",
        "subject_score['kor'] = 100\n",
        "subject_score['math'] = 30\n",
        "subject_score['eng'] = 50\n",
        "\n",
        "total_set.append(subject_score)"
      ],
      "metadata": {
        "id": "s0EyCdPfv1Ug"
      },
      "id": "s0EyCdPfv1Ug",
      "execution_count": null,
      "outputs": []
    },
    {
      "cell_type": "code",
      "execution_count": null,
      "id": "9313a6e7",
      "metadata": {
        "id": "9313a6e7"
      },
      "outputs": [],
      "source": [
        "# 주의!!!\n",
        "# (1) 잘못된 시도 Wrong trial"
      ]
    },
    {
      "cell_type": "code",
      "source": [
        "total_set = []\n",
        "subject_score = {}\n",
        "\n",
        "subject_score['kor'] = 100\n",
        "subject_score['math'] = 30\n",
        "subject_score['eng'] = 50\n",
        "\n",
        "total_set.append(subject_score)"
      ],
      "metadata": {
        "id": "YWH30VEJkkfO"
      },
      "id": "YWH30VEJkkfO",
      "execution_count": null,
      "outputs": []
    },
    {
      "cell_type": "code",
      "source": [
        "print(total_set)"
      ],
      "metadata": {
        "id": "NrRphJ6Qku9v",
        "colab": {
          "base_uri": "https://localhost:8080/"
        },
        "outputId": "1d2bf8a7-0402-46b6-ccbc-8beb6d77b23e"
      },
      "id": "NrRphJ6Qku9v",
      "execution_count": null,
      "outputs": [
        {
          "output_type": "stream",
          "name": "stdout",
          "text": [
            "[{'kor': 100, 'math': 30, 'eng': 50}]\n"
          ]
        }
      ]
    },
    {
      "cell_type": "code",
      "source": [
        "subject_score = {}\n",
        "subject_score['kor'] = 90\n",
        "subject_score['math'] = 80\n",
        "subject_score['eng'] = 50\n",
        "\n",
        "total_set.append(subject_score)"
      ],
      "metadata": {
        "id": "UaXuHa5Dkh41"
      },
      "id": "UaXuHa5Dkh41",
      "execution_count": null,
      "outputs": []
    },
    {
      "cell_type": "code",
      "source": [
        "print(\"총점수:\", total_set)"
      ],
      "metadata": {
        "id": "OxTJ8AljkwxK",
        "colab": {
          "base_uri": "https://localhost:8080/"
        },
        "outputId": "030d5c86-b970-4c6e-a9ee-3de5d0f7d991"
      },
      "id": "OxTJ8AljkwxK",
      "execution_count": null,
      "outputs": [
        {
          "output_type": "stream",
          "name": "stdout",
          "text": [
            "총점수: [{'kor': 100, 'math': 30, 'eng': 50}, {'kor': 90, 'math': 80, 'eng': 50}]\n"
          ]
        }
      ]
    },
    {
      "cell_type": "code",
      "source": [
        " # question 2\n",
        "\n",
        "for student in total_set:\n",
        "  print(student['math'])\n"
      ],
      "metadata": {
        "id": "oi8UjA6JulWT",
        "colab": {
          "base_uri": "https://localhost:8080/"
        },
        "outputId": "e4bdbd05-651c-4af8-ce55-aab8fb44d697"
      },
      "id": "oi8UjA6JulWT",
      "execution_count": null,
      "outputs": [
        {
          "output_type": "stream",
          "name": "stdout",
          "text": [
            "30\n",
            "80\n"
          ]
        }
      ]
    },
    {
      "cell_type": "code",
      "source": [
        "#3.\n",
        "for student in total_set:\n",
        "  avg_stud = (student['math']+student['kor']=student['eng'])/3\n",
        "\n",
        "print(avg__stud)"
      ],
      "metadata": {
        "colab": {
          "base_uri": "https://localhost:8080/",
          "height": 106
        },
        "id": "0-TTb8LFgKUM",
        "outputId": "0c2f9fa7-37a5-41c5-c360-5d5d638c121e"
      },
      "id": "0-TTb8LFgKUM",
      "execution_count": null,
      "outputs": [
        {
          "output_type": "error",
          "ename": "SyntaxError",
          "evalue": "cannot assign to expression here. Maybe you meant '==' instead of '='? (<ipython-input-38-9b590af7f938>, line 3)",
          "traceback": [
            "\u001b[0;36m  File \u001b[0;32m\"<ipython-input-38-9b590af7f938>\"\u001b[0;36m, line \u001b[0;32m3\u001b[0m\n\u001b[0;31m    avg_stud = (student['math']+student['kor']=student['eng'])/3;\u001b[0m\n\u001b[0m                ^\u001b[0m\n\u001b[0;31mSyntaxError\u001b[0m\u001b[0;31m:\u001b[0m cannot assign to expression here. Maybe you meant '==' instead of '='?\n"
          ]
        }
      ]
    },
    {
      "cell_type": "markdown",
      "source": [
        "# 그냥답안  ----->모범답안 존재함"
      ],
      "metadata": {
        "id": "TM_PeeZ5ul_x"
      },
      "id": "TM_PeeZ5ul_x"
    },
    {
      "cell_type": "code",
      "source": [
        "# (1) 바른 접근 방법 Correct approach\n",
        "total_set = []\n",
        "subject_score = {}\n",
        "\n",
        "subject_score['kor'] = 100\n",
        "subject_score['math'] = 30\n",
        "subject_score['eng'] = 50\n",
        "\n",
        "total_set.append(subject_score)\n",
        "print(total_set)\n",
        "\n",
        "subject_score = {}\n",
        "subject_score['kor'] = 90\n",
        "subject_score['math'] = 80\n",
        "subject_score['eng'] = 50\n",
        "\n",
        "total_set.append(subject_score)\n",
        "print(\"총점수:\", total_set)"
      ],
      "metadata": {
        "id": "aB1G_44Bvsgv"
      },
      "id": "aB1G_44Bvsgv",
      "execution_count": null,
      "outputs": []
    },
    {
      "cell_type": "code",
      "source": [
        "# (2)\n",
        "for personal_score in total_set:\n",
        "    print(personal_score['math'])"
      ],
      "metadata": {
        "id": "P7XDjjthTfh9"
      },
      "id": "P7XDjjthTfh9",
      "execution_count": null,
      "outputs": []
    },
    {
      "cell_type": "code",
      "execution_count": null,
      "id": "052ed89b-b91e-4090-9e88-fe6a2dfb71c0",
      "metadata": {
        "id": "052ed89b-b91e-4090-9e88-fe6a2dfb71c0"
      },
      "outputs": [],
      "source": [
        "# (3)\n",
        "for personal_score in total_set:\n",
        "    personal_sum = personal_score['kor'] + personal_score['math'] +personal_score['eng']\n",
        "    print(\"개인 합:\", personal_sum)\n",
        "    personal_ave = personal_sum / len(personal_score)\n",
        "    print(\"개인별평균:\", personal_ave)"
      ]
    },
    {
      "cell_type": "code",
      "source": [
        "# (4)\n",
        "kor_sum = 0\n",
        "math_sum = 0\n",
        "eng_sum = 0\n",
        "\n",
        "for personal_score in total_set:\n",
        "    kor_sum += personal_score['kor']\n",
        "    math_sum += personal_score['math']\n",
        "    eng_sum += personal_score['eng']\n",
        "\n",
        "# print(\"kor sum:\",kor_sum)\n",
        "# print(\"math sum:\",math_sum)\n",
        "# print(\"eng sum:\",eng_sum)\n",
        "\n",
        "kor_ave = kor_sum/len(total_set)\n",
        "math_ave = math_sum/len(total_set)\n",
        "eng_ave = eng_sum/len(total_set)\n",
        "\n",
        "print('kor_ave:', kor_ave)\n",
        "print('math_ave:', math_ave)\n",
        "print('eng_ave:', eng_ave)"
      ],
      "metadata": {
        "id": "QApa96nMTnqY"
      },
      "id": "QApa96nMTnqY",
      "execution_count": null,
      "outputs": []
    },
    {
      "cell_type": "code",
      "source": [],
      "metadata": {
        "id": "PRkks_hKvwWC"
      },
      "id": "PRkks_hKvwWC",
      "execution_count": null,
      "outputs": []
    }
  ],
  "metadata": {
    "kernelspec": {
      "display_name": "Python 3 (ipykernel)",
      "language": "python",
      "name": "python3"
    },
    "language_info": {
      "codemirror_mode": {
        "name": "ipython",
        "version": 3
      },
      "file_extension": ".py",
      "mimetype": "text/x-python",
      "name": "python",
      "nbconvert_exporter": "python",
      "pygments_lexer": "ipython3",
      "version": "3.11.2"
    },
    "colab": {
      "provenance": [],
      "collapsed_sections": [
        "IOMvyBsnjut0"
      ],
      "include_colab_link": true
    }
  },
  "nbformat": 4,
  "nbformat_minor": 5
}