{
  "cells": [
    {
      "cell_type": "markdown",
      "metadata": {
        "id": "view-in-github",
        "colab_type": "text"
      },
      "source": [
        "<a href=\"https://colab.research.google.com/github/HajarFazillah/24-1_NumericalAnalysis/blob/main/1_1datatype.ipynb\" target=\"_parent\"><img src=\"https://colab.research.google.com/assets/colab-badge.svg\" alt=\"Open In Colab\"/></a>"
      ]
    },
    {
      "cell_type": "markdown",
      "source": [
        "# cell 실행 방법 : 화살표 누르기 또는 shift+enter\n",
        "\n",
        "# '#' 주석처리  ctrl+/ = 전체 줄"
      ],
      "metadata": {
        "id": "lhNogpJE9NNa"
      },
      "id": "lhNogpJE9NNa"
    },
    {
      "cell_type": "code",
      "source": [
        "print('Hello World!')"
      ],
      "metadata": {
        "id": "cqVV-JNunhE_",
        "colab": {
          "base_uri": "https://localhost:8080/"
        },
        "outputId": "3de07f8a-5a35-42ef-cf1d-55d085389914"
      },
      "id": "cqVV-JNunhE_",
      "execution_count": null,
      "outputs": [
        {
          "output_type": "stream",
          "name": "stdout",
          "text": [
            "Hello World!\n"
          ]
        }
      ]
    },
    {
      "cell_type": "code",
      "source": [
        "print(1)"
      ],
      "metadata": {
        "id": "RWSBa8g4n3_3",
        "colab": {
          "base_uri": "https://localhost:8080/"
        },
        "outputId": "5f0f296a-3d6b-48ee-d082-be1a95f2a39e"
      },
      "id": "RWSBa8g4n3_3",
      "execution_count": null,
      "outputs": [
        {
          "output_type": "stream",
          "name": "stdout",
          "text": [
            "1\n"
          ]
        }
      ]
    },
    {
      "cell_type": "code",
      "source": [
        "print(type(1))"
      ],
      "metadata": {
        "id": "iV62drlRfFh2",
        "colab": {
          "base_uri": "https://localhost:8080/"
        },
        "outputId": "95ea8efe-2899-4f62-eeeb-776c04145d12"
      },
      "id": "iV62drlRfFh2",
      "execution_count": null,
      "outputs": [
        {
          "output_type": "stream",
          "name": "stdout",
          "text": [
            "<class 'int'>\n"
          ]
        }
      ]
    },
    {
      "cell_type": "code",
      "source": [
        "print('1')"
      ],
      "metadata": {
        "colab": {
          "base_uri": "https://localhost:8080/"
        },
        "id": "XsuU5XNGYtDA",
        "outputId": "f95d4055-d541-48ba-b4d1-1e75aa4ee916"
      },
      "id": "XsuU5XNGYtDA",
      "execution_count": null,
      "outputs": [
        {
          "output_type": "stream",
          "name": "stdout",
          "text": [
            "1\n"
          ]
        }
      ]
    },
    {
      "cell_type": "code",
      "source": [
        "print(type('1'))"
      ],
      "metadata": {
        "colab": {
          "base_uri": "https://localhost:8080/"
        },
        "id": "iB_mRbrpYw0c",
        "outputId": "6d2fa212-1312-4e74-e8fc-da6e4d7cc0e7"
      },
      "id": "iB_mRbrpYw0c",
      "execution_count": null,
      "outputs": [
        {
          "output_type": "stream",
          "name": "stdout",
          "text": [
            "<class 'str'>\n"
          ]
        }
      ]
    },
    {
      "cell_type": "code",
      "execution_count": null,
      "id": "c9bc6595",
      "metadata": {
        "id": "c9bc6595",
        "colab": {
          "base_uri": "https://localhost:8080/"
        },
        "outputId": "c22eed83-adb9-4076-cb73-f4f76c4a8a8d"
      },
      "outputs": [
        {
          "output_type": "stream",
          "name": "stdout",
          "text": [
            "<class 'float'>\n",
            "<class 'str'>\n",
            "<class 'bool'>\n"
          ]
        }
      ],
      "source": [
        "print(type(1.2))\n",
        "print(type('hello'))\n",
        "print(type(True))"
      ]
    },
    {
      "cell_type": "code",
      "source": [
        "print(type(true))"
      ],
      "metadata": {
        "id": "hbkvu0n8plbn",
        "colab": {
          "base_uri": "https://localhost:8080/",
          "height": 141
        },
        "outputId": "1dde675d-01f7-4c9e-9cd4-ba52c4ba1d36"
      },
      "id": "hbkvu0n8plbn",
      "execution_count": null,
      "outputs": [
        {
          "output_type": "error",
          "ename": "NameError",
          "evalue": "name 'true' is not defined",
          "traceback": [
            "\u001b[0;31m---------------------------------------------------------------------------\u001b[0m",
            "\u001b[0;31mNameError\u001b[0m                                 Traceback (most recent call last)",
            "\u001b[0;32m<ipython-input-9-1c2838cf1bc6>\u001b[0m in \u001b[0;36m<cell line: 1>\u001b[0;34m()\u001b[0m\n\u001b[0;32m----> 1\u001b[0;31m \u001b[0mprint\u001b[0m\u001b[0;34m(\u001b[0m\u001b[0mtype\u001b[0m\u001b[0;34m(\u001b[0m\u001b[0mtrue\u001b[0m\u001b[0;34m)\u001b[0m\u001b[0;34m)\u001b[0m\u001b[0;34m\u001b[0m\u001b[0;34m\u001b[0m\u001b[0m\n\u001b[0m",
            "\u001b[0;31mNameError\u001b[0m: name 'true' is not defined"
          ]
        }
      ]
    },
    {
      "cell_type": "code",
      "source": [
        "print(type(False))"
      ],
      "metadata": {
        "id": "dSGe_yiKqGdm",
        "colab": {
          "base_uri": "https://localhost:8080/"
        },
        "outputId": "c4ff040a-56d4-4ed8-d586-474fdec7542c"
      },
      "id": "dSGe_yiKqGdm",
      "execution_count": null,
      "outputs": [
        {
          "output_type": "stream",
          "name": "stdout",
          "text": [
            "<class 'bool'>\n"
          ]
        }
      ]
    },
    {
      "cell_type": "code",
      "source": [],
      "metadata": {
        "id": "T2Dx_XmTqKEG"
      },
      "id": "T2Dx_XmTqKEG",
      "execution_count": null,
      "outputs": []
    },
    {
      "cell_type": "markdown",
      "source": [],
      "metadata": {
        "id": "vVMjXEk_nx5X"
      },
      "id": "vVMjXEk_nx5X"
    }
  ],
  "metadata": {
    "kernelspec": {
      "display_name": "Python 3 (ipykernel)",
      "language": "python",
      "name": "python3"
    },
    "language_info": {
      "codemirror_mode": {
        "name": "ipython",
        "version": 3
      },
      "file_extension": ".py",
      "mimetype": "text/x-python",
      "name": "python",
      "nbconvert_exporter": "python",
      "pygments_lexer": "ipython3",
      "version": "3.10.0"
    },
    "colab": {
      "provenance": [],
      "include_colab_link": true
    }
  },
  "nbformat": 4,
  "nbformat_minor": 5
}