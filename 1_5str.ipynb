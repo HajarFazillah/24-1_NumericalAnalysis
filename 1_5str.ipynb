{
  "cells": [
    {
      "cell_type": "markdown",
      "metadata": {
        "id": "view-in-github",
        "colab_type": "text"
      },
      "source": [
        "<a href=\"https://colab.research.google.com/github/HajarFazillah/24-1_NumericalAnalysis/blob/main/1_5str.ipynb\" target=\"_parent\"><img src=\"https://colab.research.google.com/assets/colab-badge.svg\" alt=\"Open In Colab\"/></a>"
      ]
    },
    {
      "cell_type": "code",
      "execution_count": null,
      "id": "226f4ac5",
      "metadata": {
        "id": "226f4ac5"
      },
      "outputs": [],
      "source": [
        "str1='hello'\n",
        "\n",
        "str2=\"bonjour\"\n",
        "\n",
        "str3='안녕하세요, \"파이슨~~\"'\n",
        "\n",
        "str4='''hello\n",
        "bonjour\n",
        "안녕하세요\n",
        "'''\n",
        "# consider multiple lines"
      ]
    },
    {
      "cell_type": "code",
      "source": [
        "# print(str3)\n",
        "print(str4)\n",
        "# str1"
      ],
      "metadata": {
        "id": "BJY9-Ze_i_hX",
        "colab": {
          "base_uri": "https://localhost:8080/"
        },
        "outputId": "7e91316e-1b01-405b-86a8-75a924386962"
      },
      "id": "BJY9-Ze_i_hX",
      "execution_count": null,
      "outputs": [
        {
          "output_type": "stream",
          "name": "stdout",
          "text": [
            "hello\n",
            "bonjour\n",
            "안녕하세요\n",
            "\n"
          ]
        }
      ]
    },
    {
      "cell_type": "code",
      "execution_count": null,
      "id": "803fe22c",
      "metadata": {
        "id": "803fe22c",
        "colab": {
          "base_uri": "https://localhost:8080/"
        },
        "outputId": "1125d2ae-1037-4532-f090-8ad76ff94f48"
      },
      "outputs": [
        {
          "output_type": "stream",
          "name": "stdout",
          "text": [
            "12\n"
          ]
        }
      ],
      "source": [
        "s = 'Good Morning'\n",
        "print(len(s))\n",
        "# len = length 길이\n",
        "# space also included"
      ]
    },
    {
      "cell_type": "code",
      "source": [
        "str1='abcdefghijk'"
      ],
      "metadata": {
        "id": "1zyKpaJ30ZFQ"
      },
      "id": "1zyKpaJ30ZFQ",
      "execution_count": null,
      "outputs": []
    },
    {
      "cell_type": "code",
      "source": [
        "print(str1)"
      ],
      "metadata": {
        "id": "4wTYsrx0QXVI",
        "colab": {
          "base_uri": "https://localhost:8080/"
        },
        "outputId": "285813d4-152a-41a7-c9b1-a0a70e353ee2"
      },
      "id": "4wTYsrx0QXVI",
      "execution_count": null,
      "outputs": [
        {
          "output_type": "stream",
          "name": "stdout",
          "text": [
            "abcdefghijk\n"
          ]
        }
      ]
    },
    {
      "cell_type": "code",
      "source": [
        "print(str1[6])\n",
        "# index starts with [0]"
      ],
      "metadata": {
        "colab": {
          "base_uri": "https://localhost:8080/"
        },
        "id": "OW-zidB7iNjY",
        "outputId": "5d4d982d-0ae3-468f-b69a-4571e7049f6a"
      },
      "id": "OW-zidB7iNjY",
      "execution_count": null,
      "outputs": [
        {
          "output_type": "stream",
          "name": "stdout",
          "text": [
            "g\n"
          ]
        }
      ]
    },
    {
      "cell_type": "code",
      "source": [
        "print(str1[-1]) # starts from the back -1"
      ],
      "metadata": {
        "colab": {
          "base_uri": "https://localhost:8080/"
        },
        "id": "dJOhqzdCimjP",
        "outputId": "9dfbbb6a-34a1-4624-d225-7bfdef18da40"
      },
      "id": "dJOhqzdCimjP",
      "execution_count": null,
      "outputs": [
        {
          "output_type": "stream",
          "name": "stdout",
          "text": [
            "k\n"
          ]
        }
      ]
    },
    {
      "cell_type": "code",
      "execution_count": null,
      "id": "dd21cc83",
      "metadata": {
        "id": "dd21cc83",
        "colab": {
          "base_uri": "https://localhost:8080/"
        },
        "outputId": "0c18ad20-1df4-4fa6-924e-b7b5f6cd416d"
      },
      "outputs": [
        {
          "output_type": "stream",
          "name": "stdout",
          "text": [
            "bcde\n",
            "hijk\n",
            "abcd\n",
            "abcd\n",
            "g\n"
          ]
        }
      ],
      "source": [
        "print(str1[1:5]) #1,2,3,4 (5 not included)\n",
        "print(str1[-4:])\n",
        "print(str1[0:4])\n",
        "print(str1[:4])\n",
        "print(str1[6])"
      ]
    },
    {
      "cell_type": "code",
      "source": [
        "str2=str1[::-1] # reverse direction\n",
        "print(str2)"
      ],
      "metadata": {
        "id": "L9F3uYheop5f",
        "colab": {
          "base_uri": "https://localhost:8080/"
        },
        "outputId": "fca0aad7-2d00-43cc-fd57-f0d709b688a2"
      },
      "id": "L9F3uYheop5f",
      "execution_count": null,
      "outputs": [
        {
          "output_type": "stream",
          "name": "stdout",
          "text": [
            "kjihgfedcba\n"
          ]
        }
      ]
    },
    {
      "cell_type": "code",
      "source": [
        "str3=str1[::2]\n",
        "print(str3)"
      ],
      "metadata": {
        "id": "RgfNjJ4OpOfl",
        "colab": {
          "base_uri": "https://localhost:8080/"
        },
        "outputId": "4548b7e5-023d-4fe8-fcc1-82a9cea1f2f4"
      },
      "id": "RgfNjJ4OpOfl",
      "execution_count": null,
      "outputs": [
        {
          "output_type": "stream",
          "name": "stdout",
          "text": [
            "acegik\n"
          ]
        }
      ]
    },
    {
      "cell_type": "code",
      "execution_count": null,
      "id": "a18af856",
      "metadata": {
        "id": "a18af856",
        "colab": {
          "base_uri": "https://localhost:8080/"
        },
        "outputId": "5cf68faf-b202-4377-c1b8-21fadb3b68bf"
      },
      "outputs": [
        {
          "output_type": "stream",
          "name": "stdout",
          "text": [
            "7\n"
          ]
        }
      ],
      "source": [
        "song='''\n",
        "곰 세마리가 한 집에 있어\n",
        "아빠곰 엄마곰 아기곰\n",
        "아빠곰은 뚱뚱해\n",
        "엄마곰은 날씬해\n",
        "아기곰은 너무 귀여워\n",
        "'''\n",
        "\n",
        "print(song.count('곰'))\n",
        "#  count the word '곰' in song"
      ]
    },
    {
      "cell_type": "code",
      "source": [
        "song2= song.replace('곰','양')\n",
        "print(song2)"
      ],
      "metadata": {
        "id": "enZ04KknR5JL",
        "colab": {
          "base_uri": "https://localhost:8080/"
        },
        "outputId": "1f634587-48ce-4693-9ebd-290e18221ff2"
      },
      "id": "enZ04KknR5JL",
      "execution_count": null,
      "outputs": [
        {
          "output_type": "stream",
          "name": "stdout",
          "text": [
            "\n",
            "양 세마리가 한 집에 있어\n",
            "아빠양 엄마양 아기양\n",
            "아빠양은 뚱뚱해\n",
            "엄마양은 날씬해\n",
            "아기양은 너무 귀여워\n",
            "\n"
          ]
        }
      ]
    },
    {
      "cell_type": "code",
      "source": [
        "song # without the print, it shows \\n as new line"
      ],
      "metadata": {
        "colab": {
          "base_uri": "https://localhost:8080/",
          "height": 36
        },
        "id": "fZBHczP8jYGr",
        "outputId": "456a6423-8c16-4c1f-fb35-448b8869c552"
      },
      "id": "fZBHczP8jYGr",
      "execution_count": null,
      "outputs": [
        {
          "output_type": "execute_result",
          "data": {
            "text/plain": [
              "'\\n곰 세마리가 한 집에 있어\\n아빠곰 엄마곰 아기곰\\n아빠곰은 뚱뚱해\\n엄마곰은 날씬해\\n아기곰은 너무 귀여워\\n'"
            ],
            "application/vnd.google.colaboratory.intrinsic+json": {
              "type": "string"
            }
          },
          "metadata": {},
          "execution_count": 29
        }
      ]
    },
    {
      "cell_type": "code",
      "source": [
        "print(song)"
      ],
      "metadata": {
        "colab": {
          "base_uri": "https://localhost:8080/"
        },
        "id": "O_-iKbQUjlLF",
        "outputId": "ade0b8b7-dd07-40ee-c801-e7921215c3fa"
      },
      "id": "O_-iKbQUjlLF",
      "execution_count": null,
      "outputs": [
        {
          "output_type": "stream",
          "name": "stdout",
          "text": [
            "\n",
            "곰 세마리가 한 집에 있어\n",
            "아빠곰 엄마곰 아기곰\n",
            "아빠곰은 뚱뚱해\n",
            "엄마곰은 날씬해\n",
            "아기곰은 너무 귀여워\n",
            "\n"
          ]
        }
      ]
    },
    {
      "cell_type": "code",
      "source": [
        "print('양' in song2)\n",
        "print('곰' in song2)"
      ],
      "metadata": {
        "id": "IleZGR3hRvrz",
        "colab": {
          "base_uri": "https://localhost:8080/"
        },
        "outputId": "d47b55b7-be76-4b2a-bda8-238b9a2d1e34"
      },
      "id": "IleZGR3hRvrz",
      "execution_count": null,
      "outputs": [
        {
          "output_type": "stream",
          "name": "stdout",
          "text": [
            "True\n",
            "False\n"
          ]
        }
      ]
    },
    {
      "cell_type": "code",
      "source": [
        "print('anna', 'is')"
      ],
      "metadata": {
        "id": "85LcR0ChSKQ6",
        "colab": {
          "base_uri": "https://localhost:8080/"
        },
        "outputId": "0fc9a271-dac0-4a12-c953-2266d8c90d8e"
      },
      "id": "85LcR0ChSKQ6",
      "execution_count": null,
      "outputs": [
        {
          "output_type": "stream",
          "name": "stdout",
          "text": [
            "anna is\n"
          ]
        }
      ]
    },
    {
      "cell_type": "code",
      "execution_count": null,
      "id": "7d429513",
      "metadata": {
        "id": "7d429513",
        "colab": {
          "base_uri": "https://localhost:8080/"
        },
        "outputId": "b3bc88f0-e5fc-4d49-dd7d-7ce804da36ec"
      },
      "outputs": [
        {
          "output_type": "stream",
          "name": "stdout",
          "text": [
            "data1: AnnA's age is 32.\n",
            "data2: AnnA's age is 32.\n",
            "data3: AnnA's age is 32.\n",
            "data4: AnnA's age is 32.\n"
          ]
        }
      ],
      "source": [
        "name='AnnA'\n",
        "age = 32\n",
        "\n",
        "data1 = name +'\\'s age is '+ str(age)+'.'\n",
        "# age is integer data type, therefore have to change to string type\n",
        "\n",
        "data2 = '{0}\\'s age is {1}.'.format(name, age) # substitute ikut urutan\n",
        "data3 = '{n}\\'s age is {a}.'.format(n=name, a=age) # substitute according to letter\n",
        "\n",
        "data4 = f'{name}\\'s age is {age}.'\n",
        "\n",
        "print('data1:', data1)\n",
        "print('data2:', data2)\n",
        "print('data3:', data3)\n",
        "print('data4:', data4)"
      ]
    },
    {
      "cell_type": "code",
      "source": [],
      "metadata": {
        "id": "2VWnq29AS1sC"
      },
      "id": "2VWnq29AS1sC",
      "execution_count": null,
      "outputs": []
    }
  ],
  "metadata": {
    "kernelspec": {
      "display_name": "Python 3 (ipykernel)",
      "language": "python",
      "name": "python3"
    },
    "language_info": {
      "codemirror_mode": {
        "name": "ipython",
        "version": 3
      },
      "file_extension": ".py",
      "mimetype": "text/x-python",
      "name": "python",
      "nbconvert_exporter": "python",
      "pygments_lexer": "ipython3",
      "version": "3.11.2"
    },
    "colab": {
      "provenance": [],
      "include_colab_link": true
    }
  },
  "nbformat": 4,
  "nbformat_minor": 5
}