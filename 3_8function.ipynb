{
  "cells": [
    {
      "cell_type": "markdown",
      "metadata": {
        "id": "view-in-github",
        "colab_type": "text"
      },
      "source": [
        "<a href=\"https://colab.research.google.com/github/HajarFazillah/24-1_NumericalAnalysis/blob/main/3_8function.ipynb\" target=\"_parent\"><img src=\"https://colab.research.google.com/assets/colab-badge.svg\" alt=\"Open In Colab\"/></a>"
      ]
    },
    {
      "cell_type": "code",
      "source": [
        "import time"
      ],
      "metadata": {
        "id": "QBdLBuhAwHxr"
      },
      "id": "QBdLBuhAwHxr",
      "execution_count": null,
      "outputs": []
    },
    {
      "cell_type": "code",
      "execution_count": null,
      "id": "5f04e29b",
      "metadata": {
        "id": "5f04e29b"
      },
      "outputs": [],
      "source": [
        "def f1():\n",
        "    '''\n",
        "    첫번째만든 사용자정의 함수입니다.\n",
        "    :return:없음\n",
        "    '''\n",
        "\n",
        "    print('f1함수입니다.') # return이 없는 타입"
      ]
    },
    {
      "cell_type": "code",
      "source": [
        "# untuk tanya je - apa function 'f1'?\n",
        "f1"
      ],
      "metadata": {
        "id": "AY8J0mviW9Z8",
        "colab": {
          "base_uri": "https://localhost:8080/",
          "height": 122
        },
        "outputId": "e1b93619-a226-4f34-966e-d2b0bdd01e87"
      },
      "id": "AY8J0mviW9Z8",
      "execution_count": null,
      "outputs": [
        {
          "output_type": "execute_result",
          "data": {
            "text/plain": [
              "<function __main__.f1()>"
            ],
            "text/html": [
              "<div style=\"max-width:800px; border: 1px solid var(--colab-border-color);\"><style>\n",
              "      pre.function-repr-contents {\n",
              "        overflow-x: auto;\n",
              "        padding: 8px 12px;\n",
              "        max-height: 500px;\n",
              "      }\n",
              "\n",
              "      pre.function-repr-contents.function-repr-contents-collapsed {\n",
              "        cursor: pointer;\n",
              "        max-height: 100px;\n",
              "      }\n",
              "    </style>\n",
              "    <pre style=\"white-space: initial; background:\n",
              "         var(--colab-secondary-surface-color); padding: 8px 12px;\n",
              "         border-bottom: 1px solid var(--colab-border-color);\"><b>f1</b><br/>def f1()</pre><pre class=\"function-repr-contents function-repr-contents-collapsed\" style=\"\"><a class=\"filepath\" style=\"display:none\" href=\"#\">/content/&lt;ipython-input-2-a0c39f52bd2d&gt;</a>첫번째만든 사용자정의 함수입니다.\n",
              ":return:없음</pre></div>"
            ]
          },
          "metadata": {},
          "execution_count": 3
        }
      ]
    },
    {
      "cell_type": "code",
      "source": [
        "f1()"
      ],
      "metadata": {
        "id": "CBW83S7zW_IY",
        "colab": {
          "base_uri": "https://localhost:8080/"
        },
        "outputId": "3edb16d2-c689-4675-df54-e874e9f91acc"
      },
      "id": "CBW83S7zW_IY",
      "execution_count": null,
      "outputs": [
        {
          "output_type": "stream",
          "name": "stdout",
          "text": [
            "f1함수입니다.\n"
          ]
        }
      ]
    },
    {
      "cell_type": "code",
      "execution_count": null,
      "id": "ac953638",
      "metadata": {
        "id": "ac953638",
        "colab": {
          "base_uri": "https://localhost:8080/"
        },
        "outputId": "c158d919-6bbd-4742-eff6-cb048795cfa5"
      },
      "outputs": [
        {
          "output_type": "stream",
          "name": "stdout",
          "text": [
            "Help on function f1 in module __main__:\n",
            "\n",
            "f1()\n",
            "    첫번째만든 사용자정의 함수입니다.\n",
            "    :return:없음\n",
            "\n"
          ]
        }
      ],
      "source": [
        "help(f1)"
      ]
    },
    {
      "cell_type": "code",
      "source": [],
      "metadata": {
        "id": "e7YZES1_LtnY"
      },
      "id": "e7YZES1_LtnY",
      "execution_count": null,
      "outputs": []
    },
    {
      "cell_type": "code",
      "source": [
        "def f2():\n",
        "    a = 99"
      ],
      "metadata": {
        "id": "JD112IUCgAqj"
      },
      "id": "JD112IUCgAqj",
      "execution_count": null,
      "outputs": []
    },
    {
      "cell_type": "code",
      "source": [
        "a = 1\n",
        "print(a)"
      ],
      "metadata": {
        "id": "1ii7OcH-gFCo",
        "colab": {
          "base_uri": "https://localhost:8080/"
        },
        "outputId": "43daffa7-703e-447a-e998-9633fae89733"
      },
      "id": "1ii7OcH-gFCo",
      "execution_count": null,
      "outputs": [
        {
          "output_type": "stream",
          "name": "stdout",
          "text": [
            "1\n"
          ]
        }
      ]
    },
    {
      "cell_type": "code",
      "source": [
        "f2() # run the function"
      ],
      "metadata": {
        "id": "52iKluJ9gIO-"
      },
      "id": "52iKluJ9gIO-",
      "execution_count": null,
      "outputs": []
    },
    {
      "cell_type": "code",
      "source": [
        "print(a)\n",
        "# kenapa keluar 1?\n",
        "# sebab nak check actually mana tempat yg store"
      ],
      "metadata": {
        "id": "7q3pUHzmgK_P",
        "colab": {
          "base_uri": "https://localhost:8080/"
        },
        "outputId": "90aeeed4-da95-48f4-eb7f-69d9c30be00a"
      },
      "id": "7q3pUHzmgK_P",
      "execution_count": null,
      "outputs": [
        {
          "output_type": "stream",
          "name": "stdout",
          "text": [
            "1\n"
          ]
        }
      ]
    },
    {
      "cell_type": "code",
      "source": [
        "def ff2():\n",
        "    global a  # 지역변수를 전역변수로 변환시킴\n",
        "    a = 99"
      ],
      "metadata": {
        "id": "ML7VBcXEgSmx"
      },
      "id": "ML7VBcXEgSmx",
      "execution_count": null,
      "outputs": []
    },
    {
      "cell_type": "code",
      "source": [
        "print(a)\n",
        "# masih lagi 1"
      ],
      "metadata": {
        "id": "PHFGUKWjggs4",
        "colab": {
          "base_uri": "https://localhost:8080/"
        },
        "outputId": "4dcf7ca1-bf31-45c9-dded-e292e9b074a4"
      },
      "id": "PHFGUKWjggs4",
      "execution_count": null,
      "outputs": [
        {
          "output_type": "stream",
          "name": "stdout",
          "text": [
            "1\n"
          ]
        }
      ]
    },
    {
      "cell_type": "code",
      "source": [
        "# therefore, kena tulis nama tempat function -- ff2()\n",
        "# baru 99 keluar\n",
        "ff2()\n",
        "print(a)"
      ],
      "metadata": {
        "id": "VaJMTwsDgjkS",
        "colab": {
          "base_uri": "https://localhost:8080/"
        },
        "outputId": "1f6e514e-0066-4efb-ec5e-456c95a69db8"
      },
      "id": "VaJMTwsDgjkS",
      "execution_count": null,
      "outputs": [
        {
          "output_type": "stream",
          "name": "stdout",
          "text": [
            "99\n"
          ]
        }
      ]
    },
    {
      "cell_type": "code",
      "source": [],
      "metadata": {
        "id": "_pGwjfgKhMUv"
      },
      "id": "_pGwjfgKhMUv",
      "execution_count": null,
      "outputs": []
    },
    {
      "cell_type": "markdown",
      "source": [
        "# 함수를 변수로 갖는 함수"
      ],
      "metadata": {
        "id": "aFHRI-NttjjG"
      },
      "id": "aFHRI-NttjjG"
    },
    {
      "cell_type": "code",
      "source": [
        "def alarm(sec, call):\n",
        "    time.sleep(sec)\n",
        "    call()"
      ],
      "metadata": {
        "id": "JZBnTQ5ngnvk"
      },
      "id": "JZBnTQ5ngnvk",
      "execution_count": null,
      "outputs": []
    },
    {
      "cell_type": "code",
      "execution_count": null,
      "id": "40a2d7ee",
      "metadata": {
        "id": "40a2d7ee"
      },
      "outputs": [],
      "source": [
        "def f3():\n",
        "    print(\"f3함수 입니다\")\n",
        "    print(\"띠리링.....\")\n",
        "    print('-' * 10)\n",
        "\n",
        "\n",
        "def f4():\n",
        "    print(\"f4함수 입니다.\")\n",
        "    print(\"뻐꾹뻐꾹\")\n",
        "    print('-' * 10)"
      ]
    },
    {
      "cell_type": "code",
      "source": [
        "alarm(3,f3)  # 3초 후에 f3 불러오기\n",
        "             # alarm(3, f3())은 옳지 않음: f3()은 함수 호출, f3은 변수로 입력됨"
      ],
      "metadata": {
        "id": "B7caVTmphU_H",
        "colab": {
          "base_uri": "https://localhost:8080/"
        },
        "outputId": "503988d3-ca82-433b-86cc-546802806bd4"
      },
      "id": "B7caVTmphU_H",
      "execution_count": null,
      "outputs": [
        {
          "output_type": "stream",
          "name": "stdout",
          "text": [
            "f3함수 입니다\n",
            "띠리링.....\n",
            "----------\n"
          ]
        }
      ]
    },
    {
      "cell_type": "code",
      "source": [
        "alarm(5,f4)  # 10초 후에 f4 불러옴"
      ],
      "metadata": {
        "id": "Uml4NhO2hdam",
        "colab": {
          "base_uri": "https://localhost:8080/"
        },
        "outputId": "4fec3c27-7193-4e5d-d7fe-797c12cf20a6"
      },
      "id": "Uml4NhO2hdam",
      "execution_count": null,
      "outputs": [
        {
          "output_type": "stream",
          "name": "stdout",
          "text": [
            "f4함수 입니다.\n",
            "뻐꾹뻐꾹\n",
            "----------\n"
          ]
        }
      ]
    },
    {
      "cell_type": "code",
      "source": [],
      "metadata": {
        "id": "S0IhgnyhhmDy"
      },
      "id": "S0IhgnyhhmDy",
      "execution_count": null,
      "outputs": []
    },
    {
      "cell_type": "code",
      "source": [
        "def f5(x):\n",
        "    return x[1]\n",
        "\n",
        "def f6(x):\n",
        "    return x[0]"
      ],
      "metadata": {
        "id": "UyMN4A_4hoJj"
      },
      "id": "UyMN4A_4hoJj",
      "execution_count": null,
      "outputs": []
    },
    {
      "cell_type": "code",
      "source": [
        "dict1 = {'b': 100, 'c': 50, 'a': 70}"
      ],
      "metadata": {
        "id": "2ldczQUfhwIH"
      },
      "id": "2ldczQUfhwIH",
      "execution_count": null,
      "outputs": []
    },
    {
      "cell_type": "code",
      "source": [
        "# help(sorted)\n",
        "# print(sorted(dict1))  # key 만 정렬\n",
        "print(sorted(dict1, reverse=True))"
      ],
      "metadata": {
        "id": "ht178xRIsFAF",
        "colab": {
          "base_uri": "https://localhost:8080/"
        },
        "outputId": "40aa05d2-e2c0-4d73-a946-938f8ffa7fe8"
      },
      "id": "ht178xRIsFAF",
      "execution_count": null,
      "outputs": [
        {
          "output_type": "stream",
          "name": "stdout",
          "text": [
            "['c', 'b', 'a']\n"
          ]
        }
      ]
    },
    {
      "cell_type": "code",
      "source": [
        "print(dict1.items())"
      ],
      "metadata": {
        "id": "hZn-dvkGh54t",
        "colab": {
          "base_uri": "https://localhost:8080/"
        },
        "outputId": "0cf92c76-bf48-40ca-c272-69dfd9e3efbe"
      },
      "id": "hZn-dvkGh54t",
      "execution_count": null,
      "outputs": [
        {
          "output_type": "stream",
          "name": "stdout",
          "text": [
            "dict_items([('b', 100), ('c', 50), ('a', 70)])\n"
          ]
        }
      ]
    },
    {
      "cell_type": "code",
      "source": [
        "dict1.items()[0] # 이런 명령이 없음"
      ],
      "metadata": {
        "id": "oFaubxe-roj6",
        "colab": {
          "base_uri": "https://localhost:8080/",
          "height": 141
        },
        "outputId": "2664ec61-59bb-4663-83a6-85950d788b4b"
      },
      "id": "oFaubxe-roj6",
      "execution_count": null,
      "outputs": [
        {
          "output_type": "error",
          "ename": "TypeError",
          "evalue": "'dict_items' object is not subscriptable",
          "traceback": [
            "\u001b[0;31m---------------------------------------------------------------------------\u001b[0m",
            "\u001b[0;31mTypeError\u001b[0m                                 Traceback (most recent call last)",
            "\u001b[0;32m<ipython-input-25-0504efc91461>\u001b[0m in \u001b[0;36m<cell line: 1>\u001b[0;34m()\u001b[0m\n\u001b[0;32m----> 1\u001b[0;31m \u001b[0mdict1\u001b[0m\u001b[0;34m.\u001b[0m\u001b[0mitems\u001b[0m\u001b[0;34m(\u001b[0m\u001b[0;34m)\u001b[0m\u001b[0;34m[\u001b[0m\u001b[0;36m0\u001b[0m\u001b[0;34m]\u001b[0m \u001b[0;31m# 이런 명령이 없음\u001b[0m\u001b[0;34m\u001b[0m\u001b[0;34m\u001b[0m\u001b[0m\n\u001b[0m",
            "\u001b[0;31mTypeError\u001b[0m: 'dict_items' object is not subscriptable"
          ]
        }
      ]
    },
    {
      "cell_type": "code",
      "source": [
        "for i in dict1.items():\n",
        "  print(i)\n",
        "  # print(i[0])"
      ],
      "metadata": {
        "id": "X0qC0Qm_sC3U",
        "colab": {
          "base_uri": "https://localhost:8080/"
        },
        "outputId": "352f02e8-0383-4e03-c7d1-3e6962c29d06"
      },
      "id": "X0qC0Qm_sC3U",
      "execution_count": null,
      "outputs": [
        {
          "output_type": "stream",
          "name": "stdout",
          "text": [
            "('b', 100)\n",
            "('c', 50)\n",
            "('a', 70)\n"
          ]
        }
      ]
    },
    {
      "cell_type": "code",
      "source": [
        "print(sorted(dict1.items(), reverse=True, key=f5))\n",
        "#.items()하면 순서쌍으로 보임 ,'key='는 분류기준, 'reverse=True'는 내림차순"
      ],
      "metadata": {
        "id": "tEfWfwmniBcw",
        "colab": {
          "base_uri": "https://localhost:8080/"
        },
        "outputId": "a8d6f24a-60f1-4178-c2de-d2c77bdc9c56"
      },
      "id": "tEfWfwmniBcw",
      "execution_count": null,
      "outputs": [
        {
          "output_type": "stream",
          "name": "stdout",
          "text": [
            "[('b', 100), ('a', 70), ('c', 50)]\n"
          ]
        }
      ]
    },
    {
      "cell_type": "code",
      "source": [
        "print(sorted(dict1.items(), reverse=True, key=f6))"
      ],
      "metadata": {
        "id": "by4PMvNIiWqX",
        "colab": {
          "base_uri": "https://localhost:8080/"
        },
        "outputId": "aa2ebd4e-70ad-4b10-d937-c7f76a2677d3"
      },
      "id": "by4PMvNIiWqX",
      "execution_count": null,
      "outputs": [
        {
          "output_type": "stream",
          "name": "stdout",
          "text": [
            "[('c', 50), ('b', 100), ('a', 70)]\n"
          ]
        }
      ]
    },
    {
      "cell_type": "code",
      "execution_count": null,
      "id": "afa0cff1",
      "metadata": {
        "id": "afa0cff1",
        "colab": {
          "base_uri": "https://localhost:8080/"
        },
        "outputId": "30305a1f-aae6-4f82-e154-6396cbd75135"
      },
      "outputs": [
        {
          "output_type": "stream",
          "name": "stdout",
          "text": [
            "[('b', 100), ('a', 70), ('c', 50)]\n",
            "[('c', 50), ('b', 100), ('a', 70)]\n"
          ]
        }
      ],
      "source": [
        "# NOTE: 이런 f5, f6 함수는 여기서만 사용하니 만들지 말자! ====> lambda 함수 활용하자\n",
        "\n",
        "print(sorted(dict1.items(), reverse=True, key=lambda x: x[1]))  # key=f5 인 경우, lambda: 뒤는 return 값\n",
        "\n",
        "print(sorted(dict1.items(), reverse=True, key=lambda x: x[0]))  # key=f6 인 경우, lambda: 뒤는 return 값"
      ]
    },
    {
      "cell_type": "code",
      "source": [],
      "metadata": {
        "id": "PQ6aDaRzswa-"
      },
      "id": "PQ6aDaRzswa-",
      "execution_count": null,
      "outputs": []
    },
    {
      "cell_type": "code",
      "source": [
        "alarm(3, lambda: print('뻐꾹뻐꾹'))  # 3초 후 뻐꾹뻐꾹"
      ],
      "metadata": {
        "id": "nYcTp_QViq4c",
        "colab": {
          "base_uri": "https://localhost:8080/"
        },
        "outputId": "5b6f2547-73eb-4798-d7a2-028b5e99605b"
      },
      "id": "nYcTp_QViq4c",
      "execution_count": null,
      "outputs": [
        {
          "output_type": "stream",
          "name": "stdout",
          "text": [
            "뻐꾹뻐꾹\n"
          ]
        }
      ]
    },
    {
      "cell_type": "code",
      "source": [
        "help(alarm)"
      ],
      "metadata": {
        "id": "E9uunVS780ca",
        "colab": {
          "base_uri": "https://localhost:8080/"
        },
        "outputId": "0e0d8edd-43b0-480d-a77b-de39398bde35"
      },
      "id": "E9uunVS780ca",
      "execution_count": null,
      "outputs": [
        {
          "output_type": "stream",
          "name": "stdout",
          "text": [
            "Help on function alarm in module __main__:\n",
            "\n",
            "alarm(sec, call)\n",
            "\n"
          ]
        }
      ]
    },
    {
      "cell_type": "code",
      "source": [],
      "metadata": {
        "id": "6cHw5RygtHV7"
      },
      "id": "6cHw5RygtHV7",
      "execution_count": null,
      "outputs": []
    },
    {
      "cell_type": "markdown",
      "source": [
        "# 여러개의 return"
      ],
      "metadata": {
        "id": "sqI2Z1pKtIzM"
      },
      "id": "sqI2Z1pKtIzM"
    },
    {
      "cell_type": "code",
      "source": [
        "def rectangle_cal(a,b):\n",
        "  area = a*b\n",
        "  return a,b,area # in python, return can call few variables (in one go)"
      ],
      "metadata": {
        "id": "Tu9FvajQ31lS"
      },
      "id": "Tu9FvajQ31lS",
      "execution_count": null,
      "outputs": []
    },
    {
      "cell_type": "code",
      "source": [
        "d = rectangle_cal(3,4)\n",
        "\n",
        "print(d) # output in tuple form"
      ],
      "metadata": {
        "id": "hs3m06z731X3",
        "colab": {
          "base_uri": "https://localhost:8080/"
        },
        "outputId": "3771102f-7715-4a6e-a791-f4ff2f3de737"
      },
      "id": "hs3m06z731X3",
      "execution_count": null,
      "outputs": [
        {
          "output_type": "stream",
          "name": "stdout",
          "text": [
            "(3, 4, 12)\n"
          ]
        }
      ]
    },
    {
      "cell_type": "code",
      "source": [
        "a,b,c = rectangle_cal(3,4)\n",
        "# \"i dont want it to show output in tuple, i want it separate\"\n",
        "print(a)\n",
        "print(b)\n",
        "print(c)\n"
      ],
      "metadata": {
        "id": "Wpvo7fxE4YU9",
        "colab": {
          "base_uri": "https://localhost:8080/"
        },
        "outputId": "69aa742b-3efc-49c0-a4bf-c1eb01845b2b"
      },
      "id": "Wpvo7fxE4YU9",
      "execution_count": null,
      "outputs": [
        {
          "output_type": "stream",
          "name": "stdout",
          "text": [
            "3\n",
            "4\n",
            "12\n"
          ]
        }
      ]
    },
    {
      "cell_type": "code",
      "source": [],
      "metadata": {
        "id": "rSKxRq0M4cFN"
      },
      "id": "rSKxRq0M4cFN",
      "execution_count": null,
      "outputs": []
    },
    {
      "cell_type": "markdown",
      "source": [
        "#연습문제"
      ],
      "metadata": {
        "id": "gZIONKuYtQiU"
      },
      "id": "gZIONKuYtQiU"
    },
    {
      "cell_type": "code",
      "source": [
        "#Q. n번째 피보나치 수를 찾는 함수를 구현하시오.\n",
        "\n",
        "# 답안작성\n",
        "\n",
        "\n",
        "\n",
        "def Fibo():\n",
        "  pass\n",
        "\n",
        "\n",
        "\n",
        "\n",
        "\n",
        "\n",
        "\n",
        "\n",
        "\n",
        "\n",
        "print('-'*10, 'TEST', '-'*10 )\n",
        "result=Fibo(1)\n",
        "print(result)\n",
        "\n",
        "result=Fibo(2)\n",
        "print(result)\n",
        "\n",
        "result=Fibo(5)\n",
        "print(result)"
      ],
      "metadata": {
        "id": "lDDyj2cA80Uq"
      },
      "id": "lDDyj2cA80Uq",
      "execution_count": null,
      "outputs": []
    },
    {
      "cell_type": "code",
      "source": [
        "# A. 그냥답안\n",
        "def FibonacciNumber(n):\n",
        "\n",
        "\n",
        "\n",
        "\n",
        "print('-'*10, 'TEST', '-'*10 )\n",
        "result=FibonacciNumber(1)\n",
        "print(result)\n",
        "result=FibonacciNumber(2)\n",
        "print(result)\n",
        "result=FibonacciNumber(5)\n",
        "print(result)"
      ],
      "metadata": {
        "id": "Khgxjt7_80PJ"
      },
      "id": "Khgxjt7_80PJ",
      "execution_count": null,
      "outputs": []
    }
  ],
  "metadata": {
    "kernelspec": {
      "display_name": "Python 3 (ipykernel)",
      "language": "python",
      "name": "python3"
    },
    "language_info": {
      "codemirror_mode": {
        "name": "ipython",
        "version": 3
      },
      "file_extension": ".py",
      "mimetype": "text/x-python",
      "name": "python",
      "nbconvert_exporter": "python",
      "pygments_lexer": "ipython3",
      "version": "3.11.2"
    },
    "colab": {
      "provenance": [],
      "include_colab_link": true
    }
  },
  "nbformat": 4,
  "nbformat_minor": 5
}