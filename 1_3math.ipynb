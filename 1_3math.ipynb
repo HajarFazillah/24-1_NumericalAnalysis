{
  "cells": [
    {
      "cell_type": "markdown",
      "metadata": {
        "id": "view-in-github",
        "colab_type": "text"
      },
      "source": [
        "<a href=\"https://colab.research.google.com/github/HajarFazillah/24-1_NumericalAnalysis/blob/main/1_3math.ipynb\" target=\"_parent\"><img src=\"https://colab.research.google.com/assets/colab-badge.svg\" alt=\"Open In Colab\"/></a>"
      ]
    },
    {
      "cell_type": "code",
      "source": [
        "# 절댓값 absolute value\n",
        "print(abs(-12))"
      ],
      "metadata": {
        "id": "SBzIMci2ri-v",
        "colab": {
          "base_uri": "https://localhost:8080/"
        },
        "outputId": "8bebf287-33dd-4cfa-97f5-0bda8fce1846"
      },
      "id": "SBzIMci2ri-v",
      "execution_count": null,
      "outputs": [
        {
          "output_type": "stream",
          "name": "stdout",
          "text": [
            "12\n"
          ]
        }
      ]
    },
    {
      "cell_type": "code",
      "source": [
        "print(round(45.678,2)) # (round(original value, decimal place))"
      ],
      "metadata": {
        "id": "EN5egpbUryW_",
        "colab": {
          "base_uri": "https://localhost:8080/"
        },
        "outputId": "192f7edc-e82d-4b8f-d1e5-7c545a9ffb73"
      },
      "id": "EN5egpbUryW_",
      "execution_count": null,
      "outputs": [
        {
          "output_type": "stream",
          "name": "stdout",
          "text": [
            "45.68\n"
          ]
        }
      ]
    },
    {
      "cell_type": "code",
      "execution_count": null,
      "id": "cb82ccd2",
      "metadata": {
        "id": "cb82ccd2",
        "colab": {
          "base_uri": "https://localhost:8080/"
        },
        "outputId": "2d73dd10-504d-45b7-e477-675d3a820316"
      },
      "outputs": [
        {
          "output_type": "stream",
          "name": "stdout",
          "text": [
            "46\n",
            "45.7\n",
            "45.68\n",
            "45.678\n"
          ]
        }
      ],
      "source": [
        "# 반올림\n",
        "print(round(45.678))\n",
        "print(round(45.678,1))\n",
        "print(round(45.678,2))\n",
        "print(round(45.678,3))"
      ]
    },
    {
      "cell_type": "code",
      "execution_count": null,
      "id": "941d7784",
      "metadata": {
        "id": "941d7784"
      },
      "outputs": [],
      "source": [
        "import math"
      ]
    },
    {
      "cell_type": "code",
      "execution_count": null,
      "id": "c070fe17",
      "metadata": {
        "id": "c070fe17",
        "colab": {
          "base_uri": "https://localhost:8080/"
        },
        "outputId": "c260f419-e395-4a3f-d254-ecdd679a15ca"
      },
      "outputs": [
        {
          "output_type": "stream",
          "name": "stdout",
          "text": [
            "45\n"
          ]
        }
      ],
      "source": [
        "# 소수 버림 ()\n",
        "print(math.trunc(45.678))"
      ]
    },
    {
      "cell_type": "code",
      "execution_count": null,
      "id": "40f95eff",
      "metadata": {
        "id": "40f95eff",
        "colab": {
          "base_uri": "https://localhost:8080/"
        },
        "outputId": "ca02b73c-e671-4b0d-edd5-337ed76ffcf5"
      },
      "outputs": [
        {
          "output_type": "stream",
          "name": "stdout",
          "text": [
            "45.67\n"
          ]
        }
      ],
      "source": [
        "# Q. 소수 3자리 버리는 방법은?\n",
        "a = 45.678\n",
        "print(math.trunc(100*a)/100)"
      ]
    },
    {
      "cell_type": "code",
      "execution_count": null,
      "id": "de3c74cc",
      "metadata": {
        "id": "de3c74cc",
        "colab": {
          "base_uri": "https://localhost:8080/"
        },
        "outputId": "58065ec8-bc40-4143-80c3-03b2e6f12406"
      },
      "outputs": [
        {
          "output_type": "stream",
          "name": "stdout",
          "text": [
            "45.67\n"
          ]
        }
      ],
      "source": [
        "# A.\n",
        "# print(math.trunc(a,2))  # 이런 사용법이 없다.\n",
        "\n",
        "print(math.trunc(100*a)/100)\n"
      ]
    },
    {
      "cell_type": "code",
      "source": [
        "# int(3.45) click Ctrl + / auto comment\n",
        "\n",
        "int(3.45)\n",
        "# only shows 3 which is similar to trunc"
      ],
      "metadata": {
        "colab": {
          "base_uri": "https://localhost:8080/"
        },
        "id": "aQ6pPLwecQNJ",
        "outputId": "0a0f2c72-e0cc-42fe-9c8f-c33752c37966"
      },
      "id": "aQ6pPLwecQNJ",
      "execution_count": null,
      "outputs": [
        {
          "output_type": "execute_result",
          "data": {
            "text/plain": [
              "3"
            ]
          },
          "metadata": {},
          "execution_count": 9
        }
      ]
    },
    {
      "cell_type": "code",
      "source": [
        "str(3.45)"
      ],
      "metadata": {
        "id": "ce9qit7BHgwg",
        "colab": {
          "base_uri": "https://localhost:8080/",
          "height": 36
        },
        "outputId": "8921a478-4ce9-48fa-8901-85908d796c4c"
      },
      "id": "ce9qit7BHgwg",
      "execution_count": null,
      "outputs": [
        {
          "output_type": "execute_result",
          "data": {
            "text/plain": [
              "'3.45'"
            ],
            "application/vnd.google.colaboratory.intrinsic+json": {
              "type": "string"
            }
          },
          "metadata": {},
          "execution_count": 10
        }
      ]
    },
    {
      "cell_type": "code",
      "execution_count": null,
      "id": "019ddfd2",
      "metadata": {
        "id": "019ddfd2",
        "colab": {
          "base_uri": "https://localhost:8080/"
        },
        "outputId": "2b3f0ebb-fd67-475e-ecde-44cb82e1bec9"
      },
      "outputs": [
        {
          "name": "stdout",
          "output_type": "stream",
          "text": [
            "입력하세요:20240407\n"
          ]
        }
      ],
      "source": [
        "# 데이터 입력 받기\n",
        "input_value = input('입력하세요:')\n",
        "# input all receives as string data type"
      ]
    },
    {
      "cell_type": "code",
      "source": [
        "print(input_value)"
      ],
      "metadata": {
        "colab": {
          "base_uri": "https://localhost:8080/"
        },
        "id": "L9QcGqTmdCFX",
        "outputId": "a6973920-3326-4f2b-be83-5f7584621ff5"
      },
      "id": "L9QcGqTmdCFX",
      "execution_count": null,
      "outputs": [
        {
          "output_type": "stream",
          "name": "stdout",
          "text": [
            "20240407\n"
          ]
        }
      ]
    },
    {
      "cell_type": "code",
      "source": [
        "print(type(input_value), input_value)"
      ],
      "metadata": {
        "id": "ykpAssmBgl4m",
        "colab": {
          "base_uri": "https://localhost:8080/"
        },
        "outputId": "e1cdb164-00b7-43bc-987c-48a7a0c9a085"
      },
      "id": "ykpAssmBgl4m",
      "execution_count": null,
      "outputs": [
        {
          "output_type": "stream",
          "name": "stdout",
          "text": [
            "<class 'str'> 20240407\n"
          ]
        }
      ]
    },
    {
      "cell_type": "code",
      "source": [
        "input_value = int(input_value) # to change data type to int\n",
        "print(type(input_value), input_value)"
      ],
      "metadata": {
        "id": "LinwEDFKgszC",
        "colab": {
          "base_uri": "https://localhost:8080/"
        },
        "outputId": "ac6a6a8e-f589-4c6d-859d-6421a5c45081"
      },
      "id": "LinwEDFKgszC",
      "execution_count": null,
      "outputs": [
        {
          "output_type": "stream",
          "name": "stdout",
          "text": [
            "<class 'int'> 20240407\n"
          ]
        }
      ]
    },
    {
      "cell_type": "code",
      "execution_count": null,
      "id": "c72e9a64",
      "metadata": {
        "id": "c72e9a64",
        "colab": {
          "base_uri": "https://localhost:8080/"
        },
        "outputId": "d2e98070-69a5-459a-a238-f8b8cc57d9f3"
      },
      "outputs": [
        {
          "output_type": "stream",
          "name": "stdout",
          "text": [
            "밑변을 넣으세요:12\n",
            "높이를 넣으세요:5\n",
            "빗변: 13.0\n",
            "경사각:  22.61986494804043\n"
          ]
        }
      ],
      "source": [
        "# Q: 직각 삼각형의 밑변과 높이를 받아서 빗변과 밑변의 경사각을 출력하시오.\n",
        "# Receive the base and height of a right triangle and print the slope angle of the hypotenuse and the base.\n",
        "\n",
        "# 밑변 base, 경사각 inclination angle\n",
        "# hint: pow(,), a**2, math.sqrt() , math.atan()\n",
        "\n",
        "input1 = int(input('밑변을 넣으세요:'))\n",
        "\n",
        "input2 = int(input('높이를 넣으세요:'))\n",
        "\n",
        "# Todo\n",
        "\n",
        "# 빗변 = 루트(a^2+b^2)\n",
        "result1 = math.sqrt(input1**2+input2**2)\n",
        "\n",
        "# 밑변의 경사각\n",
        "result2 = math.degrees(math.atan(input2/input1))\n",
        "\n",
        "print('빗변:', result1)\n",
        "print(\"경사각: \", result2)"
      ]
    },
    {
      "cell_type": "code",
      "execution_count": null,
      "id": "d2facced",
      "metadata": {
        "id": "d2facced",
        "colab": {
          "base_uri": "https://localhost:8080/"
        },
        "outputId": "bf31e7f9-7ea9-41de-8770-6ceb56e2193a"
      },
      "outputs": [
        {
          "output_type": "execute_result",
          "data": {
            "text/plain": [
              "3.141592653589793"
            ]
          },
          "metadata": {},
          "execution_count": 39
        }
      ],
      "source": [
        "# 덧.\n",
        "math.pi"
      ]
    },
    {
      "cell_type": "code",
      "execution_count": null,
      "id": "38168408",
      "metadata": {
        "id": "38168408"
      },
      "outputs": [],
      "source": []
    }
  ],
  "metadata": {
    "kernelspec": {
      "display_name": "Python 3 (ipykernel)",
      "language": "python",
      "name": "python3"
    },
    "language_info": {
      "codemirror_mode": {
        "name": "ipython",
        "version": 3
      },
      "file_extension": ".py",
      "mimetype": "text/x-python",
      "name": "python",
      "nbconvert_exporter": "python",
      "pygments_lexer": "ipython3",
      "version": "3.11.3"
    },
    "colab": {
      "provenance": [],
      "include_colab_link": true
    }
  },
  "nbformat": 4,
  "nbformat_minor": 5
}