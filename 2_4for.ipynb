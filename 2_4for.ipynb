{
  "cells": [
    {
      "cell_type": "markdown",
      "metadata": {
        "id": "view-in-github",
        "colab_type": "text"
      },
      "source": [
        "<a href=\"https://colab.research.google.com/github/HajarFazillah/24-1_NumericalAnalysis/blob/main/2_4for.ipynb\" target=\"_parent\"><img src=\"https://colab.research.google.com/assets/colab-badge.svg\" alt=\"Open In Colab\"/></a>"
      ]
    },
    {
      "cell_type": "code",
      "execution_count": null,
      "id": "8682b3fe",
      "metadata": {
        "id": "8682b3fe",
        "colab": {
          "base_uri": "https://localhost:8080/"
        },
        "outputId": "bedc45a6-e94b-48d5-e44e-22ce6d732512"
      },
      "outputs": [
        {
          "output_type": "stream",
          "name": "stdout",
          "text": [
            "range(0, 10) <class 'range'>\n"
          ]
        }
      ],
      "source": [
        "range_value = range(0,10)\n",
        "\n",
        "# range(start, stop)\n",
        "\n",
        "print(range_value, type(range_value))"
      ]
    },
    {
      "cell_type": "code",
      "execution_count": null,
      "id": "c7995235",
      "metadata": {
        "id": "c7995235",
        "colab": {
          "base_uri": "https://localhost:8080/"
        },
        "outputId": "64b06e3f-3710-431e-87a7-c755099e9312"
      },
      "outputs": [
        {
          "output_type": "stream",
          "name": "stdout",
          "text": [
            "0\n",
            "1\n",
            "2\n",
            "3\n",
            "4\n",
            "5\n",
            "6\n",
            "7\n",
            "8\n",
            "9\n"
          ]
        }
      ],
      "source": [
        "for i in range_value:   # i: value\n",
        "# untuk value dalam range_value which is 0 sampai 10\n",
        "# tuliskan value tersebut, i\n",
        "    print(i)"
      ]
    },
    {
      "cell_type": "code",
      "execution_count": null,
      "id": "16c1e2a5",
      "metadata": {
        "id": "16c1e2a5",
        "colab": {
          "base_uri": "https://localhost:8080/"
        },
        "outputId": "fffccc5d-c14e-4a92-fe03-74842fc24e7c"
      },
      "outputs": [
        {
          "output_type": "stream",
          "name": "stdout",
          "text": [
            "2\n",
            "3\n",
            "4\n"
          ]
        }
      ],
      "source": [
        "for i in range(2,5):\n",
        "    print(i)"
      ]
    },
    {
      "cell_type": "code",
      "execution_count": null,
      "id": "58917902",
      "metadata": {
        "id": "58917902",
        "colab": {
          "base_uri": "https://localhost:8080/"
        },
        "outputId": "9fdb0dd3-be84-47c9-c094-5bd6df1734ef"
      },
      "outputs": [
        {
          "output_type": "stream",
          "name": "stdout",
          "text": [
            "9\n",
            "7\n",
            "5\n",
            "3\n"
          ]
        }
      ],
      "source": [
        "for i in range(9,1,-2):   # ada 3 parameter (start, stop, direction)\n",
        "# range(start 9, stop 1, setiap value tolak 2)\n",
        "    print(i)"
      ]
    },
    {
      "cell_type": "code",
      "execution_count": null,
      "id": "50736833",
      "metadata": {
        "id": "50736833",
        "colab": {
          "base_uri": "https://localhost:8080/"
        },
        "outputId": "2c32a45a-b759-43db-9e95-3eada835bf89"
      },
      "outputs": [
        {
          "output_type": "stream",
          "name": "stdout",
          "text": [
            "0 0\n",
            "0 1\n",
            "\n",
            "1 0\n",
            "1 1\n",
            "\n",
            "2 0\n",
            "2 1\n",
            "\n",
            "3 0\n",
            "3 1\n",
            "\n",
            "4 0\n",
            "4 1\n",
            "\n"
          ]
        }
      ],
      "source": [
        "for i in range(5):\n",
        "    for j in range(2):\n",
        "        print(i,j)\n",
        "    print()"
      ]
    },
    {
      "cell_type": "code",
      "source": [
        "for i in range(5):\n",
        "    for j in range(2):\n",
        "        # print(i,j, end = ',')\n",
        "        # print(i,j, sep = '=')\n",
        "        print(i,j, end=',', sep = '=')   # 표기법 정리하기\n",
        "    print()  # 줄 바꾸기 하는 중          # kalau dalam print() tak tulis apa2 = tukar line"
      ],
      "metadata": {
        "id": "rdpGnG17BUdq",
        "colab": {
          "base_uri": "https://localhost:8080/"
        },
        "outputId": "dd5e7fc9-d603-4930-a9e3-5469470d490e"
      },
      "id": "rdpGnG17BUdq",
      "execution_count": null,
      "outputs": [
        {
          "output_type": "stream",
          "name": "stdout",
          "text": [
            "0=0,0=1,\n",
            "1=0,1=1,\n",
            "2=0,2=1,\n",
            "3=0,3=1,\n",
            "4=0,4=1,\n"
          ]
        }
      ]
    },
    {
      "cell_type": "code",
      "execution_count": null,
      "id": "8c75572b",
      "metadata": {
        "id": "8c75572b"
      },
      "outputs": [],
      "source": [
        "#Q. 결과물이 아래와 같도록 출력하시오.\n",
        "\n",
        "# *\n",
        "# **\n",
        "# ***\n",
        "# ****\n",
        "# *****"
      ]
    },
    {
      "cell_type": "code",
      "execution_count": null,
      "id": "66798737-88f3-46b2-9b63-9e79ada2603c",
      "metadata": {
        "id": "66798737-88f3-46b2-9b63-9e79ada2603c",
        "colab": {
          "base_uri": "https://localhost:8080/"
        },
        "outputId": "243e9c68-5624-476a-ea2b-97464ea60a72"
      },
      "outputs": [
        {
          "output_type": "stream",
          "name": "stdout",
          "text": [
            "*\n",
            "**\n",
            "***\n",
            "****\n",
            "*****\n"
          ]
        }
      ],
      "source": [
        "# 답안작성\n",
        "\n",
        "for i in range(1,6):\n",
        "    print('*'*i)\n"
      ]
    },
    {
      "cell_type": "code",
      "execution_count": null,
      "id": "1467b766",
      "metadata": {
        "id": "1467b766"
      },
      "outputs": [],
      "source": [
        "# 여러 tree 모양들"
      ]
    },
    {
      "cell_type": "code",
      "execution_count": null,
      "id": "7d662a45",
      "metadata": {
        "id": "7d662a45",
        "colab": {
          "base_uri": "https://localhost:8080/"
        },
        "outputId": "95badcd3-1b81-4dcd-d3db-fdc4ee6be2d3"
      },
      "outputs": [
        {
          "output_type": "stream",
          "name": "stdout",
          "text": [
            "*****\n",
            "****\n",
            "***\n",
            "**\n",
            "*\n"
          ]
        }
      ],
      "source": [
        "for i in range(5):\n",
        "    for j in range(5-i):\n",
        "        print('*', end='')\n",
        "    print()"
      ]
    },
    {
      "cell_type": "code",
      "execution_count": null,
      "id": "5616cfb3",
      "metadata": {
        "id": "5616cfb3",
        "colab": {
          "base_uri": "https://localhost:8080/"
        },
        "outputId": "b1e595fc-c353-4f0e-f253-ac4208653a9f"
      },
      "outputs": [
        {
          "output_type": "stream",
          "name": "stdout",
          "text": [
            "*****\n",
            "****\n",
            "***\n",
            "**\n",
            "*\n"
          ]
        }
      ],
      "source": [
        "for i in range(1,6):\n",
        "    print('*'*(6-i))"
      ]
    },
    {
      "cell_type": "code",
      "source": [
        "for i in range(5,0,-1):\n",
        "    print('*'*i)"
      ],
      "metadata": {
        "id": "FVCN_WLiVQET",
        "colab": {
          "base_uri": "https://localhost:8080/"
        },
        "outputId": "a89671fb-5312-43c1-d577-66c30ea69538"
      },
      "id": "FVCN_WLiVQET",
      "execution_count": null,
      "outputs": [
        {
          "output_type": "stream",
          "name": "stdout",
          "text": [
            "*****\n",
            "****\n",
            "***\n",
            "**\n",
            "*\n"
          ]
        }
      ]
    },
    {
      "cell_type": "code",
      "source": [],
      "metadata": {
        "id": "6RKZqOgCVUdF"
      },
      "id": "6RKZqOgCVUdF",
      "execution_count": null,
      "outputs": []
    }
  ],
  "metadata": {
    "kernelspec": {
      "display_name": "Python 3 (ipykernel)",
      "language": "python",
      "name": "python3"
    },
    "language_info": {
      "codemirror_mode": {
        "name": "ipython",
        "version": 3
      },
      "file_extension": ".py",
      "mimetype": "text/x-python",
      "name": "python",
      "nbconvert_exporter": "python",
      "pygments_lexer": "ipython3",
      "version": "3.11.2"
    },
    "colab": {
      "provenance": [],
      "include_colab_link": true
    }
  },
  "nbformat": 4,
  "nbformat_minor": 5
}