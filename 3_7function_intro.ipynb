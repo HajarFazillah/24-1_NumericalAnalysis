{
  "cells": [
    {
      "cell_type": "markdown",
      "metadata": {
        "id": "view-in-github",
        "colab_type": "text"
      },
      "source": [
        "<a href=\"https://colab.research.google.com/github/HajarFazillah/24-1_NumericalAnalysis/blob/main/3_7function_intro.ipynb\" target=\"_parent\"><img src=\"https://colab.research.google.com/assets/colab-badge.svg\" alt=\"Open In Colab\"/></a>"
      ]
    },
    {
      "cell_type": "code",
      "execution_count": null,
      "id": "467c4783",
      "metadata": {
        "id": "467c4783"
      },
      "outputs": [],
      "source": [
        "# 함수 수정할 때 주의사항\n",
        "#  - logic의 변경은 상관 없으나,\n",
        "#  - 매개변수 갯수는 바꾸지 말기, return 값을 바꾸지 말것.\n",
        "#  - comment 달기와 버젼관리 주의"
      ]
    },
    {
      "cell_type": "code",
      "source": [
        "# def 정의 define / definition\n",
        "\n",
        "# if want to write default  setting\n",
        "# def greeting(country='kr'):\n",
        "\n",
        "def greeting(country='kr'):\n",
        "    if country=='kr':\n",
        "        print('안녕')\n",
        "    elif country=='en':\n",
        "        print('Hello')\n",
        "    elif country=='fr':\n",
        "        print('Bonjour')"
      ],
      "metadata": {
        "id": "09X8HRPYwbcL"
      },
      "id": "09X8HRPYwbcL",
      "execution_count": null,
      "outputs": []
    },
    {
      "cell_type": "code",
      "execution_count": null,
      "id": "07e6e272",
      "metadata": {
        "id": "07e6e272",
        "colab": {
          "base_uri": "https://localhost:8080/"
        },
        "outputId": "c2c09e08-00c9-40d0-8e1d-b1476173804c"
      },
      "outputs": [
        {
          "output_type": "stream",
          "name": "stdout",
          "text": [
            "----- TEST -----\n",
            "안녕\n",
            "Hello\n",
            "Bonjour\n"
          ]
        }
      ],
      "source": [
        "print('-'*5, 'TEST', '-'*5)\n",
        "\n",
        "greeting()\n",
        "greeting('ko')  # 안녕\n",
        "greeting('en')  # Hello\n",
        "greeting('fr')  # Bonjour"
      ]
    },
    {
      "cell_type": "code",
      "source": [],
      "metadata": {
        "id": "YUYkevVwvSQ3"
      },
      "id": "YUYkevVwvSQ3",
      "execution_count": null,
      "outputs": []
    },
    {
      "cell_type": "code",
      "source": [
        "def not_now_fuction():\n",
        "  pass"
      ],
      "metadata": {
        "id": "-81_3Nc8vSAm"
      },
      "id": "-81_3Nc8vSAm",
      "execution_count": null,
      "outputs": []
    },
    {
      "cell_type": "code",
      "source": [],
      "metadata": {
        "id": "mBsoemHSvZAX"
      },
      "id": "mBsoemHSvZAX",
      "execution_count": null,
      "outputs": []
    },
    {
      "cell_type": "code",
      "execution_count": null,
      "id": "56ee486d",
      "metadata": {
        "id": "56ee486d"
      },
      "outputs": [],
      "source": [
        "import math"
      ]
    },
    {
      "cell_type": "code",
      "execution_count": null,
      "id": "96618aea",
      "metadata": {
        "id": "96618aea"
      },
      "outputs": [],
      "source": [
        "# Q. 반지름을 넣어서 원의 넓이 구하는 함수를 만드세요 (pr*2)\n",
        "# Q. Define a function to calculate the area of a circle with a given radius.\n",
        "\n",
        "# A.\n",
        "def calc_area_circle(radius):\n",
        "    result = math.pi*radius*radius\n",
        "    # result = math.pi*(radius**2)\n",
        "    return"
      ]
    },
    {
      "cell_type": "markdown",
      "source": [
        "* test  : 함수를 만들었다면 잘 작동하는지 확인하는 것은 기본 중 기본!\n",
        "*radius - darab radius\n",
        "radius**2 - radius kuasa 2"
      ],
      "metadata": {
        "id": "2SGvZhzhxcRk"
      },
      "id": "2SGvZhzhxcRk"
    },
    {
      "cell_type": "code",
      "source": [
        "print(calc_area_circle(5))"
      ],
      "metadata": {
        "id": "UckCBdbF9aWn",
        "colab": {
          "base_uri": "https://localhost:8080/"
        },
        "outputId": "c1a27c6d-a8e4-4f52-fcb1-599ac4127efd"
      },
      "id": "UckCBdbF9aWn",
      "execution_count": null,
      "outputs": [
        {
          "output_type": "stream",
          "name": "stdout",
          "text": [
            "None\n"
          ]
        }
      ]
    },
    {
      "cell_type": "code",
      "source": [
        "area = calc_area_circle(10)\n",
        "print(area)  # 반지름 10인 원의 면적"
      ],
      "metadata": {
        "id": "3ENM7vvo9dKB",
        "colab": {
          "base_uri": "https://localhost:8080/"
        },
        "outputId": "7cff71d6-0d13-4444-c9c7-7dff60aedec4"
      },
      "id": "3ENM7vvo9dKB",
      "execution_count": null,
      "outputs": [
        {
          "output_type": "stream",
          "name": "stdout",
          "text": [
            "None\n"
          ]
        }
      ]
    },
    {
      "cell_type": "code",
      "execution_count": null,
      "id": "1e8b970a-d4b3-4d35-800a-3b440f449d3f",
      "metadata": {
        "id": "1e8b970a-d4b3-4d35-800a-3b440f449d3f"
      },
      "outputs": [],
      "source": [
        "# Q. 가로와 세로를 넣어서 직사각형의 넓이 구하는 함수를 만드세요\n",
        "# Q. Define a function to calculate the area of a rectangle with given width and height.\n",
        "#답안작성\n",
        "\n",
        "def calc_area_rectangle(width, height=None):\n",
        "  result = width*height\n",
        "  return\n",
        "  # return width*height"
      ]
    },
    {
      "cell_type": "code",
      "source": [
        "print(calc_area_rectangle(3))"
      ],
      "metadata": {
        "colab": {
          "base_uri": "https://localhost:8080/",
          "height": 263
        },
        "id": "LpQdngfZj_V4",
        "outputId": "902b2083-731c-4662-c7b1-ba1a1d6b2b98"
      },
      "id": "LpQdngfZj_V4",
      "execution_count": null,
      "outputs": [
        {
          "output_type": "error",
          "ename": "TypeError",
          "evalue": "unsupported operand type(s) for *: 'int' and 'NoneType'",
          "traceback": [
            "\u001b[0;31m---------------------------------------------------------------------------\u001b[0m",
            "\u001b[0;31mTypeError\u001b[0m                                 Traceback (most recent call last)",
            "\u001b[0;32m<ipython-input-34-be18e15b2619>\u001b[0m in \u001b[0;36m<cell line: 1>\u001b[0;34m()\u001b[0m\n\u001b[0;32m----> 1\u001b[0;31m \u001b[0mprint\u001b[0m\u001b[0;34m(\u001b[0m\u001b[0mcalc_area_rectangle\u001b[0m\u001b[0;34m(\u001b[0m\u001b[0;36m3\u001b[0m\u001b[0;34m)\u001b[0m\u001b[0;34m)\u001b[0m\u001b[0;34m\u001b[0m\u001b[0;34m\u001b[0m\u001b[0m\n\u001b[0m",
            "\u001b[0;32m<ipython-input-33-23b657214986>\u001b[0m in \u001b[0;36mcalc_area_rectangle\u001b[0;34m(width, height)\u001b[0m\n\u001b[1;32m      4\u001b[0m \u001b[0;34m\u001b[0m\u001b[0m\n\u001b[1;32m      5\u001b[0m \u001b[0;32mdef\u001b[0m \u001b[0mcalc_area_rectangle\u001b[0m\u001b[0;34m(\u001b[0m\u001b[0mwidth\u001b[0m\u001b[0;34m,\u001b[0m \u001b[0mheight\u001b[0m\u001b[0;34m=\u001b[0m\u001b[0;32mNone\u001b[0m\u001b[0;34m)\u001b[0m\u001b[0;34m:\u001b[0m\u001b[0;34m\u001b[0m\u001b[0;34m\u001b[0m\u001b[0m\n\u001b[0;32m----> 6\u001b[0;31m   \u001b[0mresult\u001b[0m \u001b[0;34m=\u001b[0m \u001b[0mwidth\u001b[0m\u001b[0;34m*\u001b[0m\u001b[0mheight\u001b[0m\u001b[0;34m\u001b[0m\u001b[0;34m\u001b[0m\u001b[0m\n\u001b[0m\u001b[1;32m      7\u001b[0m   \u001b[0;32mreturn\u001b[0m\u001b[0;34m\u001b[0m\u001b[0;34m\u001b[0m\u001b[0m\n\u001b[1;32m      8\u001b[0m   \u001b[0;31m# return width*height\u001b[0m\u001b[0;34m\u001b[0m\u001b[0;34m\u001b[0m\u001b[0m\n",
            "\u001b[0;31mTypeError\u001b[0m: unsupported operand type(s) for *: 'int' and 'NoneType'"
          ]
        }
      ]
    },
    {
      "cell_type": "code",
      "source": [
        "# A. 모범답안\n",
        "def calc_area_rectangle(width, height=None):\n",
        "    if height is None:\n",
        "      height = width\n",
        "    return"
      ],
      "metadata": {
        "id": "izPZYgAQ9_87"
      },
      "id": "izPZYgAQ9_87",
      "execution_count": null,
      "outputs": []
    },
    {
      "cell_type": "code",
      "source": [
        "print('-'*10, 'TEST', '-'*10)\n",
        "\n",
        "print(calc_area_ractangle(3,4))  # 가로3, 세로4인 사각형의 면적\n",
        "print(calc_area_ractangle(3))  # 가로3, 세로3 인 정사각형의 면적\n",
        "print(calc_area_ractangle(height=4,width=3))  # 가로3, 세로4인 면적"
      ],
      "metadata": {
        "id": "AEkAH38S97u7",
        "colab": {
          "base_uri": "https://localhost:8080/",
          "height": 228
        },
        "outputId": "391011f0-795f-4da3-f4dd-9cc68bfc8e39"
      },
      "id": "AEkAH38S97u7",
      "execution_count": null,
      "outputs": [
        {
          "output_type": "stream",
          "name": "stdout",
          "text": [
            "---------- TEST ----------\n"
          ]
        },
        {
          "output_type": "error",
          "ename": "NameError",
          "evalue": "name 'calc_area_ractangle' is not defined",
          "traceback": [
            "\u001b[0;31m---------------------------------------------------------------------------\u001b[0m",
            "\u001b[0;31mNameError\u001b[0m                                 Traceback (most recent call last)",
            "\u001b[0;32m<ipython-input-32-e605816c3f50>\u001b[0m in \u001b[0;36m<cell line: 3>\u001b[0;34m()\u001b[0m\n\u001b[1;32m      1\u001b[0m \u001b[0mprint\u001b[0m\u001b[0;34m(\u001b[0m\u001b[0;34m'-'\u001b[0m\u001b[0;34m*\u001b[0m\u001b[0;36m10\u001b[0m\u001b[0;34m,\u001b[0m \u001b[0;34m'TEST'\u001b[0m\u001b[0;34m,\u001b[0m \u001b[0;34m'-'\u001b[0m\u001b[0;34m*\u001b[0m\u001b[0;36m10\u001b[0m\u001b[0;34m)\u001b[0m\u001b[0;34m\u001b[0m\u001b[0;34m\u001b[0m\u001b[0m\n\u001b[1;32m      2\u001b[0m \u001b[0;34m\u001b[0m\u001b[0m\n\u001b[0;32m----> 3\u001b[0;31m \u001b[0mprint\u001b[0m\u001b[0;34m(\u001b[0m\u001b[0mcalc_area_ractangle\u001b[0m\u001b[0;34m(\u001b[0m\u001b[0;36m3\u001b[0m\u001b[0;34m,\u001b[0m\u001b[0;36m4\u001b[0m\u001b[0;34m)\u001b[0m\u001b[0;34m)\u001b[0m  \u001b[0;31m# 가로3, 세로4인 사각형의 면적\u001b[0m\u001b[0;34m\u001b[0m\u001b[0;34m\u001b[0m\u001b[0m\n\u001b[0m\u001b[1;32m      4\u001b[0m \u001b[0mprint\u001b[0m\u001b[0;34m(\u001b[0m\u001b[0mcalc_area_ractangle\u001b[0m\u001b[0;34m(\u001b[0m\u001b[0;36m3\u001b[0m\u001b[0;34m)\u001b[0m\u001b[0;34m)\u001b[0m  \u001b[0;31m# 가로3, 세로3 인 정사각형의 면적\u001b[0m\u001b[0;34m\u001b[0m\u001b[0;34m\u001b[0m\u001b[0m\n\u001b[1;32m      5\u001b[0m \u001b[0mprint\u001b[0m\u001b[0;34m(\u001b[0m\u001b[0mcalc_area_ractangle\u001b[0m\u001b[0;34m(\u001b[0m\u001b[0mheight\u001b[0m\u001b[0;34m=\u001b[0m\u001b[0;36m4\u001b[0m\u001b[0;34m,\u001b[0m\u001b[0mwidth\u001b[0m\u001b[0;34m=\u001b[0m\u001b[0;36m3\u001b[0m\u001b[0;34m)\u001b[0m\u001b[0;34m)\u001b[0m  \u001b[0;31m# 가로3, 세로4인 면적\u001b[0m\u001b[0;34m\u001b[0m\u001b[0;34m\u001b[0m\u001b[0m\n",
            "\u001b[0;31mNameError\u001b[0m: name 'calc_area_ractangle' is not defined"
          ]
        }
      ]
    },
    {
      "cell_type": "code",
      "execution_count": null,
      "id": "0eda54ba-340b-4ea0-b0b1-295901878381",
      "metadata": {
        "id": "0eda54ba-340b-4ea0-b0b1-295901878381"
      },
      "outputs": [],
      "source": [
        "# Q. 총 갯수를 알수 없는 여러 변수(list type 자료형)를 넣어서, 합을 구하는 함수를 만드세요\n",
        "# Q. Define a function to sum with given unknown multiple data of type list.\n",
        "\n",
        "# A.\n",
        "def calc_sum_0(*number_list):  # list type 타입의 가변인자\n",
        "\n",
        "    result = 0\n",
        "    for s in number_list:\n",
        "      result += s   # result = result+s\n",
        "\n",
        "    return result"
      ]
    },
    {
      "cell_type": "code",
      "execution_count": null,
      "id": "13a08104",
      "metadata": {
        "id": "13a08104",
        "colab": {
          "base_uri": "https://localhost:8080/"
        },
        "outputId": "c729d25f-2e49-4566-e8a8-132e7b5c154c"
      },
      "outputs": [
        {
          "output_type": "stream",
          "name": "stdout",
          "text": [
            "---------- TEST 1 ----------\n",
            "1111\n",
            "222\n",
            "33\n"
          ]
        }
      ],
      "source": [
        "print('-'*10, 'TEST 1', '-'*10)\n",
        "\n",
        "print(calc_sum_0(1,10,100,1000))\n",
        "print(calc_sum_0(2,20,200,))\n",
        "print(calc_sum_0(3,30))"
      ]
    },
    {
      "cell_type": "code",
      "execution_count": null,
      "id": "0bc30110-8103-4e92-9b39-bcae306d04c1",
      "metadata": {
        "id": "0bc30110-8103-4e92-9b39-bcae306d04c1",
        "colab": {
          "base_uri": "https://localhost:8080/",
          "height": 315
        },
        "outputId": "48c973d6-2918-4cfa-fad8-cfff7ab2e2ab"
      },
      "outputs": [
        {
          "output_type": "stream",
          "name": "stdout",
          "text": [
            "---------- TEST 2 ----------\n"
          ]
        },
        {
          "output_type": "error",
          "ename": "TypeError",
          "evalue": "unsupported operand type(s) for +=: 'int' and 'list'",
          "traceback": [
            "\u001b[0;31m---------------------------------------------------------------------------\u001b[0m",
            "\u001b[0;31mTypeError\u001b[0m                                 Traceback (most recent call last)",
            "\u001b[0;32m<ipython-input-38-9d330daf30b8>\u001b[0m in \u001b[0;36m<cell line: 2>\u001b[0;34m()\u001b[0m\n\u001b[1;32m      1\u001b[0m \u001b[0mprint\u001b[0m\u001b[0;34m(\u001b[0m\u001b[0;34m'-'\u001b[0m\u001b[0;34m*\u001b[0m\u001b[0;36m10\u001b[0m\u001b[0;34m,\u001b[0m \u001b[0;34m'TEST 2'\u001b[0m\u001b[0;34m,\u001b[0m \u001b[0;34m'-'\u001b[0m\u001b[0;34m*\u001b[0m\u001b[0;36m10\u001b[0m\u001b[0;34m)\u001b[0m\u001b[0;34m\u001b[0m\u001b[0;34m\u001b[0m\u001b[0m\n\u001b[0;32m----> 2\u001b[0;31m \u001b[0mprint\u001b[0m\u001b[0;34m(\u001b[0m\u001b[0mcalc_sum_0\u001b[0m\u001b[0;34m(\u001b[0m\u001b[0;34m[\u001b[0m\u001b[0;36m3\u001b[0m\u001b[0;34m,\u001b[0m\u001b[0;36m4\u001b[0m\u001b[0;34m]\u001b[0m\u001b[0;34m)\u001b[0m\u001b[0;34m)\u001b[0m \u001b[0;31m# 주의 list를 통째로 넣는 것이 아님 - 오류발생\u001b[0m\u001b[0;34m\u001b[0m\u001b[0;34m\u001b[0m\u001b[0m\n\u001b[0m\u001b[1;32m      3\u001b[0m                          \u001b[0;31m# Warning : No bracket\u001b[0m\u001b[0;34m\u001b[0m\u001b[0;34m\u001b[0m\u001b[0m\n",
            "\u001b[0;32m<ipython-input-36-c83962d04df3>\u001b[0m in \u001b[0;36mcalc_sum_0\u001b[0;34m(*number_list)\u001b[0m\n\u001b[1;32m      7\u001b[0m     \u001b[0mresult\u001b[0m \u001b[0;34m=\u001b[0m \u001b[0;36m0\u001b[0m\u001b[0;34m\u001b[0m\u001b[0;34m\u001b[0m\u001b[0m\n\u001b[1;32m      8\u001b[0m     \u001b[0;32mfor\u001b[0m \u001b[0ms\u001b[0m \u001b[0;32min\u001b[0m \u001b[0mnumber_list\u001b[0m\u001b[0;34m:\u001b[0m\u001b[0;34m\u001b[0m\u001b[0;34m\u001b[0m\u001b[0m\n\u001b[0;32m----> 9\u001b[0;31m       \u001b[0mresult\u001b[0m \u001b[0;34m+=\u001b[0m \u001b[0ms\u001b[0m   \u001b[0;31m# result = result+s\u001b[0m\u001b[0;34m\u001b[0m\u001b[0;34m\u001b[0m\u001b[0m\n\u001b[0m\u001b[1;32m     10\u001b[0m \u001b[0;34m\u001b[0m\u001b[0m\n\u001b[1;32m     11\u001b[0m     \u001b[0;32mreturn\u001b[0m \u001b[0mresult\u001b[0m\u001b[0;34m\u001b[0m\u001b[0;34m\u001b[0m\u001b[0m\n",
            "\u001b[0;31mTypeError\u001b[0m: unsupported operand type(s) for +=: 'int' and 'list'"
          ]
        }
      ],
      "source": [
        "print('-'*10, 'TEST 2', '-'*10)\n",
        "print(calc_sum_0([3,4])) # 주의 list를 통째로 넣는 것이 아님 - 오류발생\n",
        "                         # Warning : No bracket"
      ]
    },
    {
      "cell_type": "code",
      "execution_count": null,
      "id": "f622b61c",
      "metadata": {
        "id": "f622b61c",
        "colab": {
          "base_uri": "https://localhost:8080/"
        },
        "outputId": "6af01fe8-373a-4505-bc8b-a5fb5b858f35"
      },
      "outputs": [
        {
          "output_type": "stream",
          "name": "stdout",
          "text": [
            "---------- TEST ----------\n",
            "1111\n",
            "222\n",
            "33\n"
          ]
        }
      ],
      "source": [
        "# A. 모범답안\n",
        "\n",
        "def calc_sum(*num):\n",
        "    return sum(num)\n",
        "\n",
        "print('-'*10, 'TEST', '-'*10)\n",
        "print(calc_sum(1,10,100,1000))\n",
        "print(calc_sum(2,20,200,))\n",
        "print(calc_sum(3,30))"
      ]
    },
    {
      "cell_type": "code",
      "source": [
        "help(sum)   # to help explain function (can directly find it here)"
      ],
      "metadata": {
        "id": "Y22et7p1pXFi",
        "colab": {
          "base_uri": "https://localhost:8080/"
        },
        "outputId": "e02233a1-8448-454a-f905-b7f96c702d83"
      },
      "id": "Y22et7p1pXFi",
      "execution_count": null,
      "outputs": [
        {
          "output_type": "stream",
          "name": "stdout",
          "text": [
            "Help on built-in function sum in module builtins:\n",
            "\n",
            "sum(iterable, /, start=0)\n",
            "    Return the sum of a 'start' value (default: 0) plus an iterable of numbers\n",
            "    \n",
            "    When the iterable is empty, return the start value.\n",
            "    This function is intended specifically for use with numeric values and may\n",
            "    reject non-numeric types.\n",
            "\n"
          ]
        }
      ]
    },
    {
      "cell_type": "markdown",
      "source": [],
      "metadata": {
        "id": "TbBUCCWUm9FD"
      },
      "id": "TbBUCCWUm9FD"
    },
    {
      "cell_type": "code",
      "execution_count": null,
      "id": "9aa02fbc",
      "metadata": {
        "id": "9aa02fbc"
      },
      "outputs": [],
      "source": [
        "# Q. dictionary type의 자료형을 넣어서, 모든 value값의 합을 구하는 함수를 만드세요\n",
        "# Q. Given unknown multiple data of type dictionary, define a function to sum all of values of the data.\n",
        "\n",
        "# A.\n",
        "def calc_sum_1(**dic):  # dictionary 타입의 가변인자 ** star dua kali untuk dictionary\n",
        "    return sum(dic.values())"
      ]
    },
    {
      "cell_type": "code",
      "source": [
        "print('-'*10, 'TEST 1', '-'*10)\n",
        "\n",
        "print(calc_sum_1(a=1,b=2,c=3))\n",
        "print(calc_sum_1(a=1,b=2))\n",
        "print(calc_sum_1(a=1,b=2,c=10,d=10))"
      ],
      "metadata": {
        "id": "fMAF69bSmuuw",
        "colab": {
          "base_uri": "https://localhost:8080/"
        },
        "outputId": "7e4cc14b-9731-448d-e0a1-3a4aaa4ae039"
      },
      "id": "fMAF69bSmuuw",
      "execution_count": null,
      "outputs": [
        {
          "output_type": "stream",
          "name": "stdout",
          "text": [
            "---------- TEST 1 ----------\n",
            "6\n",
            "3\n",
            "23\n"
          ]
        }
      ]
    },
    {
      "cell_type": "code",
      "execution_count": null,
      "id": "1224eca9-1b2b-4b34-bea0-cb071f0c1199",
      "metadata": {
        "id": "1224eca9-1b2b-4b34-bea0-cb071f0c1199",
        "colab": {
          "base_uri": "https://localhost:8080/",
          "height": 106
        },
        "outputId": "e20ff753-099c-4f63-ea3b-04f4786727be"
      },
      "outputs": [
        {
          "output_type": "error",
          "ename": "SyntaxError",
          "evalue": "invalid syntax. Maybe you meant '==' or ':=' instead of '='? (<ipython-input-46-2124688f6986>, line 3)",
          "traceback": [
            "\u001b[0;36m  File \u001b[0;32m\"<ipython-input-46-2124688f6986>\"\u001b[0;36m, line \u001b[0;32m3\u001b[0m\n\u001b[0;31m    print(calc_sum_1({a=1,b=2,c=10,d=10}))  # 주의 dictionary를 통째로 넣는 것이 아님 - 오류발생\u001b[0m\n\u001b[0m                      ^\u001b[0m\n\u001b[0;31mSyntaxError\u001b[0m\u001b[0;31m:\u001b[0m invalid syntax. Maybe you meant '==' or ':=' instead of '='?\n"
          ]
        }
      ],
      "source": [
        "print('-'*10, 'TEST 2', '-'*10)\n",
        "\n",
        "print(calc_sum_1({a=1,b=2,c=10,d=10}))  # 주의 dictionary를 통째로 넣는 것이 아님 - 오류발생\n",
        "                                        # Warning : No bracket\n",
        "                                        # Never write the actual values of dictionary in the print code"
      ]
    },
    {
      "cell_type": "code",
      "execution_count": null,
      "id": "cdb89f79-ed9e-4fb3-b885-dccaf0095570",
      "metadata": {
        "id": "cdb89f79-ed9e-4fb3-b885-dccaf0095570"
      },
      "outputs": [],
      "source": []
    },
    {
      "cell_type": "markdown",
      "source": [],
      "metadata": {
        "id": "wtXCoOGDviFH"
      },
      "id": "wtXCoOGDviFH"
    },
    {
      "cell_type": "code",
      "source": [
        "# 내장함수 및 사용가능한 것들을 출력한다.\n",
        "print(dir())"
      ],
      "metadata": {
        "id": "T75VbGrcvjAb",
        "colab": {
          "base_uri": "https://localhost:8080/"
        },
        "outputId": "1b0041cb-9f13-4113-ca51-e7e917464b89"
      },
      "id": "T75VbGrcvjAb",
      "execution_count": null,
      "outputs": [
        {
          "output_type": "stream",
          "name": "stdout",
          "text": [
            "['In', 'Out', '_', '__', '___', '__builtin__', '__builtins__', '__doc__', '__loader__', '__name__', '__package__', '__spec__', '_dh', '_i', '_i1', '_i10', '_i11', '_i12', '_i13', '_i14', '_i15', '_i16', '_i17', '_i18', '_i19', '_i2', '_i20', '_i21', '_i22', '_i23', '_i24', '_i25', '_i26', '_i27', '_i28', '_i29', '_i3', '_i30', '_i31', '_i32', '_i33', '_i34', '_i35', '_i36', '_i37', '_i38', '_i39', '_i4', '_i40', '_i41', '_i42', '_i43', '_i44', '_i45', '_i46', '_i47', '_i48', '_i5', '_i6', '_i7', '_i8', '_i9', '_ih', '_ii', '_iii', '_oh', 'area', 'calc_area_circle', 'calc_area_rectangle', 'calc_sum', 'calc_sum_0', 'calc_sum_1', 'exit', 'get_ipython', 'greeting', 'height', 'math', 'not_now_fuction', 'quit', 'rec_area', 'width']\n"
          ]
        }
      ]
    },
    {
      "cell_type": "code",
      "source": [
        "import time"
      ],
      "metadata": {
        "id": "97ZWi3d2vsNo"
      },
      "id": "97ZWi3d2vsNo",
      "execution_count": null,
      "outputs": []
    },
    {
      "cell_type": "code",
      "source": [
        "print(dir())"
      ],
      "metadata": {
        "id": "mQCt_kB_vuwi",
        "colab": {
          "base_uri": "https://localhost:8080/"
        },
        "outputId": "d566ab93-fe64-48b5-a6a0-ddef9dd5c5cb"
      },
      "id": "mQCt_kB_vuwi",
      "execution_count": null,
      "outputs": [
        {
          "output_type": "stream",
          "name": "stdout",
          "text": [
            "['In', 'Out', '_', '__', '___', '__builtin__', '__builtins__', '__doc__', '__loader__', '__name__', '__package__', '__spec__', '_dh', '_i', '_i1', '_i10', '_i11', '_i12', '_i13', '_i14', '_i15', '_i16', '_i17', '_i18', '_i19', '_i2', '_i20', '_i21', '_i22', '_i23', '_i24', '_i25', '_i26', '_i27', '_i28', '_i29', '_i3', '_i30', '_i31', '_i32', '_i33', '_i34', '_i35', '_i36', '_i37', '_i38', '_i39', '_i4', '_i40', '_i41', '_i42', '_i43', '_i44', '_i45', '_i46', '_i47', '_i48', '_i49', '_i5', '_i50', '_i6', '_i7', '_i8', '_i9', '_ih', '_ii', '_iii', '_oh', 'area', 'calc_area_circle', 'calc_area_rectangle', 'calc_sum', 'calc_sum_0', 'calc_sum_1', 'exit', 'get_ipython', 'greeting', 'height', 'math', 'not_now_fuction', 'quit', 'rec_area', 'time', 'width']\n"
          ]
        }
      ]
    },
    {
      "cell_type": "code",
      "source": [
        "print(dir(time))\n",
        "# semua function bawah category 'time'"
      ],
      "metadata": {
        "id": "v9MsUlL7vuux",
        "colab": {
          "base_uri": "https://localhost:8080/"
        },
        "outputId": "27f9b589-0019-43ea-e602-d23021fc21d0"
      },
      "id": "v9MsUlL7vuux",
      "execution_count": null,
      "outputs": [
        {
          "output_type": "stream",
          "name": "stdout",
          "text": [
            "['CLOCK_BOOTTIME', 'CLOCK_MONOTONIC', 'CLOCK_MONOTONIC_RAW', 'CLOCK_PROCESS_CPUTIME_ID', 'CLOCK_REALTIME', 'CLOCK_TAI', 'CLOCK_THREAD_CPUTIME_ID', '_STRUCT_TM_ITEMS', '__doc__', '__loader__', '__name__', '__package__', '__spec__', 'altzone', 'asctime', 'clock_getres', 'clock_gettime', 'clock_gettime_ns', 'clock_settime', 'clock_settime_ns', 'ctime', 'daylight', 'get_clock_info', 'gmtime', 'localtime', 'mktime', 'monotonic', 'monotonic_ns', 'perf_counter', 'perf_counter_ns', 'process_time', 'process_time_ns', 'pthread_getcpuclockid', 'sleep', 'strftime', 'strptime', 'struct_time', 'thread_time', 'thread_time_ns', 'time', 'time_ns', 'timezone', 'tzname', 'tzset']\n"
          ]
        }
      ]
    },
    {
      "cell_type": "code",
      "source": [
        "help(time)"
      ],
      "metadata": {
        "id": "l0CxJvC3vusF",
        "colab": {
          "base_uri": "https://localhost:8080/"
        },
        "outputId": "0d6a644b-7385-450f-de7f-1808f08d74a4"
      },
      "id": "l0CxJvC3vusF",
      "execution_count": null,
      "outputs": [
        {
          "output_type": "stream",
          "name": "stdout",
          "text": [
            "Help on built-in module time:\n",
            "\n",
            "NAME\n",
            "    time - This module provides various functions to manipulate time values.\n",
            "\n",
            "DESCRIPTION\n",
            "    There are two standard representations of time.  One is the number\n",
            "    of seconds since the Epoch, in UTC (a.k.a. GMT).  It may be an integer\n",
            "    or a floating point number (to represent fractions of seconds).\n",
            "    The Epoch is system-defined; on Unix, it is generally January 1st, 1970.\n",
            "    The actual value can be retrieved by calling gmtime(0).\n",
            "    \n",
            "    The other representation is a tuple of 9 integers giving local time.\n",
            "    The tuple items are:\n",
            "      year (including century, e.g. 1998)\n",
            "      month (1-12)\n",
            "      day (1-31)\n",
            "      hours (0-23)\n",
            "      minutes (0-59)\n",
            "      seconds (0-59)\n",
            "      weekday (0-6, Monday is 0)\n",
            "      Julian day (day in the year, 1-366)\n",
            "      DST (Daylight Savings Time) flag (-1, 0 or 1)\n",
            "    If the DST flag is 0, the time is given in the regular time zone;\n",
            "    if it is 1, the time is given in the DST time zone;\n",
            "    if it is -1, mktime() should guess based on the date and time.\n",
            "\n",
            "CLASSES\n",
            "    builtins.tuple(builtins.object)\n",
            "        struct_time\n",
            "    \n",
            "    class struct_time(builtins.tuple)\n",
            "     |  struct_time(iterable=(), /)\n",
            "     |  \n",
            "     |  The time value as returned by gmtime(), localtime(), and strptime(), and\n",
            "     |  accepted by asctime(), mktime() and strftime().  May be considered as a\n",
            "     |  sequence of 9 integers.\n",
            "     |  \n",
            "     |  Note that several fields' values are not the same as those defined by\n",
            "     |  the C language standard for struct tm.  For example, the value of the\n",
            "     |  field tm_year is the actual year, not year - 1900.  See individual\n",
            "     |  fields' descriptions for details.\n",
            "     |  \n",
            "     |  Method resolution order:\n",
            "     |      struct_time\n",
            "     |      builtins.tuple\n",
            "     |      builtins.object\n",
            "     |  \n",
            "     |  Methods defined here:\n",
            "     |  \n",
            "     |  __reduce__(...)\n",
            "     |      Helper for pickle.\n",
            "     |  \n",
            "     |  __repr__(self, /)\n",
            "     |      Return repr(self).\n",
            "     |  \n",
            "     |  ----------------------------------------------------------------------\n",
            "     |  Static methods defined here:\n",
            "     |  \n",
            "     |  __new__(*args, **kwargs) from builtins.type\n",
            "     |      Create and return a new object.  See help(type) for accurate signature.\n",
            "     |  \n",
            "     |  ----------------------------------------------------------------------\n",
            "     |  Data descriptors defined here:\n",
            "     |  \n",
            "     |  tm_gmtoff\n",
            "     |      offset from UTC in seconds\n",
            "     |  \n",
            "     |  tm_hour\n",
            "     |      hours, range [0, 23]\n",
            "     |  \n",
            "     |  tm_isdst\n",
            "     |      1 if summer time is in effect, 0 if not, and -1 if unknown\n",
            "     |  \n",
            "     |  tm_mday\n",
            "     |      day of month, range [1, 31]\n",
            "     |  \n",
            "     |  tm_min\n",
            "     |      minutes, range [0, 59]\n",
            "     |  \n",
            "     |  tm_mon\n",
            "     |      month of year, range [1, 12]\n",
            "     |  \n",
            "     |  tm_sec\n",
            "     |      seconds, range [0, 61])\n",
            "     |  \n",
            "     |  tm_wday\n",
            "     |      day of week, range [0, 6], Monday is 0\n",
            "     |  \n",
            "     |  tm_yday\n",
            "     |      day of year, range [1, 366]\n",
            "     |  \n",
            "     |  tm_year\n",
            "     |      year, for example, 1993\n",
            "     |  \n",
            "     |  tm_zone\n",
            "     |      abbreviation of timezone name\n",
            "     |  \n",
            "     |  ----------------------------------------------------------------------\n",
            "     |  Data and other attributes defined here:\n",
            "     |  \n",
            "     |  __match_args__ = ('tm_year', 'tm_mon', 'tm_mday', 'tm_hour', 'tm_min',...\n",
            "     |  \n",
            "     |  n_fields = 11\n",
            "     |  \n",
            "     |  n_sequence_fields = 9\n",
            "     |  \n",
            "     |  n_unnamed_fields = 0\n",
            "     |  \n",
            "     |  ----------------------------------------------------------------------\n",
            "     |  Methods inherited from builtins.tuple:\n",
            "     |  \n",
            "     |  __add__(self, value, /)\n",
            "     |      Return self+value.\n",
            "     |  \n",
            "     |  __contains__(self, key, /)\n",
            "     |      Return key in self.\n",
            "     |  \n",
            "     |  __eq__(self, value, /)\n",
            "     |      Return self==value.\n",
            "     |  \n",
            "     |  __ge__(self, value, /)\n",
            "     |      Return self>=value.\n",
            "     |  \n",
            "     |  __getattribute__(self, name, /)\n",
            "     |      Return getattr(self, name).\n",
            "     |  \n",
            "     |  __getitem__(self, key, /)\n",
            "     |      Return self[key].\n",
            "     |  \n",
            "     |  __getnewargs__(self, /)\n",
            "     |  \n",
            "     |  __gt__(self, value, /)\n",
            "     |      Return self>value.\n",
            "     |  \n",
            "     |  __hash__(self, /)\n",
            "     |      Return hash(self).\n",
            "     |  \n",
            "     |  __iter__(self, /)\n",
            "     |      Implement iter(self).\n",
            "     |  \n",
            "     |  __le__(self, value, /)\n",
            "     |      Return self<=value.\n",
            "     |  \n",
            "     |  __len__(self, /)\n",
            "     |      Return len(self).\n",
            "     |  \n",
            "     |  __lt__(self, value, /)\n",
            "     |      Return self<value.\n",
            "     |  \n",
            "     |  __mul__(self, value, /)\n",
            "     |      Return self*value.\n",
            "     |  \n",
            "     |  __ne__(self, value, /)\n",
            "     |      Return self!=value.\n",
            "     |  \n",
            "     |  __rmul__(self, value, /)\n",
            "     |      Return value*self.\n",
            "     |  \n",
            "     |  count(self, value, /)\n",
            "     |      Return number of occurrences of value.\n",
            "     |  \n",
            "     |  index(self, value, start=0, stop=9223372036854775807, /)\n",
            "     |      Return first index of value.\n",
            "     |      \n",
            "     |      Raises ValueError if the value is not present.\n",
            "     |  \n",
            "     |  ----------------------------------------------------------------------\n",
            "     |  Class methods inherited from builtins.tuple:\n",
            "     |  \n",
            "     |  __class_getitem__(...) from builtins.type\n",
            "     |      See PEP 585\n",
            "\n",
            "FUNCTIONS\n",
            "    asctime(...)\n",
            "        asctime([tuple]) -> string\n",
            "        \n",
            "        Convert a time tuple to a string, e.g. 'Sat Jun 06 16:26:11 1998'.\n",
            "        When the time tuple is not present, current time as returned by localtime()\n",
            "        is used.\n",
            "    \n",
            "    clock_getres(...)\n",
            "        clock_getres(clk_id) -> floating point number\n",
            "        \n",
            "        Return the resolution (precision) of the specified clock clk_id.\n",
            "    \n",
            "    clock_gettime(...)\n",
            "        clock_gettime(clk_id) -> float\n",
            "        \n",
            "        Return the time of the specified clock clk_id.\n",
            "    \n",
            "    clock_gettime_ns(...)\n",
            "        clock_gettime_ns(clk_id) -> int\n",
            "        \n",
            "        Return the time of the specified clock clk_id as nanoseconds.\n",
            "    \n",
            "    clock_settime(...)\n",
            "        clock_settime(clk_id, time)\n",
            "        \n",
            "        Set the time of the specified clock clk_id.\n",
            "    \n",
            "    clock_settime_ns(...)\n",
            "        clock_settime_ns(clk_id, time)\n",
            "        \n",
            "        Set the time of the specified clock clk_id with nanoseconds.\n",
            "    \n",
            "    ctime(...)\n",
            "        ctime(seconds) -> string\n",
            "        \n",
            "        Convert a time in seconds since the Epoch to a string in local time.\n",
            "        This is equivalent to asctime(localtime(seconds)). When the time tuple is\n",
            "        not present, current time as returned by localtime() is used.\n",
            "    \n",
            "    get_clock_info(...)\n",
            "        get_clock_info(name: str) -> dict\n",
            "        \n",
            "        Get information of the specified clock.\n",
            "    \n",
            "    gmtime(...)\n",
            "        gmtime([seconds]) -> (tm_year, tm_mon, tm_mday, tm_hour, tm_min,\n",
            "                               tm_sec, tm_wday, tm_yday, tm_isdst)\n",
            "        \n",
            "        Convert seconds since the Epoch to a time tuple expressing UTC (a.k.a.\n",
            "        GMT).  When 'seconds' is not passed in, convert the current time instead.\n",
            "        \n",
            "        If the platform supports the tm_gmtoff and tm_zone, they are available as\n",
            "        attributes only.\n",
            "    \n",
            "    localtime(...)\n",
            "        localtime([seconds]) -> (tm_year,tm_mon,tm_mday,tm_hour,tm_min,\n",
            "                                  tm_sec,tm_wday,tm_yday,tm_isdst)\n",
            "        \n",
            "        Convert seconds since the Epoch to a time tuple expressing local time.\n",
            "        When 'seconds' is not passed in, convert the current time instead.\n",
            "    \n",
            "    mktime(...)\n",
            "        mktime(tuple) -> floating point number\n",
            "        \n",
            "        Convert a time tuple in local time to seconds since the Epoch.\n",
            "        Note that mktime(gmtime(0)) will not generally return zero for most\n",
            "        time zones; instead the returned value will either be equal to that\n",
            "        of the timezone or altzone attributes on the time module.\n",
            "    \n",
            "    monotonic(...)\n",
            "        monotonic() -> float\n",
            "        \n",
            "        Monotonic clock, cannot go backward.\n",
            "    \n",
            "    monotonic_ns(...)\n",
            "        monotonic_ns() -> int\n",
            "        \n",
            "        Monotonic clock, cannot go backward, as nanoseconds.\n",
            "    \n",
            "    perf_counter(...)\n",
            "        perf_counter() -> float\n",
            "        \n",
            "        Performance counter for benchmarking.\n",
            "    \n",
            "    perf_counter_ns(...)\n",
            "        perf_counter_ns() -> int\n",
            "        \n",
            "        Performance counter for benchmarking as nanoseconds.\n",
            "    \n",
            "    process_time(...)\n",
            "        process_time() -> float\n",
            "        \n",
            "        Process time for profiling: sum of the kernel and user-space CPU time.\n",
            "    \n",
            "    process_time_ns(...)\n",
            "        process_time() -> int\n",
            "        \n",
            "        Process time for profiling as nanoseconds:\n",
            "        sum of the kernel and user-space CPU time.\n",
            "    \n",
            "    pthread_getcpuclockid(...)\n",
            "        pthread_getcpuclockid(thread_id) -> int\n",
            "        \n",
            "        Return the clk_id of a thread's CPU time clock.\n",
            "    \n",
            "    sleep(...)\n",
            "        sleep(seconds)\n",
            "        \n",
            "        Delay execution for a given number of seconds.  The argument may be\n",
            "        a floating point number for subsecond precision.\n",
            "    \n",
            "    strftime(...)\n",
            "        strftime(format[, tuple]) -> string\n",
            "        \n",
            "        Convert a time tuple to a string according to a format specification.\n",
            "        See the library reference manual for formatting codes. When the time tuple\n",
            "        is not present, current time as returned by localtime() is used.\n",
            "        \n",
            "        Commonly used format codes:\n",
            "        \n",
            "        %Y  Year with century as a decimal number.\n",
            "        %m  Month as a decimal number [01,12].\n",
            "        %d  Day of the month as a decimal number [01,31].\n",
            "        %H  Hour (24-hour clock) as a decimal number [00,23].\n",
            "        %M  Minute as a decimal number [00,59].\n",
            "        %S  Second as a decimal number [00,61].\n",
            "        %z  Time zone offset from UTC.\n",
            "        %a  Locale's abbreviated weekday name.\n",
            "        %A  Locale's full weekday name.\n",
            "        %b  Locale's abbreviated month name.\n",
            "        %B  Locale's full month name.\n",
            "        %c  Locale's appropriate date and time representation.\n",
            "        %I  Hour (12-hour clock) as a decimal number [01,12].\n",
            "        %p  Locale's equivalent of either AM or PM.\n",
            "        \n",
            "        Other codes may be available on your platform.  See documentation for\n",
            "        the C library strftime function.\n",
            "    \n",
            "    strptime(...)\n",
            "        strptime(string, format) -> struct_time\n",
            "        \n",
            "        Parse a string to a time tuple according to a format specification.\n",
            "        See the library reference manual for formatting codes (same as\n",
            "        strftime()).\n",
            "        \n",
            "        Commonly used format codes:\n",
            "        \n",
            "        %Y  Year with century as a decimal number.\n",
            "        %m  Month as a decimal number [01,12].\n",
            "        %d  Day of the month as a decimal number [01,31].\n",
            "        %H  Hour (24-hour clock) as a decimal number [00,23].\n",
            "        %M  Minute as a decimal number [00,59].\n",
            "        %S  Second as a decimal number [00,61].\n",
            "        %z  Time zone offset from UTC.\n",
            "        %a  Locale's abbreviated weekday name.\n",
            "        %A  Locale's full weekday name.\n",
            "        %b  Locale's abbreviated month name.\n",
            "        %B  Locale's full month name.\n",
            "        %c  Locale's appropriate date and time representation.\n",
            "        %I  Hour (12-hour clock) as a decimal number [01,12].\n",
            "        %p  Locale's equivalent of either AM or PM.\n",
            "        \n",
            "        Other codes may be available on your platform.  See documentation for\n",
            "        the C library strftime function.\n",
            "    \n",
            "    thread_time(...)\n",
            "        thread_time() -> float\n",
            "        \n",
            "        Thread time for profiling: sum of the kernel and user-space CPU time.\n",
            "    \n",
            "    thread_time_ns(...)\n",
            "        thread_time() -> int\n",
            "        \n",
            "        Thread time for profiling as nanoseconds:\n",
            "        sum of the kernel and user-space CPU time.\n",
            "    \n",
            "    time(...)\n",
            "        time() -> floating point number\n",
            "        \n",
            "        Return the current time in seconds since the Epoch.\n",
            "        Fractions of a second may be present if the system clock provides them.\n",
            "    \n",
            "    time_ns(...)\n",
            "        time_ns() -> int\n",
            "        \n",
            "        Return the current time in nanoseconds since the Epoch.\n",
            "    \n",
            "    tzset(...)\n",
            "        tzset()\n",
            "        \n",
            "        Initialize, or reinitialize, the local timezone to the value stored in\n",
            "        os.environ['TZ']. The TZ environment variable should be specified in\n",
            "        standard Unix timezone format as documented in the tzset man page\n",
            "        (eg. 'US/Eastern', 'Europe/Amsterdam'). Unknown timezones will silently\n",
            "        fall back to UTC. If the TZ environment variable is not set, the local\n",
            "        timezone is set to the systems best guess of wallclock time.\n",
            "        Changing the TZ environment variable without calling tzset *may* change\n",
            "        the local timezone used by methods such as localtime, but this behaviour\n",
            "        should not be relied on.\n",
            "\n",
            "DATA\n",
            "    CLOCK_BOOTTIME = 7\n",
            "    CLOCK_MONOTONIC = 1\n",
            "    CLOCK_MONOTONIC_RAW = 4\n",
            "    CLOCK_PROCESS_CPUTIME_ID = 2\n",
            "    CLOCK_REALTIME = 0\n",
            "    CLOCK_TAI = 11\n",
            "    CLOCK_THREAD_CPUTIME_ID = 3\n",
            "    altzone = 0\n",
            "    daylight = 0\n",
            "    timezone = 0\n",
            "    tzname = ('UTC', 'UTC')\n",
            "\n",
            "FILE\n",
            "    (built-in)\n",
            "\n",
            "\n"
          ]
        }
      ]
    },
    {
      "cell_type": "code",
      "source": [
        "a = time.time()\n",
        "\n",
        "# in the dictionary -- time(...)\n",
        "        # time() -> floating point number"
      ],
      "metadata": {
        "id": "LitzLQ70vupv"
      },
      "id": "LitzLQ70vupv",
      "execution_count": null,
      "outputs": []
    },
    {
      "cell_type": "code",
      "source": [
        "print(a)"
      ],
      "metadata": {
        "id": "Dk54Y-XuvunK",
        "colab": {
          "base_uri": "https://localhost:8080/"
        },
        "outputId": "f6c2a1a7-3251-457c-ee51-7ba5c6351166"
      },
      "id": "Dk54Y-XuvunK",
      "execution_count": null,
      "outputs": [
        {
          "output_type": "stream",
          "name": "stdout",
          "text": [
            "1710380070.204349\n"
          ]
        }
      ]
    },
    {
      "cell_type": "code",
      "source": [
        "b = time.time()\n",
        "print(b)"
      ],
      "metadata": {
        "id": "e5nmJvMmvuUS",
        "colab": {
          "base_uri": "https://localhost:8080/"
        },
        "outputId": "16800665-30e9-4d34-8980-721fd5311719"
      },
      "id": "e5nmJvMmvuUS",
      "execution_count": null,
      "outputs": [
        {
          "output_type": "stream",
          "name": "stdout",
          "text": [
            "1710380112.8557599\n"
          ]
        }
      ]
    },
    {
      "cell_type": "code",
      "source": [
        "print('소요시간:', b-a)"
      ],
      "metadata": {
        "id": "YymyMicJv8ON",
        "colab": {
          "base_uri": "https://localhost:8080/"
        },
        "outputId": "8a7727af-b77e-41a7-c559-95d1bb6439ec"
      },
      "id": "YymyMicJv8ON",
      "execution_count": null,
      "outputs": [
        {
          "output_type": "stream",
          "name": "stdout",
          "text": [
            "소요시간: 42.651410818099976\n"
          ]
        }
      ]
    }
  ],
  "metadata": {
    "kernelspec": {
      "display_name": "Python 3 (ipykernel)",
      "language": "python",
      "name": "python3"
    },
    "language_info": {
      "codemirror_mode": {
        "name": "ipython",
        "version": 3
      },
      "file_extension": ".py",
      "mimetype": "text/x-python",
      "name": "python",
      "nbconvert_exporter": "python",
      "pygments_lexer": "ipython3",
      "version": "3.11.2"
    },
    "colab": {
      "provenance": [],
      "include_colab_link": true
    }
  },
  "nbformat": 4,
  "nbformat_minor": 5
}