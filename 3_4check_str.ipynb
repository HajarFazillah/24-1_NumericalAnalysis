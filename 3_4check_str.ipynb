{
  "cells": [
    {
      "cell_type": "markdown",
      "metadata": {
        "id": "view-in-github",
        "colab_type": "text"
      },
      "source": [
        "<a href=\"https://colab.research.google.com/github/HajarFazillah/24-1_NumericalAnalysis/blob/main/3_4check_str.ipynb\" target=\"_parent\"><img src=\"https://colab.research.google.com/assets/colab-badge.svg\" alt=\"Open In Colab\"/></a>"
      ]
    },
    {
      "cell_type": "code",
      "execution_count": null,
      "id": "bedd3fad",
      "metadata": {
        "id": "bedd3fad"
      },
      "outputs": [],
      "source": [
        "# Q. 주어진 숫자에 세자리마다 ','를 넣어보자~\n",
        "# Q. For a given number, add commas every three digits.\n",
        "money ='123456789'\n",
        "# money ='123'인 경우도 고려할 것!\n",
        "# Consider also the number of only three digits.\n",
        "\n",
        "# 답안 작성\n",
        "\n",
        "\n",
        "\n",
        "\n",
        "\n",
        "\n",
        "\n",
        "\n",
        "\n",
        "\n",
        "\n",
        "\n",
        "\n",
        "\n",
        "\n",
        "\n",
        "\n",
        "\n",
        "\n",
        "\n",
        "\n",
        "\n"
      ]
    },
    {
      "cell_type": "markdown",
      "source": [
        "# 그냥답안"
      ],
      "metadata": {
        "id": "mRBGYqcqq8RW"
      },
      "id": "mRBGYqcqq8RW"
    },
    {
      "cell_type": "code",
      "execution_count": null,
      "id": "e1e85b8c",
      "metadata": {
        "id": "e1e85b8c"
      },
      "outputs": [],
      "source": [
        "#A. 그냥답안\n",
        "money2 = money[::-1]\n",
        "# print(money2)\n",
        "\n",
        "cn = len(money)//3  # cn=comma number\n",
        "money3 = ''\n",
        "if cn<1:\n",
        "    money3 = money2\n",
        "else:\n",
        "    if len(money)%3==0:\n",
        "        for  i in range(cn-1):\n",
        "            money3 += money2[i*3:i*3+3] + ','\n",
        "        money3 += money2[(cn-1)*3:]\n",
        "    else:\n",
        "        for i in range(cn):\n",
        "            money3 += money2[i: i + 3] + ','\n",
        "        money3 += money2[cn* 3:]\n",
        "\n",
        "# print(money3)\n",
        "\n",
        "money3 = money3[::-1]\n",
        "print(money3)"
      ]
    }
  ],
  "metadata": {
    "kernelspec": {
      "display_name": "Python 3 (ipykernel)",
      "language": "python",
      "name": "python3"
    },
    "language_info": {
      "codemirror_mode": {
        "name": "ipython",
        "version": 3
      },
      "file_extension": ".py",
      "mimetype": "text/x-python",
      "name": "python",
      "nbconvert_exporter": "python",
      "pygments_lexer": "ipython3",
      "version": "3.11.2"
    },
    "colab": {
      "provenance": [],
      "include_colab_link": true
    }
  },
  "nbformat": 4,
  "nbformat_minor": 5
}