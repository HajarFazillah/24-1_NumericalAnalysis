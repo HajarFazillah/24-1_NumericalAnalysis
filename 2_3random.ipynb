{
  "cells": [
    {
      "cell_type": "markdown",
      "metadata": {
        "id": "view-in-github",
        "colab_type": "text"
      },
      "source": [
        "<a href=\"https://colab.research.google.com/github/HajarFazillah/24-1_NumericalAnalysis/blob/main/2_3random.ipynb\" target=\"_parent\"><img src=\"https://colab.research.google.com/assets/colab-badge.svg\" alt=\"Open In Colab\"/></a>"
      ]
    },
    {
      "cell_type": "code",
      "execution_count": null,
      "id": "29ce6d52",
      "metadata": {
        "id": "29ce6d52"
      },
      "outputs": [],
      "source": [
        "import random"
      ]
    },
    {
      "cell_type": "code",
      "source": [
        "print(random.random())  # float type이고 0이상 1미만의 수가 나온다."
      ],
      "metadata": {
        "id": "qbf4uLMtboTr",
        "colab": {
          "base_uri": "https://localhost:8080/"
        },
        "outputId": "05a3661e-5e2e-402b-e3cc-cc9fb85b7530"
      },
      "id": "qbf4uLMtboTr",
      "execution_count": null,
      "outputs": [
        {
          "output_type": "stream",
          "name": "stdout",
          "text": [
            "0.880756757185279\n"
          ]
        }
      ]
    },
    {
      "cell_type": "code",
      "source": [
        "# random number가 0이상 3미만이 되도록 하자!!\n",
        "\n",
        "random.random()+random.random()+random.random()\n",
        "# random.random()*3\n"
      ],
      "metadata": {
        "colab": {
          "base_uri": "https://localhost:8080/"
        },
        "id": "R75vx_DqPA4K",
        "outputId": "5dccf47e-2c0f-48b2-8a26-2375117e5956"
      },
      "id": "R75vx_DqPA4K",
      "execution_count": null,
      "outputs": [
        {
          "output_type": "execute_result",
          "data": {
            "text/plain": [
              "1.6420121213618781"
            ]
          },
          "metadata": {},
          "execution_count": 10
        }
      ]
    },
    {
      "cell_type": "code",
      "source": [
        "# random number가 1이상 2미만이 되도록 하자!!\n",
        "random.random()+1\n"
      ],
      "metadata": {
        "colab": {
          "base_uri": "https://localhost:8080/"
        },
        "id": "dt7zJ-xiPAjL",
        "outputId": "cdf2bb5d-a5e2-4726-9b25-c620f419d992"
      },
      "id": "dt7zJ-xiPAjL",
      "execution_count": null,
      "outputs": [
        {
          "output_type": "execute_result",
          "data": {
            "text/plain": [
              "1.8611395847038148"
            ]
          },
          "metadata": {},
          "execution_count": 11
        }
      ]
    },
    {
      "cell_type": "code",
      "source": [
        "# Q1. random number가 1이상 4미만이 되도록 하자!!\n",
        "a = random.random()*3+1\n",
        "print(a)\n"
      ],
      "metadata": {
        "id": "80pNQIdXbtWD",
        "colab": {
          "base_uri": "https://localhost:8080/"
        },
        "outputId": "9c33ab15-af38-474b-fd4b-3ae27b4b9f02"
      },
      "id": "80pNQIdXbtWD",
      "execution_count": null,
      "outputs": [
        {
          "output_type": "stream",
          "name": "stdout",
          "text": [
            "1.7245816293037952\n"
          ]
        }
      ]
    },
    {
      "cell_type": "markdown",
      "source": [
        "0 ≤ x < 1\n",
        "\n",
        "\n",
        "1 ≤  ??? ≤ 4\n",
        "\n",
        "\n",
        "??? = 3x+1"
      ],
      "metadata": {
        "id": "kLSiWaY6-4xI"
      },
      "id": "kLSiWaY6-4xI"
    },
    {
      "cell_type": "code",
      "source": [
        "# A.\n"
      ],
      "metadata": {
        "id": "ruToFlJz_m6Q"
      },
      "id": "ruToFlJz_m6Q",
      "execution_count": null,
      "outputs": []
    },
    {
      "cell_type": "code",
      "execution_count": null,
      "id": "585cbbe2",
      "metadata": {
        "id": "585cbbe2",
        "outputId": "bdea0c20-b3ce-4b3c-e74a-cf028ae8227a",
        "colab": {
          "base_uri": "https://localhost:8080/"
        }
      },
      "outputs": [
        {
          "output_type": "stream",
          "name": "stdout",
          "text": [
            "가위바위보 중 하나를 선택하세요 : 가위\n",
            "나: 가위\n",
            "컴퓨터 : 보\n"
          ]
        }
      ],
      "source": [
        "# 컴퓨터랑 가위바위보 게임하기\n",
        "\n",
        "input_value = input('가위바위보 중 하나를 선택하세요 : ')\n",
        "\n",
        "rsp = ('','가위','바위','보') # normal bracket: tuple\n",
        "\n",
        "usr = rsp.index(input_value)  # .index\n",
        "cpt = random.randint(1, 3)    # randint 정수를 줘\n",
        "\n",
        "print('나:', rsp[usr])\n",
        "print('컴퓨터 :',rsp[cpt])"
      ]
    },
    {
      "cell_type": "code",
      "execution_count": null,
      "id": "8a52b312-fcb9-49f9-89e4-f0077ee9e73b",
      "metadata": {
        "id": "8a52b312-fcb9-49f9-89e4-f0077ee9e73b"
      },
      "outputs": [],
      "source": [
        "# Q2. 나와 컴퓨터 중 누가 이겼는지 정하시오.\n",
        "\n",
        "# 답안작성\n",
        "# try buat macam mana nak tulis code untuk check siapa yang menang\n",
        "# either computer menang atau user input\n",
        "\n",
        "\n",
        "\n",
        "\n",
        "\n",
        "\n",
        "\n",
        "\n",
        "\n",
        "\n",
        "\n",
        "\n",
        "\n",
        "\n",
        "\n",
        "\n",
        "\n",
        "\n",
        "\n",
        "\n",
        "\n",
        "\n",
        "\n",
        "\n",
        "\n",
        "\n",
        "\n",
        "\n"
      ]
    },
    {
      "cell_type": "code",
      "execution_count": null,
      "id": "50cc1cd3",
      "metadata": {
        "id": "50cc1cd3"
      },
      "outputs": [],
      "source": [
        "# A2.그냥(?) 답안\n",
        "\n",
        "if usr == cpt:\n",
        "    print('tie')\n",
        "elif usr == 1:\n",
        "    if cpt == 3 :\n",
        "        print('you win')\n",
        "    else :\n",
        "        print('you lose')\n",
        "elif usr == 2:\n",
        "    if cpt == 1 :\n",
        "        print('you win')\n",
        "    else :\n",
        "        print('you lose')\n",
        "elif usr == 3:\n",
        "    if cpt == 2 :\n",
        "        print('you win')\n",
        "    else :\n",
        "        print('you lose')"
      ]
    },
    {
      "cell_type": "code",
      "execution_count": null,
      "id": "c998223f",
      "metadata": {
        "id": "c998223f"
      },
      "outputs": [],
      "source": []
    }
  ],
  "metadata": {
    "kernelspec": {
      "display_name": "Python 3 (ipykernel)",
      "language": "python",
      "name": "python3"
    },
    "language_info": {
      "codemirror_mode": {
        "name": "ipython",
        "version": 3
      },
      "file_extension": ".py",
      "mimetype": "text/x-python",
      "name": "python",
      "nbconvert_exporter": "python",
      "pygments_lexer": "ipython3",
      "version": "3.11.2"
    },
    "colab": {
      "provenance": [],
      "include_colab_link": true
    }
  },
  "nbformat": 4,
  "nbformat_minor": 5
}